{
 "cells": [
  {
   "cell_type": "markdown",
   "metadata": {},
   "source": [
    "# Курс \"Программирование на языке Python. Уровень 4. Анализ и визуализация данных на языке Python. Библиотеки numpy, pandas, matplotlib\"\n",
    "\n",
    "## Модуль 9. Временные ряды в pandas\n",
    "\n",
    "1. Работа с датами в Python\n",
    "2. Объект TimeSeries в Pandas - особенности, срезы и пр.\n",
    "4. Частоты и периоды, ресемплинг, сдвиг\n",
    "5. Статистический анализ временных рядов: \"скользящее окно\" и STL-декомпозиция\n",
    "\n",
    "Для работы загрузите в директорию ```data``` следующие данные (их можно загрузить прямо отсюда, через \"Сохранить как...\"):\n",
    "- [data/macrodata.csv](https://github.com/easyise/spec_python_courses/raw/master/python04-analysis/data/macrodata.csv)\n",
    "- [data/web_traffic.tsv](https://github.com/easyise/spec_python_courses/raw/master/python04-analysis/data/web_traffic.tsv)\n",
    "- [data/monthly-temperature-in-celsius-j.csv](https://github.com/easyise/spec_python_courses/raw/master/python04-analysis/data/monthly-temperature-in-celsius-j.csv)\n",
    "- [data/monthly-australian-wine-sales.csv](https://github.com/easyise/spec_python_courses/raw/master/python04-analysis/data/monthly-australian-wine-sales.csv)\n"
   ]
  },
  {
   "cell_type": "code",
   "execution_count": null,
   "metadata": {},
   "outputs": [],
   "source": [
    "import numpy as np\n",
    "import pandas as pd\n",
    "import seaborn as sns\n",
    "import matplotlib.pyplot as plt\n",
    "\n",
    "from datetime import datetime\n",
    "from datetime import date\n",
    "from datetime import timedelta\n",
    "\n",
    "import statsmodels.api as sm\n",
    "\n",
    "plt.rcParams['figure.figsize'] = (7.0, 7.0)\n",
    "%matplotlib inline\n"
   ]
  },
  {
   "cell_type": "code",
   "execution_count": null,
   "metadata": {},
   "outputs": [],
   "source": [
    "!conda install -y statsmodels"
   ]
  },
  {
   "cell_type": "markdown",
   "metadata": {},
   "source": [
    "### Дата и время в Python\n",
    "\n",
    "Модуль для работы с датами - ```datetime```.\n",
    "\n",
    "В нем следующие классы:\n",
    "- datetime.date\n",
    "- datetime.datetime \\\n",
    "и \n",
    "- datetime.timedelta\n",
    "\n",
    "При работе ориентируемся на ISO-стандарт хранения даты и времени в виде текстовой строки: \\\n",
    "```YYYY-MM-DD HH:MM:SS.mmm```.\n",
    "\n",
    "Этот старндарт используется в SQL, JavaScript и других языках программирования, принимается множеством API.\n",
    "\n",
    "Для создания даты из такой строки используйте метод ```datetime.fromisoformat()```.\n",
    "Сохранить дату в ISO-формате: ```datetime.isoformat()```.\n",
    "\n",
    "Текущее местное время: ```datetime.now()```, дата - ```date.today()```. Время по UTC: ```datetime.utcnow()```\n",
    "\n",
    "**ВНИМАНИЕ!** Смещение часового пояса относительно UTC используйте только если вы действительно работаете с данными в разных часовых поясах. Если это не требуется (и не может портребоваться в перспективе) - не используйте этот параметр."
   ]
  },
  {
   "cell_type": "code",
   "execution_count": null,
   "metadata": {},
   "outputs": [],
   "source": [
    "now = datetime.now()\n",
    "print(now.timestamp())\n",
    "print(now.isoformat())\n",
    "\n",
    "unixEpoch = datetime.fromisoformat(\"1970-01-02 03:00\")\n",
    "print(unixEpoch.timestamp())\n",
    "print(unixEpoch.isoformat())\n",
    "\n",
    "# то же самое - с датами\n",
    "today = date.today()\n",
    "print(today.isoformat())\n",
    "\n",
    "# Можно создать дату, зная месяц, год и число:\n",
    "gagarin_date = date(1961, 4, 12)\n",
    "print(gagarin_date)"
   ]
  },
  {
   "cell_type": "markdown",
   "metadata": {},
   "source": [
    "Преобразование дат в строку: ```datetime.strftime()```\n",
    "\n",
    "Пример преобразования в строку в соответствии с ISO-форматом:\n",
    "```somedate.strftime('%Y-%m-%d %H:%M:%S')```\n",
    "\n",
    "#### ЗАДАНИЕ. Преобразуйте текущее время в формат ДД.ММ.ГГГГ ЧЧ:ММ"
   ]
  },
  {
   "cell_type": "code",
   "execution_count": null,
   "metadata": {},
   "outputs": [],
   "source": [
    "# ваш код здесь\n"
   ]
  },
  {
   "cell_type": "markdown",
   "metadata": {},
   "source": [
    "Преобразование дат из строки осуществляется при помощи функции ```datetime.strptime(string, format)```, где ```string``` - строка, которую нужно парсить, а ```format``` - строка с директивами форматирования, такими же как в ```datetime.strftime()```"
   ]
  },
  {
   "cell_type": "code",
   "execution_count": null,
   "metadata": {},
   "outputs": [],
   "source": [
    "dt = datetime.strptime('07/22/2022', '%m/%d/%Y')\n",
    "dt"
   ]
  },
  {
   "cell_type": "markdown",
   "metadata": {},
   "source": [
    "#### Разница во времени, временные интервалы\n",
    "\n",
    "Используем класс ```timedelta```. \"Дельты\" можно складывать с датами и датой/временем, друг с другом, умножать и делить на число, а также сравнивать. Разность между двумя объектами ```datetime``` или ```date``` - это также ```timedelta```."
   ]
  },
  {
   "cell_type": "code",
   "execution_count": null,
   "metadata": {},
   "outputs": [],
   "source": [
    "delta = timedelta(\n",
    "    days=50,\\\n",
    "    seconds=27,\\\n",
    "    microseconds=10,\\\n",
    "    milliseconds=29000,\\\n",
    "    minutes=5,\\\n",
    "    hours=8,\\\n",
    "    weeks=2\\\n",
    ")\n",
    "\n",
    "now_plus_delta = now + delta\n",
    "print(now_plus_delta.isoformat())\n",
    "\n",
    "mins_15 = timedelta(minutes = 15) \n",
    "\n",
    "now_plus_half_hour = datetime.today() + mins_15*2\n",
    "print(now_plus_half_hour)\n",
    "\n",
    "print(now_plus_delta > now_plus_half_hour)"
   ]
  },
  {
   "cell_type": "markdown",
   "metadata": {},
   "source": [
    "#### ПРАКТИКА\n",
    "\n",
    "1. Создайте массив numpy из 10 дат, которые соответствуют текущей и далее + 10 дней.\n",
    "\n",
    "2. Создайте объект series, который включает все значаения времени, которые отстают от текущего на час, полчаса, 15 минут и так далее с точностью до минуты."
   ]
  },
  {
   "cell_type": "code",
   "execution_count": null,
   "metadata": {},
   "outputs": [],
   "source": [
    "now = datetime.now()\n",
    "# ваш код здесь\n"
   ]
  },
  {
   "cell_type": "markdown",
   "metadata": {},
   "source": [
    "### Объект TimeSeries\n",
    "\n",
    "Создадим простой временной ряд в pandas:"
   ]
  },
  {
   "cell_type": "code",
   "execution_count": null,
   "metadata": {},
   "outputs": [],
   "source": [
    "n = 10\n",
    "values = np.random.randn(n)\n",
    "dates = [ datetime.fromisoformat('2011-10-19') + i*timedelta(days=2) for i in range(n) ]\n",
    "ts = pd.Series(values, index=dates)\n",
    "ts"
   ]
  },
  {
   "cell_type": "code",
   "execution_count": null,
   "metadata": {},
   "outputs": [],
   "source": [
    "ts.index"
   ]
  },
  {
   "cell_type": "code",
   "execution_count": null,
   "metadata": {},
   "outputs": [],
   "source": [
    "ts.index.dtype # данные в индексе хранятся с точностью до наносекунды"
   ]
  },
  {
   "cell_type": "markdown",
   "metadata": {},
   "source": [
    "К временному ряду можно обращаться по порядковому номеру позиции или по дате в iso-формате:"
   ]
  },
  {
   "cell_type": "code",
   "execution_count": null,
   "metadata": {},
   "outputs": [],
   "source": [
    "ts[0]"
   ]
  },
  {
   "cell_type": "code",
   "execution_count": null,
   "metadata": {},
   "outputs": [],
   "source": [
    "ts['2011-10-21']"
   ]
  },
  {
   "cell_type": "markdown",
   "metadata": {},
   "source": [
    "...а также по части даты, которая может быть интерпретирована как день, месяц, год (час, минута, секунда и пр.)"
   ]
  },
  {
   "cell_type": "code",
   "execution_count": null,
   "metadata": {},
   "outputs": [],
   "source": [
    "n = 1000\n",
    "ts_long = pd.Series(np.random.randn(n), \\\n",
    "               index=[ datetime.fromisoformat('2020-10-19') + i*timedelta(days=2) for i in range(n)])"
   ]
  },
  {
   "cell_type": "code",
   "execution_count": null,
   "metadata": {},
   "outputs": [],
   "source": [
    "ts_long['2021']"
   ]
  },
  {
   "cell_type": "code",
   "execution_count": null,
   "metadata": {},
   "outputs": [],
   "source": [
    "ts_long['2020-12']"
   ]
  },
  {
   "cell_type": "markdown",
   "metadata": {},
   "source": [
    "...срезы тоже работают:"
   ]
  },
  {
   "cell_type": "code",
   "execution_count": null,
   "metadata": {},
   "outputs": [],
   "source": [
    "ts_long['2020-10-21':'2020-11-02']"
   ]
  },
  {
   "cell_type": "code",
   "execution_count": null,
   "metadata": {},
   "outputs": [],
   "source": [
    "ts_long[:datetime.today()]"
   ]
  },
  {
   "cell_type": "markdown",
   "metadata": {},
   "source": [
    "Также для этого можно использовать метод ```truncate()``` - это выражение читается как \"обрежь все до ...\":"
   ]
  },
  {
   "cell_type": "code",
   "execution_count": null,
   "metadata": {},
   "outputs": [],
   "source": [
    "ts_long.truncate( before=pd.to_datetime('2026-03-01') )"
   ]
  },
  {
   "cell_type": "markdown",
   "metadata": {},
   "source": [
    "__ЗАДАНИЕ:__ выведите данные, которые у нас есть в ряду ts_long на апрель 2023 года, просуммируйте их"
   ]
  },
  {
   "cell_type": "code",
   "execution_count": null,
   "metadata": {},
   "outputs": [],
   "source": [
    "# ваш код здесь\n"
   ]
  },
  {
   "cell_type": "markdown",
   "metadata": {},
   "source": [
    "## Диапазоны дат, ресемплинг, сдвиг\n",
    "\n",
    "Для генерации диапазонов дат можно использовать метод ```date_range()```:"
   ]
  },
  {
   "cell_type": "code",
   "execution_count": null,
   "metadata": {},
   "outputs": [],
   "source": [
    "index = pd.date_range('2020-10-01', '2020-12-01')\n",
    "index"
   ]
  },
  {
   "cell_type": "markdown",
   "metadata": {},
   "source": [
    "Можно задать не диапазон дат, а стартовое или конечное значение и количество элементов:"
   ]
  },
  {
   "cell_type": "code",
   "execution_count": null,
   "metadata": {},
   "outputs": [],
   "source": [
    "pd.date_range('2020-10-19 15:00', periods=20)"
   ]
  },
  {
   "cell_type": "code",
   "execution_count": null,
   "metadata": {},
   "outputs": [],
   "source": [
    "pd.date_range(end='2020-11-02', periods=20)"
   ]
  },
  {
   "cell_type": "markdown",
   "metadata": {},
   "source": [
    "Обратите внимание на свойство ```freq``` - параметр с таким именем задаст частоту генерации временного ряда. Наиболее часто используемые значения этого параметра следующие:\n",
    "- B - каждый рабочий день\n",
    "- D - каждый календарный день\n",
    "- W - каждая неделя\n",
    "- MS - каждый первый день месяца\n",
    "- M - каждый последний день месяца\n",
    "- QS- начало квартала\n",
    "- Q - конец квартала\n",
    "- AS, YS - начало года\n",
    "- A, Y- конец года\n",
    "- H - каждый час\n",
    "- T, min - каждая минута\n",
    "- S - каждая секундна\n",
    "\n",
    "... и так далее, до наносекунд.\n",
    "\n",
    "Можно использовать более сложные сочетания значений. Например, для анализа финансового года/квартала в случае, когда год заканчивается в апреле:\n",
    " - Q-APR - ежеквартально, первый квартал будет заканчиваться в апреле.\n",
    " - A-APR - ежегодно с окончанием периода в апреле.\n",
    " \n",
    "Пример:"
   ]
  },
  {
   "cell_type": "code",
   "execution_count": null,
   "metadata": {},
   "outputs": [],
   "source": [
    "ts = pd.date_range('2020-01-01', periods=4, freq='QS-APR')\n",
    "ts"
   ]
  },
  {
   "cell_type": "code",
   "execution_count": null,
   "metadata": {},
   "outputs": [],
   "source": [
    "ts_A = pd.date_range('2020-01-01', periods=4, freq='YE-APR')\n",
    "ts_A"
   ]
  },
  {
   "cell_type": "markdown",
   "metadata": {},
   "source": [
    "Также можно задавать кратность частоты:"
   ]
  },
  {
   "cell_type": "code",
   "execution_count": null,
   "metadata": {},
   "outputs": [],
   "source": [
    "pd.date_range(datetime.today(), periods=10, freq='2h30min')"
   ]
  },
  {
   "cell_type": "markdown",
   "metadata": {},
   "source": [
    "Еще часто используются периоды с обращением в определенный день недели месяца, например вот код для генерации последовательности для каждой третьей пятницы месяца:"
   ]
  },
  {
   "cell_type": "code",
   "execution_count": null,
   "metadata": {},
   "outputs": [],
   "source": [
    "pd.date_range(date.today(), periods=10, freq='WOM-3FRI')"
   ]
  },
  {
   "cell_type": "markdown",
   "metadata": {},
   "source": [
    "Диапазон данных можно сдвигать с опережением и запаздыванием с помощью метода ```shift()```. Это делается, например, для сравнения относительных изменений в одном или нескольких временных рядах."
   ]
  },
  {
   "cell_type": "code",
   "execution_count": null,
   "metadata": {},
   "outputs": [],
   "source": [
    "ts = pd.Series(np.random.randn(4),\n",
    "               index=pd.date_range('2000-01-01', periods=4, freq='MS'))\n",
    "ts"
   ]
  },
  {
   "cell_type": "code",
   "execution_count": null,
   "metadata": {},
   "outputs": [],
   "source": [
    "ts.shift(2) # сдвиг на 2 периода вперед"
   ]
  },
  {
   "cell_type": "code",
   "execution_count": null,
   "metadata": {},
   "outputs": [],
   "source": [
    "ts.shift(-2) # сдвиг на 2 периода назад"
   ]
  },
  {
   "cell_type": "markdown",
   "metadata": {},
   "source": [
    "НО! Такой \"фокус\" не пройдет, если у вас индекс состоит не из ```PeriodObject```, а временных меток (```TimeStamp```)."
   ]
  },
  {
   "cell_type": "code",
   "execution_count": null,
   "metadata": {},
   "outputs": [],
   "source": [
    "rng = pd.date_range('2000-01-01', periods=12, freq='MS')\n",
    "ts = pd.Series(np.random.randn(12), index=rng)\n",
    "ts.index"
   ]
  },
  {
   "cell_type": "markdown",
   "metadata": {},
   "source": [
    "Преобразовать индекс из временных меток в периоды можно функцией ```to_period()```."
   ]
  },
  {
   "cell_type": "code",
   "execution_count": null,
   "metadata": {},
   "outputs": [],
   "source": [
    "pts = ts.to_period('M')\n",
    "pts"
   ]
  },
  {
   "cell_type": "markdown",
   "metadata": {},
   "source": [
    "Для чего это может быть нужно? Например, сделать агрегатные вычисления с группировкой по более крупному периоду."
   ]
  },
  {
   "cell_type": "code",
   "execution_count": null,
   "metadata": {},
   "outputs": [],
   "source": [
    "pts = ts.groupby(ts.index.to_period('Q')).sum()\n",
    "pts"
   ]
  },
  {
   "cell_type": "code",
   "execution_count": null,
   "metadata": {},
   "outputs": [],
   "source": [
    "rng = pd.date_range('2000-01-29', periods=6, freq='D')\n",
    "ts2 = pd.Series(np.random.randn(6), index=rng)\n",
    "ts2\n"
   ]
  },
  {
   "cell_type": "code",
   "execution_count": null,
   "metadata": {},
   "outputs": [],
   "source": [
    "pts2 = ts2.to_period('M')\n",
    "pts2"
   ]
  },
  {
   "cell_type": "markdown",
   "metadata": {},
   "source": [
    "Обратное преобразование выполняется методом ```to_timestamp()```"
   ]
  },
  {
   "cell_type": "code",
   "execution_count": null,
   "metadata": {},
   "outputs": [],
   "source": [
    "pts2.to_timestamp(how='end')"
   ]
  },
  {
   "cell_type": "markdown",
   "metadata": {},
   "source": [
    "__ЗАДАНИЕ__: Загрузите данные с ежечасной статистикой веб-трафика ```data/web_traffic.tsv```. Увы, дата начала сбора статистики неизвестна, известно, что последняя запись сделана 10 ноября 2019 года, 23:00. Задайте индекс в виде даты/времени."
   ]
  },
  {
   "cell_type": "code",
   "execution_count": null,
   "metadata": {},
   "outputs": [],
   "source": [
    "web_traffic = pd.read_csv('data/web_traffic.tsv', sep='\\t', header=None, names=['Hour', 'ReqsPerHour'])\n",
    "web_traffic.head()\n",
    "\n",
    "# ваш код здесь"
   ]
  },
  {
   "cell_type": "markdown",
   "metadata": {},
   "source": [
    "Как \"вытащить\" периоды из загруженного датасета:"
   ]
  },
  {
   "cell_type": "code",
   "execution_count": null,
   "metadata": {},
   "outputs": [],
   "source": [
    "data = pd.read_csv('data/macrodata.csv')\n",
    "data.head(5)"
   ]
  },
  {
   "cell_type": "code",
   "execution_count": null,
   "metadata": {},
   "outputs": [],
   "source": [
    "data.year\n",
    "data.quarter"
   ]
  },
  {
   "cell_type": "code",
   "execution_count": null,
   "metadata": {},
   "outputs": [],
   "source": [
    "index = pd.PeriodIndex(year=data.year, quarter=data.quarter,\n",
    "                       freq='Q-DEC')\n",
    "index"
   ]
  },
  {
   "cell_type": "code",
   "execution_count": null,
   "metadata": {},
   "outputs": [],
   "source": [
    "data.index = index\n",
    "data.infl.plot()"
   ]
  },
  {
   "cell_type": "markdown",
   "metadata": {},
   "source": [
    "__ЗАДАНИЕ__:\n",
    "\n",
    "Загрузите датасет c данными по месячным температурам, постройте график. Сдвиньте график на год, на 2 года и на 5 лет, сравните. "
   ]
  },
  {
   "cell_type": "code",
   "execution_count": null,
   "metadata": {},
   "outputs": [],
   "source": [
    "plt.figure(figsize=(10,6))\n",
    "temps = pd.read_csv('data/monthly-temperature-in-celsius-j.csv',\n",
    "                      index_col=['Month'], parse_dates=['Month'], \n",
    "                      dayfirst=True)\n",
    "# ваш код здесь\n"
   ]
  },
  {
   "cell_type": "markdown",
   "metadata": {},
   "source": [
    "### Ресемплинг\n"
   ]
  },
  {
   "cell_type": "markdown",
   "metadata": {},
   "source": [
    "Повышающая дискретизация, upsampling"
   ]
  },
  {
   "cell_type": "code",
   "execution_count": null,
   "metadata": {},
   "outputs": [],
   "source": [
    "rng = pd.date_range('2020-01-01', periods=12, freq='T')\n",
    "ts = pd.Series(np.arange(12), index=rng)\n",
    "ts"
   ]
  },
  {
   "cell_type": "code",
   "execution_count": null,
   "metadata": {},
   "outputs": [],
   "source": [
    "ts.resample('5min', closed='right').sum()"
   ]
  },
  {
   "cell_type": "markdown",
   "metadata": {},
   "source": [
    "Понижающая дискретизация, downsampling"
   ]
  },
  {
   "cell_type": "code",
   "execution_count": null,
   "metadata": {},
   "outputs": [],
   "source": [
    "frame = pd.DataFrame(np.random.randn(2, 4),\n",
    "                     index=pd.date_range('1/1/2000', periods=2,\n",
    "                                         freq='W-WED'),\n",
    "                     columns=['Colorado', 'Texas', 'New York', 'Ohio'])\n",
    "frame"
   ]
  },
  {
   "cell_type": "code",
   "execution_count": null,
   "metadata": {},
   "outputs": [],
   "source": [
    "df_daily = frame.resample('D').asfreq()\n",
    "df_daily"
   ]
  },
  {
   "cell_type": "code",
   "execution_count": null,
   "metadata": {},
   "outputs": [],
   "source": [
    "frame.resample('D').ffill()"
   ]
  },
  {
   "cell_type": "code",
   "execution_count": null,
   "metadata": {},
   "outputs": [],
   "source": [
    "frame.resample('D').ffill().plot()"
   ]
  },
  {
   "cell_type": "markdown",
   "metadata": {},
   "source": [
    "__ЗАДАНИЕ__: Для температурного датасета проеобразуйте период в \"весна\"-\"лето\"-\"осень\"-\"зима\" и постройте график. Сделайте сдвиги."
   ]
  },
  {
   "cell_type": "code",
   "execution_count": null,
   "metadata": {},
   "outputs": [],
   "source": [
    "temperatures = pd.read_csv('data/monthly-temperature-in-celsius-j.csv',\n",
    "                      index_col=['Month'], parse_dates=['Month'], \n",
    "                      dayfirst=True)\n",
    "# ваш код здесь"
   ]
  },
  {
   "cell_type": "markdown",
   "metadata": {},
   "source": [
    "## Статистический анализ временных рядов\n",
    "\n",
    "Пример \"скользящего среднего\"."
   ]
  },
  {
   "cell_type": "code",
   "execution_count": null,
   "metadata": {},
   "outputs": [],
   "source": [
    "close_px_all = pd.read_csv('data/stock_px_2.csv', \\\n",
    "                           parse_dates=True, index_col=0)\n",
    "close_px = close_px_all[['AAPL', 'MSFT', 'XOM']]\n",
    "close_px = close_px.resample('B').ffill()\n",
    "plt.rcParams['figure.figsize'] = (10.0, 10.0)\n",
    "close_px['AAPL'].plot()"
   ]
  },
  {
   "cell_type": "code",
   "execution_count": null,
   "metadata": {},
   "outputs": [],
   "source": [
    "close_px = close_px['2008':'2008']\n",
    "\n",
    "close_px.AAPL.plot()\n",
    "#close_px.AAPL.rolling(50).mean().plot()\n",
    "close_px.AAPL.rolling(60).mean().plot()\n",
    "#close_px.AAPL.rolling(40).mean().plot()"
   ]
  },
  {
   "cell_type": "markdown",
   "metadata": {},
   "source": [
    "### STL-декомпозиция ряда\n",
    "\n",
    "Для анализа ряда с ярко выраженной сезонностью используется STL-декомпозиция.\n",
    "\n",
    "Она работает для двух моделей:\n",
    "\n",
    "1) Аддитивная модель: используется, когда отколнения от тренда не сильно варьируется в определенных временных интервалах. Тогда наш показатель может быть представлен суммой, вычисляемой по формуле:\\\n",
    "        y(t) = уровень(t) + тренд(t) + сезонность(t) + шум(t)\n",
    "    \n",
    "2) Мультипликативная модель - используется, когда размах сезонности имеет выраженную зависимость от времени и тренда:\\\n",
    "        y(t) = уровень(t) * тренд(t) * сеознность(t) * шум(t)\n",
    "        \n",
    "Рассмотрим на примере датасета \"продажи австралийского вина\"."
   ]
  },
  {
   "cell_type": "code",
   "execution_count": null,
   "metadata": {},
   "outputs": [],
   "source": [
    "plt.figure(figsize=(16,4))\n",
    "wine = pd.read_csv('data/monthly-australian-wine-sales.csv',\n",
    "                   index_col=['month'], parse_dates=['month'], \n",
    "                   dayfirst=True)\n",
    "wine.sales = wine.sales * 1000\n",
    "\n",
    "wine.sales.plot()\n",
    "plt.ylabel('Wine sales')"
   ]
  },
  {
   "cell_type": "code",
   "execution_count": null,
   "metadata": {},
   "outputs": [],
   "source": [
    "sm.tsa.seasonal_decompose?"
   ]
  },
  {
   "cell_type": "code",
   "execution_count": null,
   "metadata": {},
   "outputs": [],
   "source": [
    "decomposition = sm.tsa.seasonal_decompose(wine.sales)\n",
    "fig = decomposition.plot()\n",
    "fig.set_figwidth(16)\n",
    "fig.set_figheight(16)\n",
    "plt.show()"
   ]
  },
  {
   "cell_type": "markdown",
   "metadata": {},
   "source": [
    "Выведем отдельно тренд:"
   ]
  },
  {
   "cell_type": "code",
   "execution_count": null,
   "metadata": {},
   "outputs": [],
   "source": [
    "plt.figure(figsize=(16,4))\n",
    "plt.plot(decomposition.trend.index, decomposition.trend, c='red')"
   ]
  },
  {
   "cell_type": "markdown",
   "metadata": {},
   "source": [
    "__ЗАДАНИЕ__: выполните STL-декомпозицию для статистики по запросам веб-сервера - за последние 3 дня, последнюю неделю и предшествующую ей неделю. Данные собирались ежечасно c часу ночи 11 октября 2019 года."
   ]
  },
  {
   "cell_type": "code",
   "execution_count": null,
   "metadata": {},
   "outputs": [],
   "source": [
    "web_traffic = pd.read_csv('data/web_traffic.tsv', sep='\\t', header=None, names=['Day', 'ReqsPerHour'])\n",
    "web_traffic.head()\n",
    "# ваш код здесь\n"
   ]
  },
  {
   "cell_type": "code",
   "execution_count": null,
   "metadata": {},
   "outputs": [],
   "source": []
  }
 ],
 "metadata": {
  "kernelspec": {
   "display_name": "Python 3 (ipykernel)",
   "language": "python",
   "name": "python3"
  },
  "language_info": {
   "codemirror_mode": {
    "name": "ipython",
    "version": 3
   },
   "file_extension": ".py",
   "mimetype": "text/x-python",
   "name": "python",
   "nbconvert_exporter": "python",
   "pygments_lexer": "ipython3",
   "version": "3.12.3"
  }
 },
 "nbformat": 4,
 "nbformat_minor": 4
}
