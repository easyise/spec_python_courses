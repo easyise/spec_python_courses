{
 "cells": [
  {
   "cell_type": "markdown",
   "metadata": {},
   "source": [
    "# Программирование на языке Python. Уровень 4. \n",
    "# Анализ и визуализация данных на языке Python. Библиотеки numpy, pandas, matplotlib\"\n",
    "\n",
    "# Модуль 8. Библиотека matplotlib: визуализация данных\n",
    "\n",
    "1. Классификация информации цветом, формой линий и отметок\n",
    "2. Аннотации для аналитических данных\n",
    "3. Визуализация данных средствами пакета Seaborn\n",
    "4. Многофакторный визуальный анализ\n",
    "2. Работа с графическими изображениями\n",
    "5. Графики в 3D, интерактивный режим"
   ]
  },
  {
   "cell_type": "code",
   "execution_count": null,
   "metadata": {},
   "outputs": [],
   "source": [
    "import numpy as np\n",
    "import pandas as pd\n",
    "import seaborn as sns\n",
    "import matplotlib.pyplot as plt\n",
    "%matplotlib inline\n",
    "\n",
    "plt.rcParams['figure.figsize'] = (7.0, 7.0)"
   ]
  },
  {
   "cell_type": "code",
   "execution_count": null,
   "metadata": {},
   "outputs": [],
   "source": [
    "!conda install -y seaborn"
   ]
  },
  {
   "cell_type": "code",
   "execution_count": null,
   "metadata": {},
   "outputs": [],
   "source": [
    "!pip install seaborn"
   ]
  },
  {
   "cell_type": "markdown",
   "metadata": {},
   "source": [
    "## Классификация информации цветом и формой"
   ]
  },
  {
   "cell_type": "markdown",
   "metadata": {},
   "source": [
    "Обратите внимание на второй параметр функции ```plot()```"
   ]
  },
  {
   "cell_type": "code",
   "execution_count": null,
   "metadata": {},
   "outputs": [],
   "source": [
    "data = np.random.randn(30).cumsum()\n",
    "plt.plot(data, 'r:', label='Default')\n",
    "plt.plot(data, 'b-', drawstyle='steps-post', label='steps-post')\n",
    "plt.legend(loc='best')"
   ]
  },
  {
   "cell_type": "markdown",
   "metadata": {},
   "source": [
    "Первый вызов эквивалентен вызову функции с параметрами ```color='r', linestyle='dashed'```"
   ]
  },
  {
   "cell_type": "code",
   "execution_count": null,
   "metadata": {},
   "outputs": [],
   "source": [
    "plt.plot(data, color='r', linestyle='dashed', label='Default')"
   ]
  },
  {
   "cell_type": "markdown",
   "metadata": {},
   "source": [
    "Ознакомиться со всеми возможными стилями линий можно на сайте Matplotlib:\n",
    "https://matplotlib.org/3.1.1/gallery/lines_bars_and_markers/linestyles.html"
   ]
  },
  {
   "cell_type": "markdown",
   "metadata": {},
   "source": [
    "Можно добавить маркеры:"
   ]
  },
  {
   "cell_type": "code",
   "execution_count": null,
   "metadata": {},
   "outputs": [],
   "source": [
    "plt.plot(data, color='r', linestyle='dotted', label='Default', marker='o')"
   ]
  },
  {
   "cell_type": "markdown",
   "metadata": {},
   "source": [
    "На графики также можно наносить пояснительные надписи с указанием на те или иные точки:"
   ]
  },
  {
   "cell_type": "code",
   "execution_count": null,
   "metadata": {},
   "outputs": [],
   "source": [
    "from datetime import datetime \n",
    "\n",
    "fig = plt.figure() \n",
    "ax = fig.add_subplot(1, 1, 1) \n",
    "\n",
    "data = pd.read_csv('data/spx.csv', index_col=0, parse_dates=True, skiprows=[0], names=['date', 'SPX']) \n",
    "spx = data['SPX'] \n",
    "\n",
    "spx.plot(ax=ax, style='k-') \n",
    "\n",
    "crisis_data = [ \n",
    "    (pd.to_datetime('2007-10-11'), 'Peak of bull market'), \n",
    "    (pd.to_datetime('2008-03-12'), 'Bear Stearns Fails'), \n",
    "    (pd.to_datetime('2008-09-15'), 'Банкротство Lehman') \n",
    "] \n",
    "\n",
    "for date, label in crisis_data: \n",
    "    ax.annotate(label, xy=(date, spx.asof(date) + 75), \n",
    "        xytext=(date, spx.asof(date) + 225), \n",
    "        arrowprops=dict(facecolor='black', headwidth=4, width=2, \n",
    "        headlength=4), \n",
    "        horizontalalignment='left', verticalalignment='top') \n",
    "\n",
    "# Zoom in on 2007-2010 \n",
    "ax.set_xlim([pd.to_datetime('2007-01-01'), \n",
    "    pd.to_datetime('2011-01-01') ]) \n",
    "ax.set_ylim([600, 1800]) \n",
    "\n",
    "ax.set_title('Важнейшие даты кризиса 2008-2009 гг')"
   ]
  },
  {
   "cell_type": "markdown",
   "metadata": {},
   "source": [
    "В задачах классификации иногда нужно представить пространственное распределение тех или иных признаков."
   ]
  },
  {
   "cell_type": "code",
   "execution_count": null,
   "metadata": {},
   "outputs": [],
   "source": [
    "rng = np.random.RandomState(0)\n",
    "n = 30\n",
    "for i, marker in enumerate(['o', '.', ',', 'x', '+', 'v', '^', '<', '>', 's', 'd']):\n",
    "    plt.plot(rng.randn(n) + 0.2*(i % 4), rng.randn(n) - 0.05*(i % 4), marker,\n",
    "             label=\"marker='{0}'\".format(marker))\n",
    "plt.legend(numpoints=1)\n",
    "plt.xlim(0, 1.8);"
   ]
  },
  {
   "cell_type": "markdown",
   "metadata": {},
   "source": [
    "__ЗАДАНИЕ__ Для набора данных \"Ирисы\" выведите графики рассеяния для комбинаций различных признаков."
   ]
  },
  {
   "cell_type": "code",
   "execution_count": null,
   "metadata": {},
   "outputs": [],
   "source": [
    "url = 'https://archive.ics.uci.edu/ml/machine-learning-databases/iris/iris.data'\n",
    "iris = np.genfromtxt(url, delimiter=',', dtype='object')\n",
    "\n",
    "iris_data = iris[:, :-1].astype(dtype=np.float64)\n",
    "iris_name = iris[:,-1].astype(str)\n",
    "\n",
    "# ваш код здесь\n"
   ]
  },
  {
   "cell_type": "markdown",
   "metadata": {},
   "source": [
    "## Визуализация данных средствами пакета Seaborn\n",
    "\n",
    "Пакет ```seaborn``` предоставляет больше возможностей для визуализации данных и отличается улучшенным оформлением. Функционал ```seaborn``` работает поверх библиотеки ```matplotlib```."
   ]
  },
  {
   "cell_type": "code",
   "execution_count": null,
   "metadata": {},
   "outputs": [],
   "source": [
    "import seaborn as sns\n"
   ]
  },
  {
   "cell_type": "code",
   "execution_count": null,
   "metadata": {},
   "outputs": [],
   "source": [
    "iris_features = ['sepal length (cm)', 'sepal width (cm)', 'petal length (cm)','petal width (cm)', 'y']\n",
    "\n",
    "df_iris = pd.read_csv('https://archive.ics.uci.edu/ml/machine-learning-databases/iris/iris.data', \n",
    "                      header=None,  \n",
    "                     names=iris_features)\n",
    "df_iris"
   ]
  },
  {
   "cell_type": "code",
   "execution_count": null,
   "metadata": {},
   "outputs": [],
   "source": [
    "iris_data = df_iris.iloc[:,:-1]\n",
    "iris_data"
   ]
  },
  {
   "cell_type": "code",
   "execution_count": null,
   "metadata": {},
   "outputs": [],
   "source": [
    "pd.plotting.scatter_matrix(iris_data, \n",
    "                  figsize=(8, 8));"
   ]
  },
  {
   "cell_type": "code",
   "execution_count": null,
   "metadata": {},
   "outputs": [],
   "source": [
    "plt.figure(figsize=(8,8))\n",
    "\n",
    "sns.pairplot(iris_data,\n",
    "             diag_kind='kde', plot_kws={'alpha': 0.2});"
   ]
  },
  {
   "cell_type": "code",
   "execution_count": null,
   "metadata": {},
   "outputs": [],
   "source": [
    "plt.figure(figsize=(8,8))\n",
    "\n",
    "_ = sns.heatmap(iris_data.corr(), annot=True, cmap=\"RdYlGn\")\n",
    "iris_data.corr()"
   ]
  },
  {
   "cell_type": "code",
   "execution_count": null,
   "metadata": {},
   "outputs": [],
   "source": [
    "iris_data['sepal length (cm)'].hist()"
   ]
  },
  {
   "cell_type": "code",
   "execution_count": null,
   "metadata": {},
   "outputs": [],
   "source": [
    "sns.histplot(iris_data['sepal length (cm)'], kde=True);"
   ]
  },
  {
   "cell_type": "markdown",
   "metadata": {},
   "source": [
    "## Многофакторное сравнение\n",
    "\n",
    "Рассмотрим на примере датасета tips.csv."
   ]
  },
  {
   "cell_type": "markdown",
   "metadata": {},
   "source": [
    "Средства для многофактороного сравнения по категориям встроены в Pandas. Посмотрим на примере распределения количества человек за одним столом в зависимости от дня недели:"
   ]
  },
  {
   "cell_type": "code",
   "execution_count": null,
   "metadata": {},
   "outputs": [],
   "source": [
    "tips = pd.read_csv('data/tips.csv')\n",
    "tips['tips_pct'] = tips['tip'] / tips['total_bill']\n",
    "tips"
   ]
  },
  {
   "cell_type": "code",
   "execution_count": null,
   "metadata": {},
   "outputs": [],
   "source": [
    "party_counts = pd.crosstab(tips['day'], tips['size'])\n",
    "party_counts = party_counts.reindex(['Thur', 'Fri', 'Sat', 'Sun'])\n",
    "party_counts = party_counts.loc[:, 2:5]  # уберем данные по столикам с 1 и 6 гостями, это редкие случаи\n",
    "party_counts"
   ]
  },
  {
   "cell_type": "markdown",
   "metadata": {},
   "source": [
    "Вызовем из свойства ```plot``` нашего dataframe'а функцию ```bar()```:"
   ]
  },
  {
   "cell_type": "code",
   "execution_count": null,
   "metadata": {},
   "outputs": [],
   "source": [
    "party_counts.plot.bar();"
   ]
  },
  {
   "cell_type": "markdown",
   "metadata": {},
   "source": [
    "Пакет seaborn - средство более высокого уровня и в некоторых случаях берет на себя всю необходимую предообработку данных. Например, давайте посмотрим на зависимость чаевых от дня недели:"
   ]
  },
  {
   "cell_type": "code",
   "execution_count": null,
   "metadata": {},
   "outputs": [],
   "source": [
    "sns.barplot(x='tips_pct', y='day', data=tips, orient='h')"
   ]
  },
  {
   "cell_type": "markdown",
   "metadata": {},
   "source": [
    "А теперь - процент чаевых не только ото дня, но и от времени суток, для этого введем еще один параметр ```hue``` (цвет)."
   ]
  },
  {
   "cell_type": "code",
   "execution_count": null,
   "metadata": {},
   "outputs": [],
   "source": [
    "sns.barplot(x='tips_pct', y='day', hue='time', data=tips, orient='h')"
   ]
  },
  {
   "cell_type": "markdown",
   "metadata": {},
   "source": [
    "Если нам нужно вывести дополнительные показатели, можем воспользоваться фасетной сеткой, которую также предоставляет нам seaborn. Отчет по тому же самому + признак \"стол курящий/некурящий\"."
   ]
  },
  {
   "cell_type": "code",
   "execution_count": null,
   "metadata": {},
   "outputs": [],
   "source": [
    "sns.catplot(x='day', y='tips_pct', hue='time', col='smoker',\n",
    "               kind='bar', data=tips)"
   ]
  },
  {
   "cell_type": "code",
   "execution_count": null,
   "metadata": {},
   "outputs": [],
   "source": [
    "tips"
   ]
  },
  {
   "cell_type": "markdown",
   "metadata": {},
   "source": [
    "Такую \"сетку\" можно распространить на все категороиальные признаки:"
   ]
  },
  {
   "cell_type": "code",
   "execution_count": null,
   "metadata": {},
   "outputs": [],
   "source": [
    "sns.catplot(x='day', y='tips_pct', row='time',\n",
    "               col='smoker',\n",
    "               kind='bar', data=tips)"
   ]
  },
  {
   "cell_type": "markdown",
   "metadata": {},
   "source": [
    "__ЗАДАНИЕ__ Выведите на экран зависимости процента чаевых от пола, времени и дня недели."
   ]
  },
  {
   "cell_type": "code",
   "execution_count": null,
   "metadata": {},
   "outputs": [],
   "source": [
    "# ваш код здесь\n"
   ]
  },
  {
   "cell_type": "markdown",
   "metadata": {},
   "source": [
    "### Работа с графическими изображениями\n",
    "\n",
    "Выведем фото девушки месяца за ноябрь 1972 года."
   ]
  },
  {
   "cell_type": "code",
   "execution_count": null,
   "metadata": {},
   "outputs": [],
   "source": [
    "import matplotlib.image as mpimg\n",
    "lena = mpimg.imread('lena.jpg')\n"
   ]
  },
  {
   "cell_type": "code",
   "execution_count": null,
   "metadata": {},
   "outputs": [],
   "source": [
    "plt.imshow(lena)"
   ]
  },
  {
   "cell_type": "code",
   "execution_count": null,
   "metadata": {},
   "outputs": [],
   "source": [
    "lena.shape"
   ]
  },
  {
   "cell_type": "code",
   "execution_count": null,
   "metadata": {},
   "outputs": [],
   "source": [
    "lena"
   ]
  },
  {
   "cell_type": "markdown",
   "metadata": {},
   "source": [
    "Построим гистограмму распределения яркостей, для этого приведем \"Лену\" в одноканальный вариант:"
   ]
  },
  {
   "cell_type": "code",
   "execution_count": null,
   "metadata": {},
   "outputs": [],
   "source": [
    "lena_gray = (np.sum(lena, axis=2) / 3)\n",
    "plt.imshow(lena_gray, cmap='gray')"
   ]
  },
  {
   "cell_type": "markdown",
   "metadata": {},
   "source": [
    "Теперь по всему множеству пикселей построим гистограмму их интенсивности:"
   ]
  },
  {
   "cell_type": "code",
   "execution_count": null,
   "metadata": {},
   "outputs": [],
   "source": [
    "plt.hist(lena_gray.ravel(), bins=50)\n",
    "plt.show()"
   ]
  },
  {
   "cell_type": "markdown",
   "metadata": {},
   "source": [
    "__ЗАДАНИЕ__ На одной иллюстрации выведите изображение всех трех каналов R G B и постройте гистограммы для каждого канала. Подсказка: используйте ```plt.subplots(2,3)```"
   ]
  },
  {
   "cell_type": "code",
   "execution_count": null,
   "metadata": {},
   "outputs": [],
   "source": [
    "# ваш код здесь\n"
   ]
  },
  {
   "cell_type": "markdown",
   "metadata": {},
   "source": [
    "## 3D-графики, интерактивный режим\n",
    "\n",
    "Изображения 3-мерного пространства строятся с использованием того же инструментария, только в функции ```axes()``` (или ```subplot()```)следует указать тип проекции ```projection='3d'```:\n"
   ]
  },
  {
   "cell_type": "code",
   "execution_count": null,
   "metadata": {},
   "outputs": [],
   "source": [
    "ax = plt.axes(projection='3d');"
   ]
  },
  {
   "cell_type": "markdown",
   "metadata": {},
   "source": [
    "Параметры отображаемой сцены можно варьировать: устанавливать высоту, азимут и угол обзора:"
   ]
  },
  {
   "cell_type": "code",
   "execution_count": null,
   "metadata": {},
   "outputs": [],
   "source": [
    "ax = plt.axes(projection='3d')\n",
    "\n",
    "ax.view_init(elev=45, azim=45, roll=0)\n",
    "\n",
    "ax.set_xlabel('x')\n",
    "ax.set_ylabel('y')\n",
    "ax.set_zlabel('z')"
   ]
  },
  {
   "cell_type": "markdown",
   "metadata": {},
   "source": [
    "В Jupyter Notebook реализована возможность использования интерактивного режима, в рамках которого можно вариьировать различные параметры отображения 3D-сцены (и не только!):"
   ]
  },
  {
   "cell_type": "code",
   "execution_count": null,
   "metadata": {},
   "outputs": [],
   "source": [
    "from ipywidgets import interact\n",
    "\n",
    "def plot_3D(elev=30, azim=30, roll=0):\n",
    "    plt.figure(figsize=(10,7))\n",
    "    ax = plt.subplot(projection='3d')\n",
    "    ax.view_init(elev=elev, azim=azim, roll=roll)\n",
    "    ax.set_xlabel('x')\n",
    "    ax.set_ylabel('y')\n",
    "    ax.set_zlabel('z')\n",
    "\n",
    "interact(plot_3D, elev=(-90, 90), azim=(-180, 180), roll=(-90, 90));"
   ]
  },
  {
   "cell_type": "markdown",
   "metadata": {},
   "source": [
    "### Реализация функций z = f(x,y)\n",
    "\n",
    "3-е измерение функции строится поверх конструкции ```meshgrid```, которая по сути является координатной сеткой для каждой точки функции.\n"
   ]
  },
  {
   "cell_type": "code",
   "execution_count": null,
   "metadata": {},
   "outputs": [],
   "source": [
    "x = np.arange(1, 5).astype(dtype=np.float64)\n",
    "y = np.arange(7, 4, -1).astype(dtype=np.float64)\n",
    "XY = np.meshgrid(x, y)\n",
    "XY"
   ]
  },
  {
   "attachments": {
    "image.png": {
     "image/png": "[encoded data removed]"
    }
   },
   "cell_type": "markdown",
   "metadata": {},
   "source": [
    "![image.png](attachment:image.png)"
   ]
  },
  {
   "cell_type": "code",
   "execution_count": null,
   "metadata": {},
   "outputs": [],
   "source": [
    "x = np.linspace(-6, 6, 30)\n",
    "y = np.linspace(-6, 6, 30)\n",
    "\n",
    "X, Y = np.meshgrid(x, y)"
   ]
  },
  {
   "cell_type": "markdown",
   "metadata": {},
   "source": [
    "Контуры поверхности строятся функциями ```ax.contour3D(X, Y, Z)```, ```plot_surface(X, Y, Z)```, ```plot_wireframe(X, Y, Z)``` и многими другими."
   ]
  },
  {
   "cell_type": "code",
   "execution_count": null,
   "metadata": {},
   "outputs": [],
   "source": [
    "def f(x, y):\n",
    "    return np.sin(np.sqrt(x ** 2 + y ** 2))\n",
    "\n",
    "Z = f(X, Y)\n",
    "\n",
    "fig = plt.figure()\n",
    "ax = plt.axes(projection='3d')\n",
    "ax.contour3D(X, Y, Z, 50, cmap='binary')\n",
    "# ax.plot_surface(X, Y, Z)\n",
    "# ax.plot_wireframe(X, Y, Z, rstride=1, cstride=1)\n",
    "ax.set_xlabel('x')\n",
    "ax.set_ylabel('y')\n",
    "ax.set_zlabel('z');"
   ]
  },
  {
   "cell_type": "code",
   "execution_count": null,
   "metadata": {},
   "outputs": [],
   "source": [
    "def plot_3D_hat(elev=30, azim=30, roll=0):\n",
    "    plt.figure(figsize=(10,7))\n",
    "    ax = plt.subplot(projection='3d')\n",
    "    ax.view_init(elev=elev, azim=azim, roll=roll)\n",
    "    ax.plot_surface(X, Y, Z)\n",
    "    ax.set_xlabel('x')\n",
    "    ax.set_ylabel('y')\n",
    "    ax.set_zlabel('z')\n",
    "\n",
    "interact(plot_3D_hat, elev=(-90, 90), azim=(-180, 180), roll=(-90, 90));"
   ]
  },
  {
   "cell_type": "markdown",
   "metadata": {},
   "source": [
    "Также можно делать \"температурные карты\" - heatmaps, используя встроенные в ```matplotlib``` цветовые схемы. Проиллюстрируем это на примере с параболоидом:"
   ]
  },
  {
   "cell_type": "code",
   "execution_count": null,
   "metadata": {},
   "outputs": [],
   "source": [
    "# создаем параболоид\n",
    "m = 3\n",
    "n = 2\n",
    "b = 1\n",
    "d = 0.75\n",
    "def f(x, y):\n",
    "    return (x + m) ** 2 + (y * d + n) ** 2 + b\n",
    "\n",
    "x = np.linspace(-6-m, 6-m, 100)\n",
    "y = np.linspace(-6-n, 6-n, 100)\n",
    "\n",
    "X, Y = np.meshgrid(x, y)\n",
    "Z = f(X, Y)"
   ]
  },
  {
   "cell_type": "code",
   "execution_count": null,
   "metadata": {},
   "outputs": [],
   "source": [
    "cm = plt.cm.get_cmap('viridis')\n",
    "plt.scatter(X, Y, c=Z, cmap=cm)\n",
    "plt.colorbar()\n",
    "plt.show()"
   ]
  },
  {
   "cell_type": "markdown",
   "metadata": {},
   "source": [
    "Также эти данные можно визуализировать горизонталями:"
   ]
  },
  {
   "cell_type": "code",
   "execution_count": null,
   "metadata": {},
   "outputs": [],
   "source": [
    "cp = plt.contour(X, Y, Z)\n",
    "plt.clabel(cp, inline=1, fontsize=10)\n",
    "plt.xlabel('X')\n",
    "plt.ylabel('Y')\n",
    "plt.show()"
   ]
  },
  {
   "cell_type": "markdown",
   "metadata": {},
   "source": [
    "Можно комбинировать оба способа:"
   ]
  },
  {
   "cell_type": "code",
   "execution_count": null,
   "metadata": {
    "scrolled": true
   },
   "outputs": [],
   "source": [
    "cp = plt.contour(X, Y, Z, colors='black', linestyles='dashed', linewidths=1)\n",
    "plt.clabel(cp, inline=1, fontsize=10)\n",
    "cp = plt.contourf(X, Y, Z, cmap='Reds')\n",
    "plt.xlabel('X')\n",
    "plt.ylabel('Y')\n",
    "plt.show()"
   ]
  },
  {
   "cell_type": "markdown",
   "metadata": {},
   "source": [
    "__ЗАДАНИЕ__ \n",
    "\n",
    "На примере данных, сгенерированных функцией $z = sin(\\sqrt{(x - m)^2 + (y - n)^2}) + b$ (\"шляпа\") сделайте срезы по случайным значениям x, y, z, отобразите их в виде графиков. \n"
   ]
  },
  {
   "cell_type": "code",
   "execution_count": null,
   "metadata": {},
   "outputs": [],
   "source": [
    "m = 3\n",
    "n = 2\n",
    "b = 1\n",
    "def f(x, y):\n",
    "    # ваш код здесь\n",
    "    pass\n",
    "\n",
    "\n",
    "x = np.linspace(0, -2*m, 100)\n",
    "y = np.linspace(0, -2*n, 100)\n",
    "X, Y = np.meshgrid(x, y)\n",
    "Z = f(X, Y)\n",
    "x"
   ]
  },
  {
   "cell_type": "code",
   "execution_count": null,
   "metadata": {},
   "outputs": [],
   "source": [
    "fig = plt.figure()\n",
    "ax = plt.axes(projection='3d')\n",
    "ax.contour3D(X, Y, Z, 50, cmap='binary')"
   ]
  },
  {
   "cell_type": "code",
   "execution_count": null,
   "metadata": {},
   "outputs": [],
   "source": [
    "# ваш код здесь\n",
    "\n"
   ]
  }
 ],
 "metadata": {
  "kernelspec": {
   "display_name": "Python 3 (ipykernel)",
   "language": "python",
   "name": "python3"
  },
  "language_info": {
   "codemirror_mode": {
    "name": "ipython",
    "version": 3
   },
   "file_extension": ".py",
   "mimetype": "text/x-python",
   "name": "python",
   "nbconvert_exporter": "python",
   "pygments_lexer": "ipython3",
   "version": "3.12.3"
  }
 },
 "nbformat": 4,
 "nbformat_minor": 4
}
