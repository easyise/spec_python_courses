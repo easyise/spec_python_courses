{
 "cells": [
  {
   "cell_type": "markdown",
   "metadata": {},
   "source": [
    "# Курс \"Программирование на языке Python. Уровень 4. Анализ и визуализация данных на языке Python. Библиотеки numpy, pandas, matplotlib\"\n",
    "\n",
    "# Модуль 7. Библиотека matplotlib\n",
    "\n",
    "1. Первое знакомство с matplotlib и быстрое построение графиков\n",
    "2. Настройка отображения графиков в jupyter notebook\n",
    "3. Оформление графиков\n",
    "4. Вывод нескольких графиков на одной иллюстрации\n",
    "5. Инфографика (круговые, столбчатые диаграммы и т.д.)\n"
   ]
  },
  {
   "cell_type": "code",
   "execution_count": null,
   "metadata": {},
   "outputs": [],
   "source": [
    "import numpy as np\n",
    "import pandas as pd\n",
    "import matplotlib.pyplot as plt\n",
    "%matplotlib inline"
   ]
  },
  {
   "cell_type": "markdown",
   "metadata": {},
   "source": [
    "## Быстрое построение графиков\n",
    "\n",
    "Графики строятся функцией ```plot()```. Ей достаточно передать единственный параметр с вектором данных для отображения:"
   ]
  },
  {
   "cell_type": "code",
   "execution_count": null,
   "metadata": {},
   "outputs": [],
   "source": [
    "data = np.arange(10) ** 2\n",
    "data"
   ]
  },
  {
   "cell_type": "code",
   "execution_count": null,
   "metadata": {},
   "outputs": [],
   "source": [
    "plt.plot(data)"
   ]
  },
  {
   "cell_type": "code",
   "execution_count": null,
   "metadata": {},
   "outputs": [],
   "source": [
    "plt.plot(np.arange(10), data)"
   ]
  },
  {
   "cell_type": "markdown",
   "metadata": {},
   "source": [
    "Для построения полноценного графика функции $y = f(x)$ необходимо вызывать plot с двумя параметрами ```plot(x, f(x))```. \n",
    "\n",
    "При этом удобно задавать диапазон переменной c помощью метода numpy.linspace."
   ]
  },
  {
   "cell_type": "code",
   "execution_count": null,
   "metadata": {},
   "outputs": [],
   "source": [
    "x = np.linspace(-5, 5, 50)\n",
    "print(x)"
   ]
  },
  {
   "cell_type": "markdown",
   "metadata": {},
   "source": [
    "Выведем график линейной зависимости:"
   ]
  },
  {
   "cell_type": "code",
   "execution_count": null,
   "metadata": {},
   "outputs": [],
   "source": [
    "plt.plot(x, x*2)\n",
    "plt.show()"
   ]
  },
  {
   "cell_type": "markdown",
   "metadata": {},
   "source": [
    "На одном поле можно строить несколько графиков:\n"
   ]
  },
  {
   "cell_type": "code",
   "execution_count": null,
   "metadata": {},
   "outputs": [],
   "source": [
    "x = np.linspace(0, 2, 100)\n",
    "plt.plot(x, x) # линейная зависимость\n",
    "plt.plot(x, x ** 2) # квардратичная зависимость\n",
    "plt.plot(x, x ** 3) # кубическая\n",
    "plt.plot(x, np.exp(x)) # экспоненциальная\n",
    "plt.show()"
   ]
  },
  {
   "cell_type": "markdown",
   "metadata": {},
   "source": [
    "Простейшую гистограмму можно построить из массива numpy функцией ```hist()```."
   ]
  },
  {
   "cell_type": "code",
   "execution_count": null,
   "metadata": {},
   "outputs": [],
   "source": [
    "a_rand = np.random.randn(10000)\n",
    "plt.hist(a_rand)"
   ]
  },
  {
   "cell_type": "markdown",
   "metadata": {},
   "source": [
    "Диаграмму рассеяния можно нарисовать  функцией ```scatter()```:"
   ]
  },
  {
   "cell_type": "code",
   "execution_count": null,
   "metadata": {},
   "outputs": [],
   "source": [
    "plt.scatter(np.arange(30), np.arange(30) + 3 * np.random.randn(30))"
   ]
  },
  {
   "cell_type": "markdown",
   "metadata": {},
   "source": [
    "Для рисования стрелок используем функцию ```arrow()```."
   ]
  },
  {
   "cell_type": "code",
   "execution_count": null,
   "metadata": {},
   "outputs": [],
   "source": [
    "plt.arrow(0,0, 3,1, head_width=0.2, color='r', length_includes_head=True)\n",
    "plt.arrow(0,0, 1,3, head_width=0.2, color='g', length_includes_head=True)\n",
    "plt.arrow(0,0, 4,4, head_width=0.2, color='b', length_includes_head=True)\n",
    "plt.show()"
   ]
  },
  {
   "cell_type": "markdown",
   "metadata": {},
   "source": [
    "Другие полезные типы графиков:"
   ]
  },
  {
   "cell_type": "code",
   "execution_count": null,
   "metadata": {},
   "outputs": [],
   "source": [
    "x = np.linspace(-1, 1)\n",
    "\n",
    "fig, axes = plt.subplots(1, 3, figsize = (12, 4))\n",
    "\n",
    "# закрасить пространство между графиками\n",
    "axes[0].fill_between(x, np.sqrt(np.abs(x)), x**2, \n",
    "                     color=\"green\", alpha=0.5);\n",
    "axes[0].set_title(\"fill_between\");\n",
    "\n",
    "# столбчатая диаграмма\n",
    "axes[1].bar(np.arange(-5, 6), np.arange(-5, 6)**3, \n",
    "            align=\"center\", width=0.5, alpha=0.5)\n",
    "axes[1].set_title(\"bar\")\n",
    "\n",
    "# ступенчатый график\n",
    "axes[2].step(x, np.sqrt(np.abs(x)), lw=1)\n",
    "axes[2].set_title(\"step\")\n",
    "\n",
    "fig.tight_layout()"
   ]
  },
  {
   "cell_type": "markdown",
   "metadata": {},
   "source": [
    "#### ЗАДАНИЕ\n",
    "\n",
    "- Нарисуйте вектор [1, 2]:"
   ]
  },
  {
   "cell_type": "code",
   "execution_count": null,
   "metadata": {},
   "outputs": [],
   "source": [
    "# ваш код здесь"
   ]
  },
  {
   "cell_type": "markdown",
   "metadata": {},
   "source": [
    "- Нарисуйте график синусоиды в диапазоне от $-2\\pi$ до $2\\pi$"
   ]
  },
  {
   "cell_type": "code",
   "execution_count": null,
   "metadata": {},
   "outputs": [],
   "source": [
    "# ваш код здесь"
   ]
  },
  {
   "cell_type": "markdown",
   "metadata": {},
   "source": [
    "- Дано: матрица размера Nx2, она содержит случайные числа. Нарисуйте ее строки в виде векторов, исходящих из начала координат"
   ]
  },
  {
   "cell_type": "code",
   "execution_count": null,
   "metadata": {},
   "outputs": [],
   "source": [
    "N = 4\n",
    "M = np.random.random((N,2))\n",
    "# ваш код здесь\n"
   ]
  },
  {
   "cell_type": "markdown",
   "metadata": {},
   "source": [
    "__???__ Все ли вас устраивает в этих графиках?\n",
    "\n",
    "\n",
    "\n"
   ]
  },
  {
   "cell_type": "markdown",
   "metadata": {},
   "source": [
    "##  Оформление графиков"
   ]
  },
  {
   "cell_type": "markdown",
   "metadata": {},
   "source": [
    "Размеры выводимых графиков могут быть настроены как глобально, так и для каждой иллюстрации отдельно.\n",
    "\n",
    "Снова построим линейный график и расстоимся из-за его непропорциональности (и других визуальных недостатков):"
   ]
  },
  {
   "cell_type": "code",
   "execution_count": null,
   "metadata": {},
   "outputs": [],
   "source": [
    "plt.plot(np.arange(10))"
   ]
  },
  {
   "cell_type": "markdown",
   "metadata": {},
   "source": [
    "Перед построением графика проинициализируйте иллюстрацию, вызвав функцию ```figure()``` с параметром ```figsize```, в котором можно передать размеры картинки в дюймах. Соотношение и будет пропорцией отображаемого графика."
   ]
  },
  {
   "cell_type": "code",
   "execution_count": null,
   "metadata": {},
   "outputs": [],
   "source": [
    "plt.figure(figsize=(10,10))\n",
    "plt.plot(np.arange(10))\n",
    "plt.show()"
   ]
  },
  {
   "cell_type": "markdown",
   "metadata": {},
   "source": [
    "Также можно задать нелинейные пропорции осей: логарифмическую, симметричную логарифмическую, логистическую и т.д."
   ]
  },
  {
   "cell_type": "code",
   "execution_count": null,
   "metadata": {},
   "outputs": [],
   "source": [
    "x = np.linspace(-2,2,40)\n",
    "plt.figure(figsize=(10,10))\n",
    "plt.plot(x, x+1)\n",
    "plt.plot(x, np.exp(x))\n",
    "plt.yscale('log')\n",
    "plt.show()"
   ]
  },
  {
   "cell_type": "markdown",
   "metadata": {},
   "source": [
    "Давайте оформим график:\n",
    " - зададим диапазон отображения аргументов и функции\n",
    " - отобразим координатную сетку и оси\n",
    " - зададим метки для осей и самой иллюстрации\n",
    " - выведем легенду.\n",
    "    "
   ]
  },
  {
   "cell_type": "code",
   "execution_count": null,
   "metadata": {},
   "outputs": [],
   "source": [
    "plt.figure(figsize=(10,10))\n",
    "\n",
    "# зададим диапазон по осям, с полями\n",
    "margin = .5\n",
    "plt.ylim((-1.5, 4.5))\n",
    "plt.xlim((x.min()-margin, x.max()+margin))\n",
    "\n",
    "# отобразим координатную сетку и оси\n",
    "plt.grid(color='grey', linestyle='-', linewidth=1)\n",
    "plt.axhline(0,color='black') # x = 0\n",
    "plt.axvline(0,color='black') # y = 0\n",
    "\n",
    "# зададим метки для осей и самой иллюстрации\n",
    "plt.xlabel(\"$x$, аргумент\") \n",
    "plt.ylabel(\"$f(x)$, функция\") # Label for y-axis.\n",
    "plt.title('Линейная и эскпоненциальная зависимости')\n",
    "\n",
    "# построим график\n",
    "plt.plot(x, x+1, label=\"$f(x) = x$\")\n",
    "plt.plot(x, np.exp(x), label=\"$f(x) = e^x$\")\n",
    "\n",
    "# разместим легенду\n",
    "plt.legend(loc='best')\n",
    "\n",
    "plt.show()"
   ]
  },
  {
   "cell_type": "markdown",
   "metadata": {},
   "source": [
    "Получилась довольно громоздкая конструкция. Если в вашей работе надо будет представлять все графики в одинаковом оформлении, ее можно убрать в отдельную функцию (а ее, в свою очередь, в модуль). Для этого нам надо ознакомиться с основными объектами matplotlib.\n",
    "\n",
    "## Основные объекты matplotlib\n",
    "\n",
    " - Объект ```figure``` - сама иллюстрация.\n",
    " - Объект ```axes``` - один из графиков на этой иллюстрации, именно к этому объекту мы будем применять все те методы, с которыми мы ознакомились выше:\n",
    "    - ```.plot()```\n",
    "    - ```.ylim()``` и ```.xlim()```\n",
    "    - ```.title()```, ```.xlabel()```, ```.ylabel()```\n",
    "    - и т.д.\n",
    "\n",
    "Получить экземпляр объекта ```figure``` и требуемое количество ```axes``` можно из функции ```subplots()```, ей надо передать количество графиков по горизонтали и по вертикали. Она возвращает кортеж из иллюстрации и подграфиков - если их несколько, она вернет их список вторым членом кортежа.\n",
    "\n",
    "Построим наши графики в соответствии с объектно-ориентированным подходом:"
   ]
  },
  {
   "cell_type": "code",
   "execution_count": null,
   "metadata": {},
   "outputs": [],
   "source": [
    "fig, ax = plt.subplots(1,1) # пока что нам нужен один график\n",
    "\n",
    "fig.set_size_inches(10,10)\n",
    "\n",
    "ax.plot(x, x+1, label=\"$f(x) = x$\")\n",
    "ax.plot(x, np.exp(x), label=\"$f(x) = e^x$\")\n",
    "\n",
    "plt.show()"
   ]
  },
  {
   "cell_type": "markdown",
   "metadata": {},
   "source": [
    "Перенесем все оформление в функцию:"
   ]
  },
  {
   "cell_type": "code",
   "execution_count": null,
   "metadata": {},
   "outputs": [],
   "source": [
    "def my_plotter(ax, data1, data2, **param_dict):\n",
    "    \n",
    "    # отобразим координатную сетку и оси\n",
    "    ax.grid(color='grey', linestyle='-', linewidth=1)\n",
    "    ax.axhline(0,color='black') # x = 0\n",
    "    ax.axvline(0,color='black') # y = 0\n",
    "\n",
    "    # зададим метки для осей и самой иллюстрации\n",
    "    ax.set_xlabel(\"$x$, аргумент\") \n",
    "    ax.set_ylabel(\"$f(x)$, функция\") # Label for y-axis.\n",
    "    \n",
    "    out = ax.plot(data1, data2, **param_dict)\n",
    "    return out"
   ]
  },
  {
   "cell_type": "code",
   "execution_count": null,
   "metadata": {},
   "outputs": [],
   "source": [
    "fig, ax = plt.subplots(1,1) # пока что нам нужен один график\n",
    "\n",
    "fig.set_size_inches(10,10)\n",
    "\n",
    "ax.set_title('Линейная и эскпоненциальная зависимости')\n",
    "\n",
    "xx = x+1 # множество значений для линейной функции\n",
    "\n",
    "# зададим диапазон по осям, с полями\n",
    "margin = .5\n",
    "ax.set_ylim((xx.min()-margin, xx.max()+margin))\n",
    "ax.set_xlim((x.min()-margin, x.max()+margin))\n",
    "\n",
    "\n",
    "\n",
    "# построим график\n",
    "my_plotter(ax, x, xx, label=\"$f(x) = x$\")\n",
    "my_plotter(ax, x, np.exp(x), label=\"$f(x) = e^x$\")\n",
    "\n",
    "# разместим легенду\n",
    "ax.legend(loc='best')\n",
    "\n",
    "plt.show()\n",
    "\n"
   ]
  },
  {
   "cell_type": "markdown",
   "metadata": {},
   "source": [
    "#### __ЗАДАНИЕ__ \n",
    "\n",
    "1. Используя ```my_plotter()``` выведите на ту же плоскость график функции $y = x^2 +1$ \n",
    "2. Задайте логарифмическую шкалу отображения методом ```.set_yscale()```"
   ]
  },
  {
   "cell_type": "code",
   "execution_count": null,
   "metadata": {},
   "outputs": [],
   "source": [
    "# ваш код здесь"
   ]
  },
  {
   "cell_type": "markdown",
   "metadata": {},
   "source": [
    "## Вывод на одну иллюстрацию несколько графиков сразу\n",
    "\n",
    "Для этого в matplotlib используется \"сеточный\" подход: мы мысленно разбиваем нашу иллюстрацию на ячейки и сами определяем, какую часть ячейки будет занимать наш график.\n",
    "\n",
    "Затем мы обращаемся к функции ```subplot2grid()```, которая принимает следущие аргументы:\n",
    " - ```shape``` - кортеж с формой воображаемой \"сетки\" по горизонтали и вертикали\n",
    " - ```position``` - кортеж с координатами в ячейках сетки\n",
    " - ```colspan``` - сколько ячеек сетки данный график будет объединять по горизонтали\n",
    " - ```rowspan``` - сколько ячеек сетки данный график будет объединять по верткали\n",
    " \n"
   ]
  },
  {
   "cell_type": "code",
   "execution_count": null,
   "metadata": {},
   "outputs": [],
   "source": [
    "fig = plt.figure()\n",
    "fig.set_size_inches(10,5)\n",
    "# Arguments: shape, position and spanning in each (row or col) direction\n",
    "# Аргументы: форма в виде кортежа с количеством ячеек по вертикали и горизонтали\n",
    "ax1 = plt.subplot2grid((2, 4), (0, 0), colspan=2) \n",
    "ax1.set_ylabel('First')\n",
    "ax2 = plt.subplot2grid((2, 4), (1, 0), colspan=1)\n",
    "ax2.set_ylabel('Second')\n",
    "ax3 = plt.subplot2grid((2, 4), (1, 1), colspan=2)\n",
    "ax3.set_ylabel('Third')\n",
    "# Automatically adjusts the positions of the axes to prevent overlapping\n",
    "fig.tight_layout()"
   ]
  },
  {
   "cell_type": "markdown",
   "metadata": {},
   "source": [
    "Также можно использовать уже знакомую нам конструкцию ```subplots()```:"
   ]
  },
  {
   "cell_type": "code",
   "execution_count": null,
   "metadata": {},
   "outputs": [],
   "source": [
    "fig, axs = plt.subplots(1,2) \n",
    "\n",
    "fig.set_size_inches(10,5) # обратите внимание на размер по высоте, мы уменьшили его вдвое!\n",
    "\n",
    "axs[0].set_title('Линейная зависимость')\n",
    "axs[1].set_title('Эскпоненциальная зависимость')\n",
    "\n",
    "x = np.linspace(-2,2,40)\n",
    "\n",
    "xx = x+1 # множество значений для линейной функции\n",
    "\n",
    "# зададим диапазон по осям, с полями\n",
    "margin = .5\n",
    "for ax in axs:\n",
    "    ax.set_ylim((xx.min()-margin, xx.max()+margin))\n",
    "    ax.set_xlim((x.min()-margin, x.max()+margin))\n",
    "\n",
    "\n",
    "\n",
    "# построим график\n",
    "my_plotter(axs[0], x, xx, label=\"$f(x) = x$\")\n",
    "my_plotter(axs[1], x, np.exp(x), label=\"$f(x) = e^x$\")\n",
    "\n",
    "\n",
    "plt.show()"
   ]
  },
  {
   "cell_type": "markdown",
   "metadata": {},
   "source": [
    "__ЗАДАНИЕ__ Выведите 3 графика горизонтально, затем два + один график внизу, третий график - кубическая зависимость."
   ]
  },
  {
   "cell_type": "code",
   "execution_count": null,
   "metadata": {},
   "outputs": [],
   "source": [
    "# ваш код здесь\n"
   ]
  },
  {
   "cell_type": "markdown",
   "metadata": {},
   "source": [
    "## Инфографика\n",
    "\n",
    "Круговая диаграмма (pie chart) строится функцией ```pie()```. Направление обхода по умолчанию - против часовой стрелки.\n",
    "Параметр ```explode``` позволяет задать смещение для некоторых элементов диаграммы. При этом в ```sizes``` могут быть совершенно любые числа, не обязательно процентное соотношение."
   ]
  },
  {
   "cell_type": "code",
   "execution_count": null,
   "metadata": {},
   "outputs": [],
   "source": [
    "# сделаем графики побольше\n",
    "plt.rcParams['figure.figsize'] = (10.0, 10.0)"
   ]
  },
  {
   "cell_type": "code",
   "execution_count": null,
   "metadata": {},
   "outputs": [],
   "source": [
    "labels = 'Для ежа', 'Для ужа', 'Для моржа', 'Для стрижа'\n",
    "sizes = [15, 30, 45, 10]\n",
    "explode = (0, 0.1, 0, 0) \n",
    "\n",
    "fig1, ax1 = plt.subplots()\n",
    "ax1.pie(sizes, explode=explode, labels=labels, autopct='%1.1f%%',\n",
    "        shadow=True, startangle=90)\n",
    "\n",
    "plt.show()"
   ]
  },
  {
   "cell_type": "markdown",
   "metadata": {},
   "source": [
    "Столбчатые диаграммы с распределением по группам строятся той же функцией ```bar()```, но для построения \"надстройки\" ей надо передать параметр ```bottom```, который будет содержать данные для \"основной\" диаграммы:"
   ]
  },
  {
   "cell_type": "code",
   "execution_count": null,
   "metadata": {},
   "outputs": [],
   "source": [
    "N = 5\n",
    "menMeans = (20, 35, 30, 35, 27)\n",
    "womenMeans = (25, 32, 34, 20, 25)\n",
    "ind = np.arange(N)    # the x locations for the groups\n",
    "width = 0.35       # the width of the bars: can also be len(x) sequence\n",
    "\n",
    "p1 = plt.bar(ind, menMeans, width)\n",
    "p2 = plt.bar(ind, womenMeans, width,\n",
    "             bottom=menMeans)\n",
    "\n",
    "plt.ylabel('Баллы')\n",
    "plt.title('Баллы по группе и полу')\n",
    "plt.xticks(ind, ('Г1', 'Г2', 'Г3', 'Г4', 'Г5'))\n",
    "plt.yticks(np.arange(0, 81, 10))\n",
    "plt.legend((p1[0], p2[0]), ('М', 'Ж'))\n",
    "\n",
    "plt.show()"
   ]
  },
  {
   "cell_type": "code",
   "execution_count": null,
   "metadata": {},
   "outputs": [],
   "source": [
    "fig, ax = plt.subplots()\n",
    "\n",
    "people = ('Жан-Клод', 'Сильвестр', 'Чак', 'Брюс', 'Арнольд')\n",
    "y_pos = np.arange(len(people))\n",
    "performance = 3 + 10 * np.random.rand(len(people))\n",
    "\n",
    "ax.barh(y_pos, performance, align='center')\n",
    "ax.set_yticks(y_pos)\n",
    "ax.set_yticklabels(people)\n",
    "ax.invert_yaxis()\n",
    "ax.set_xlabel('Крутизна')\n",
    "\n",
    "\n",
    "plt.show()"
   ]
  },
  {
   "cell_type": "markdown",
   "metadata": {},
   "source": [
    "##### ЗАДАНИЕ\n",
    "\n",
    "Для датасета \"Титаник\" постройте круговые диаграммы для следующих признаков:\n",
    " - класс каюты\n",
    " - порт посадки на судно"
   ]
  },
  {
   "cell_type": "code",
   "execution_count": null,
   "metadata": {},
   "outputs": [],
   "source": [
    "df_titanic = pd.read_csv('data/titanic.csv',\n",
    "                  index_col='PassengerId')\n",
    "\n",
    "embarked_ports = {'S': 'Southampton', 'C':'Cherbourg', 'Q': 'Queenstown'}"
   ]
  },
  {
   "cell_type": "code",
   "execution_count": null,
   "metadata": {},
   "outputs": [],
   "source": [
    "# ваш код здесь\n"
   ]
  },
  {
   "cell_type": "markdown",
   "metadata": {},
   "source": [
    "Постройте столбчатую диаграмму с распределением по полу в каютах разных классов."
   ]
  },
  {
   "cell_type": "code",
   "execution_count": null,
   "metadata": {},
   "outputs": [],
   "source": [
    "# ваш код здесь"
   ]
  },
  {
   "cell_type": "code",
   "execution_count": null,
   "metadata": {},
   "outputs": [],
   "source": []
  }
 ],
 "metadata": {
  "kernelspec": {
   "display_name": "Python 3 (ipykernel)",
   "language": "python",
   "name": "python3"
  },
  "language_info": {
   "codemirror_mode": {
    "name": "ipython",
    "version": 3
   },
   "file_extension": ".py",
   "mimetype": "text/x-python",
   "name": "python",
   "nbconvert_exporter": "python",
   "pygments_lexer": "ipython3",
   "version": "3.12.3"
  }
 },
 "nbformat": 4,
 "nbformat_minor": 4
}
