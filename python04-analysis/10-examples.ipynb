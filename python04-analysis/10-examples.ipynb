{
 "cells": [
  {
   "cell_type": "markdown",
   "metadata": {},
   "source": [
    "# Курс \"Программирование на языке Python. Уровень 4. Анализ и визуализация данных на языке Python. Библиотеки numpy, pandas, matplotlib\"\n",
    "\n",
    "## Модуль 10. Анализ данных и алгоритмы машинного обучения\n",
    "\n",
    "1. Математические библиотеки Python и их применение для анализа/предобработки данных - пример полиномиальной регрессии\n",
    "1. Кластеризация данных и ее роль в отборе признаков и пре-процессинге\n",
    "2. Анализ продуктовой корзины\n",
    "2. Применение scipy/sklearn для отбора признаков\n",
    "5. Полезные ссылки\n",
    "\n",
    "__Для работы потребуются следующе датасеты:__\n",
    "- [data/web_traffic.tsv](https://github.com/easyise/spec_python_courses/raw/master/python04-analysis/data/web_traffic.tsv)\n",
    "- [data/store_data.csv](https://github.com/easyise/spec_python_courses/raw/master/python04-analysis/data/store_data.csv)\n",
    "- [data/credit_scoring.csv](https://github.com/easyise/spec_python_courses/raw/master/python04-analysis/data/credit_scoring.csv)\n",
    "\n",
    "Для некоторых датасетов, которые мы будем сегодня загружать из интернета, может потребоваться порядка 500МБ дискового простанства.\n",
    "\n",
    "\n",
    "__ВНИМАНИЕ__! Установите библиотеки scipy, sklearn и mlxtend: ```pip install scipy sklearn mlxtend```"
   ]
  },
  {
   "cell_type": "code",
   "execution_count": null,
   "metadata": {},
   "outputs": [],
   "source": [
    "import numpy as np\n",
    "import pandas as pd\n",
    "import seaborn as sns\n",
    "import matplotlib.pyplot as plt\n",
    "\n",
    "plt.rcParams['figure.figsize'] = (7.0, 7.0)\n",
    "%matplotlib inline"
   ]
  },
  {
   "cell_type": "code",
   "execution_count": null,
   "metadata": {},
   "outputs": [],
   "source": [
    "import warnings\n",
    "warnings.filterwarnings('ignore')\n",
    "warnings.simplefilter('always', category=UserWarning)"
   ]
  },
  {
   "cell_type": "markdown",
   "metadata": {},
   "source": [
    "### Пример применения полиномиальной регрессии для моделирования данных\n",
    "\n",
    "Допустим, у нас есть ежечасная статистика веб-траффика по некоторому серверу. Нам нужно определить, когда по времени, с учетом текущей динамики, количество запросов превысит 50000/час, чтобы заранее проапгрейдить оборудование. Для этого мы попытаемся построить кривую с помощью полиномиальной регрессии и экстраполируя ее на будущее, определим крайний срок для апгрейда оборудования."
   ]
  },
  {
   "cell_type": "code",
   "execution_count": null,
   "metadata": {},
   "outputs": [],
   "source": [
    "web_traffic = pd.read_csv('data/web_traffic.tsv', sep='\\t', header=None, names=['Hour', 'ReqsPerHour'], index_col='Hour')\n",
    "web_traffic.head()"
   ]
  },
  {
   "cell_type": "markdown",
   "metadata": {},
   "source": [
    "Разберемся с пропущенными данными:"
   ]
  },
  {
   "cell_type": "code",
   "execution_count": null,
   "metadata": {},
   "outputs": [],
   "source": [
    "web_traffic.isnull().sum()"
   ]
  },
  {
   "cell_type": "code",
   "execution_count": null,
   "metadata": {},
   "outputs": [],
   "source": [
    "web_traffic.dropna(inplace=True)"
   ]
  },
  {
   "cell_type": "code",
   "execution_count": null,
   "metadata": {},
   "outputs": [],
   "source": [
    "web_traffic.shape"
   ]
  },
  {
   "cell_type": "markdown",
   "metadata": {},
   "source": [
    "Напишем функцию для красивого отображения данных и моделей:"
   ]
  },
  {
   "cell_type": "code",
   "execution_count": null,
   "metadata": {},
   "outputs": [],
   "source": [
    "def plot_models(x, y, models, mx=None, ymax=None, xmin=None):\n",
    "    ''' plot input data '''\n",
    "    \n",
    "    colors = ['g', 'k', 'b', 'm', 'r']\n",
    "    linestyles = ['-', '-.', '--', ':', '-']\n",
    "\n",
    "    plt.figure(num=None, figsize=(10, 6))\n",
    "    plt.clf()\n",
    "    \n",
    "    plt.scatter(x, y, s=10, label='data')\n",
    "    \n",
    "    plt.title(\"Web traffic over the last month\")\n",
    "    plt.xlabel(\"Time\")\n",
    "    plt.ylabel(\"Hits/hour\")\n",
    "    plt.xticks(\n",
    "        [w * 7 * 24 for w in range(10)], ['week %i' % w for w in range(10)])\n",
    "\n",
    "    if models:\n",
    "        if mx is None:\n",
    "            mx = np.linspace(0, x.shape[0], 1000)\n",
    "        for model, style, color in zip(models, linestyles, colors):\n",
    "            # print \"Model:\",model\n",
    "            # print \"Coeffs:\",model.coeffs\n",
    "            plt.plot(mx, model(mx), linestyle=style, linewidth=2, c=color, label=f\"d={model.order}\")\n",
    "\n",
    "    plt.legend(loc=\"upper left\")\n",
    "\n",
    "    plt.autoscale(tight=True)\n",
    "    plt.ylim(ymin=0)\n",
    "    if ymax:\n",
    "        plt.ylim(ymax=ymax)\n",
    "    if xmin:\n",
    "        plt.xlim(xmin=xmin)\n",
    "    plt.grid(True, linestyle='-', color='0.75')\n",
    "    \n",
    "plot_models(web_traffic.index, web_traffic.ReqsPerHour, None)"
   ]
  },
  {
   "cell_type": "code",
   "execution_count": null,
   "metadata": {},
   "outputs": [],
   "source": [
    "x, y = web_traffic.index, web_traffic.ReqsPerHour\n",
    "\n",
    "fp1, res1, rank1, sv1, rcond1 = np.polyfit(x, y, 1, full=True)\n",
    "print(\"Model parameters of fp1: %s\" % fp1)\n",
    "print(\"Error of the model of fp1:\", res1)\n",
    "f1 = np.poly1d(fp1)"
   ]
  },
  {
   "cell_type": "code",
   "execution_count": null,
   "metadata": {},
   "outputs": [],
   "source": [
    "plot_models(x, y, [f1])"
   ]
  },
  {
   "cell_type": "markdown",
   "metadata": {},
   "source": [
    "Обучим еще несколько моделей с более высокой степенью многочлена:"
   ]
  },
  {
   "cell_type": "code",
   "execution_count": null,
   "metadata": {},
   "outputs": [],
   "source": [
    "fp2, res2, rank2, sv2, rcond2 = np.polyfit(x, y, 2, full=True)\n",
    "print(\"Model parameters of fp2: %s\" % fp2)\n",
    "print(\"Error of the model of fp2:\", res2)\n",
    "f2 = np.poly1d(fp2)\n",
    "f3 = np.poly1d(np.polyfit(x, y, 3))\n",
    "f10 = np.poly1d(np.polyfit(x, y, 10))\n",
    "f100 = np.poly1d(np.polyfit(x, y, 100))"
   ]
  },
  {
   "cell_type": "markdown",
   "metadata": {},
   "source": [
    "Нарисуем эти модели"
   ]
  },
  {
   "cell_type": "code",
   "execution_count": null,
   "metadata": {},
   "outputs": [],
   "source": [
    "plot_models(x, y, [f1, f2, f3, f10, f100])"
   ]
  },
  {
   "cell_type": "markdown",
   "metadata": {},
   "source": [
    "Замечаем, что точка перегиба нашего графика находится примерно на середине второй недели. Повторим обучение наших моделей с этим смещением."
   ]
  },
  {
   "cell_type": "code",
   "execution_count": null,
   "metadata": {},
   "outputs": [],
   "source": [
    "# fit and plot a model using the knowledge about inflection point\n",
    "inflection = int(2.5 * 7 * 24)\n",
    "xa = x[:inflection]\n",
    "ya = y[:inflection]\n",
    "xb = x[inflection:]\n",
    "yb = y[inflection:]\n",
    "\n",
    "fa = np.poly1d(np.polyfit(xa, ya, 1))\n",
    "fb = np.poly1d(np.polyfit(xb, yb, 1))"
   ]
  },
  {
   "cell_type": "code",
   "execution_count": null,
   "metadata": {},
   "outputs": [],
   "source": [
    "plot_models(x, y, [fa, fb])"
   ]
  },
  {
   "cell_type": "code",
   "execution_count": null,
   "metadata": {},
   "outputs": [],
   "source": [
    "# fit and plot a model using the knowledge about inflection point\n",
    "inflection = int(3.5 * 7 * 24)\n",
    "xa = x[:inflection]\n",
    "ya = y[:inflection]\n",
    "xb = x[inflection:]\n",
    "yb = y[inflection:]\n",
    "\n",
    "fa = np.poly1d(np.polyfit(xa, ya, 1))\n",
    "fb = np.poly1d(np.polyfit(xb, yb, 1))\n",
    "plot_models(x, y, [fa, fb])"
   ]
  },
  {
   "cell_type": "markdown",
   "metadata": {},
   "source": [
    "Нарисуем существующие модели с экстраполяцией в недалекое будущее (до 6-й недели с начала наблюдений)"
   ]
  },
  {
   "cell_type": "code",
   "execution_count": null,
   "metadata": {},
   "outputs": [],
   "source": [
    "plot_models(\n",
    "    x, y, [f1, f2, f3, f10, f100],\n",
    "    mx=np.linspace(0 * 7 * 24, 6 * 7 * 24, 100),\n",
    "    ymax=10000, xmin=0 * 7 * 24)"
   ]
  },
  {
   "cell_type": "markdown",
   "metadata": {},
   "source": [
    "А также создадим несколько моделей, обученных на данных только после второй точки перегиба:"
   ]
  },
  {
   "cell_type": "code",
   "execution_count": null,
   "metadata": {},
   "outputs": [],
   "source": [
    "fb1 = fb\n",
    "fb2 = np.poly1d(np.polyfit(xb, yb, 2))\n",
    "fb3 = np.poly1d(np.polyfit(xb, yb, 3))\n",
    "fb10 = np.poly1d(np.polyfit(xb, yb, 10))\n",
    "fb100 = np.poly1d(np.polyfit(xb, yb, 100))"
   ]
  },
  {
   "cell_type": "markdown",
   "metadata": {},
   "source": [
    "Нарисуем их:"
   ]
  },
  {
   "cell_type": "code",
   "execution_count": null,
   "metadata": {},
   "outputs": [],
   "source": [
    "plot_models(\n",
    "    x, y, [fb1, fb2, fb3, fb10, fb100],\n",
    "    mx=np.linspace(0 * 7 * 24, 6 * 7 * 24, 100),\n",
    "    ymax=10000, xmin=0 * 7 * 24)"
   ]
  },
  {
   "cell_type": "markdown",
   "metadata": {},
   "source": [
    "#### Оценим точность \n",
    "\n",
    "Напишем функцию которая считает среднеквадратичную ошибку для модели и посмотрим, на сколько точны наши первоначальные модели:"
   ]
  },
  {
   "cell_type": "code",
   "execution_count": null,
   "metadata": {},
   "outputs": [],
   "source": [
    "def error(f, x, y):\n",
    "    return np.sum((f(x) - y) ** 2)\n",
    "\n",
    "print(\"Errors for the complete data set:\")\n",
    "for f in [f1, f2, f3, f10, f100]:\n",
    "    print(\"Error d={}: {}\" .format (f.order, error(f, x, y)))"
   ]
  },
  {
   "cell_type": "markdown",
   "metadata": {},
   "source": [
    "...и оценим их же точность, но только после точки перегиба:"
   ]
  },
  {
   "cell_type": "code",
   "execution_count": null,
   "metadata": {},
   "outputs": [],
   "source": [
    "print(\"Errors for only the time after inflection point\")\n",
    "for f in [f1, f2, f3, f10, f100]:\n",
    "    print(\"Error d={}: {}\" .format(f.order, error(f, xb, yb)))"
   ]
  },
  {
   "cell_type": "markdown",
   "metadata": {},
   "source": [
    "...и теперь точность моделей, обученных после точки перегиба:"
   ]
  },
  {
   "cell_type": "code",
   "execution_count": null,
   "metadata": {},
   "outputs": [],
   "source": [
    "print(\"Errors for only the time after inflection point\")\n",
    "for f in [fb1, fb2, fb3, fb10, fb100]:\n",
    "    print(\"Error d=%i: %f\" % (f.order, error(f, xb, yb)))"
   ]
  },
  {
   "cell_type": "markdown",
   "metadata": {},
   "source": [
    "Выберем победительницей модель с полиномом в степени 2. Рассчитаем дату достижения предела в 50000 запросов."
   ]
  },
  {
   "cell_type": "code",
   "execution_count": null,
   "metadata": {},
   "outputs": [],
   "source": [
    "from scipy.optimize import fsolve\n",
    "reached_max = fsolve(fb2 - 50000, x0=800) / (7 * 24)\n",
    "print(\"50,000 hits/hour expected at week %f\" % reached_max[0])"
   ]
  },
  {
   "cell_type": "markdown",
   "metadata": {},
   "source": [
    "Нарисуем:"
   ]
  },
  {
   "cell_type": "code",
   "execution_count": null,
   "metadata": {},
   "outputs": [],
   "source": [
    "plot_models(\n",
    "    x, y, [fb2],\n",
    "    mx=np.linspace(0 * 7 * 24, 8 * 7 * 24, 100),\n",
    "    ymax=50000, xmin=0 * 7 * 24)"
   ]
  },
  {
   "cell_type": "markdown",
   "metadata": {},
   "source": [
    "### Пример 2. Кластеризация \n",
    "\n",
    "В качестве визуальной оценки данных используется кластеризация."
   ]
  },
  {
   "cell_type": "code",
   "execution_count": null,
   "metadata": {},
   "outputs": [],
   "source": [
    "!conda install -y scikit-learn"
   ]
  },
  {
   "cell_type": "code",
   "execution_count": null,
   "metadata": {},
   "outputs": [],
   "source": [
    "from sklearn.decomposition import PCA"
   ]
  },
  {
   "cell_type": "markdown",
   "metadata": {},
   "source": [
    "Метод PCA (метод главных компонент) позволяет уменьшить размерность датасета до 2 (или 3).  Это позволяет визуально оценить \"обучаемость\" алгоритмов на этих данных. Также метод позволяет выяснить, из чего состоят итоговые компоненты. В основе этого метода лежит сингулярное разложение векторов (SVD). Рассмотрим на примере набора данных \"Ирисы\":"
   ]
  },
  {
   "cell_type": "code",
   "execution_count": null,
   "metadata": {},
   "outputs": [],
   "source": [
    "from sklearn import datasets\n",
    "\n",
    "iris = datasets.load_iris()\n",
    "X, y = iris.data, iris.target\n",
    "\n",
    "iris.data.shape"
   ]
  },
  {
   "cell_type": "code",
   "execution_count": null,
   "metadata": {},
   "outputs": [],
   "source": [
    "pca = PCA(n_components=2)\n",
    "X_reduced = pca.fit_transform(X)\n",
    "\n",
    "print(\"Meaning of the 2 components:\")\n",
    "for component in pca.components_:\n",
    "    print(\" + \".join(\"%.3f x %s\" % (value, name)\n",
    "                     for value, name in zip(component,\n",
    "                                            iris.feature_names)))\n",
    "plt.figure(figsize=(10,7))\n",
    "plt.scatter(X_reduced[:, 0], X_reduced[:, 1], c=y, s=70, cmap='viridis')\n",
    "plt.show()"
   ]
  },
  {
   "cell_type": "code",
   "execution_count": null,
   "metadata": {},
   "outputs": [],
   "source": [
    "pca = PCA(n_components=3)\n",
    "X_reduced = pca.fit_transform(X)\n",
    "\n",
    "fig = plt.figure(figsize=(10,8))\n",
    "ax = plt.axes(projection='3d')\n",
    "ax.scatter( X_reduced[:, 0], X_reduced[:, 1], X_reduced[:, 2], c=y, cmap='viridis')\n",
    "ax.set_xlabel('x')\n",
    "ax.set_ylabel('y')\n",
    "ax.set_zlabel('z')"
   ]
  },
  {
   "cell_type": "code",
   "execution_count": null,
   "metadata": {},
   "outputs": [],
   "source": [
    "from ipywidgets import interact\n",
    "\n",
    "def irises_3D(elev=30, azim=30, roll=0):\n",
    "    fig = plt.figure(figsize=(10,8))\n",
    "    ax = plt.axes(projection='3d')\n",
    "    ax.view_init(elev=elev, azim=azim, roll=roll)\n",
    "    ax.scatter( X_reduced[:, 0], X_reduced[:, 1], X_reduced[:, 2], c=y, cmap='viridis')\n",
    "    ax.set_xlabel('x')\n",
    "    ax.set_ylabel('y')\n",
    "    ax.set_zlabel('z')\n",
    "\n",
    "\n",
    "interact(irises_3D, elev=(-90, 90), azim=(-180, 180), roll=(-90, 90));"
   ]
  },
  {
   "cell_type": "markdown",
   "metadata": {},
   "source": [
    "Рассмотрим на примере датасета \"рукописные цифры\". Здесь размерность уменьшена с 64 до 2."
   ]
  },
  {
   "cell_type": "code",
   "execution_count": null,
   "metadata": {},
   "outputs": [],
   "source": [
    "from sklearn.datasets import load_digits\n",
    "\n",
    "digits = load_digits()\n",
    "X = digits.data\n",
    "y = digits.target\n",
    "\n",
    "pca = PCA(n_components=2)\n",
    "X_reduced = pca.fit_transform(X)\n",
    "\n",
    "print('Projecting %d-dimensional data to 2D' % X.shape[1])\n",
    "\n",
    "plt.figure(figsize=(12,10))\n",
    "plt.scatter(X_reduced[:, 0], X_reduced[:, 1], c=y, \n",
    "            edgecolor='none', alpha=0.7, s=40,\n",
    "            cmap=plt.cm.get_cmap('nipy_spectral', 10))\n",
    "plt.colorbar()\n",
    "plt.show()"
   ]
  },
  {
   "cell_type": "code",
   "execution_count": null,
   "metadata": {},
   "outputs": [],
   "source": [
    "pca = PCA(n_components=3)\n",
    "X_reduced = pca.fit_transform(X)\n",
    "\n",
    "fig = plt.figure(figsize=(10,8))\n",
    "ax = plt.axes(projection='3d')\n",
    "ax.scatter( X_reduced[:, 0], X_reduced[:, 1], X_reduced[:, 2], c=y, cmap='nipy_spectral')\n",
    "ax.set_xlabel('x')\n",
    "ax.set_ylabel('y')\n",
    "ax.set_zlabel('z')\n",
    "plt.show()"
   ]
  },
  {
   "cell_type": "markdown",
   "metadata": {},
   "source": [
    "Пример кластеризации по t-SNE."
   ]
  },
  {
   "cell_type": "code",
   "execution_count": null,
   "metadata": {},
   "outputs": [],
   "source": [
    "from sklearn.manifold import TSNE\n",
    "\n",
    "plt.figure(figsize=(8,8))\n",
    "\n",
    "tsne = TSNE()\n",
    "X_embedded = tsne.fit_transform(X)\n",
    "\n",
    "sns.scatterplot(x=X_embedded[:,0], y=X_embedded[:,1], hue=y, legend='full', palette=sns.color_palette(\"bright\", 10))"
   ]
  },
  {
   "cell_type": "code",
   "execution_count": null,
   "metadata": {},
   "outputs": [],
   "source": [
    "tsne = TSNE(n_components=3)\n",
    "X_embedded = tsne.fit_transform(X)\n",
    "\n",
    "ig = plt.figure(figsize=(10,8))\n",
    "ax = plt.axes(projection='3d')\n",
    "ax.scatter( X_embedded[:, 0], X_embedded[:, 1], X_embedded[:, 2], c=y, cmap='nipy_spectral')\n",
    "ax.set_xlabel('x')\n",
    "ax.set_ylabel('y')\n",
    "ax.set_zlabel('z')"
   ]
  },
  {
   "cell_type": "code",
   "execution_count": null,
   "metadata": {},
   "outputs": [],
   "source": [
    "def digits_3D(elev=30, azim=30, roll=0):\n",
    "    ig = plt.figure(figsize=(10,8))\n",
    "    ax = plt.axes(projection='3d')\n",
    "    ax.view_init(elev=elev, azim=azim, roll=roll)\n",
    "    ax.scatter( X_embedded[:, 0], X_embedded[:, 1], X_embedded[:, 2], c=y, cmap='nipy_spectral')\n",
    "    ax.set_xlabel('x')\n",
    "    ax.set_ylabel('y')\n",
    "    ax.set_zlabel('z')\n",
    "\n",
    "interact(digits_3D, elev=(-90, 90), azim=(-180, 180), roll=(-90, 90));"
   ]
  },
  {
   "cell_type": "markdown",
   "metadata": {},
   "source": [
    "### Пример 3. Анализ покупательской корзины\n",
    "\n",
    "Это пример \"майнинга данных\" - поиска зависимостей и закономерностей в массиве данных. \"Анализ покупательской корзины\" - довольно часто использующийся метод при построении рекомендательных систем. Базовый алгоритм называется ```Apriori```, он был предложен в 1994 году.\n",
    "\n",
    "Назначение алгоритма - поиск часто встречающихся подмножеств. Он оперирует следующими понятиями:\n",
    " - \"суппорт\" $Support A$ - вероятность покупки товара A, ее можно вычислить как отношение количества покупок A к общему количеству покупок.\n",
    " - \"конфидент\" $Conf  A{\\rightarrow}B$  - вычисляется для пары товаров A и B как отношение случаев совместного приобретения этих товаров к покупкам артикула A\n",
    " - \"подъем\" $Lift  A{\\rightarrow}B$  - это отношение вероятности приобретения пары товаров A и B к вероятности приобретения товара A. Или попросту говоря, отношение \"конфидента\" к \"суппорту\".\n",
    " \n",
    "Давайте \"вытащим\" из датасета с данными о покупках в некотором французском супермаркете самые популярные товары и их сочетания с помощью алгоритма ```Apriori```.\n"
   ]
  },
  {
   "cell_type": "markdown",
   "metadata": {},
   "source": [
    "Посмотрим на содержимое файла и загрузим датасет:"
   ]
  },
  {
   "cell_type": "code",
   "execution_count": null,
   "metadata": {},
   "outputs": [],
   "source": [
    "with open('data/store_data.csv') as f:\n",
    "    for i in range(10):\n",
    "        print(f\"{i}:\", f.readline().strip())"
   ]
  },
  {
   "cell_type": "code",
   "execution_count": null,
   "metadata": {},
   "outputs": [],
   "source": [
    "df_store = pd.read_csv('data/store_data.csv', header=None)\n",
    "print(df_store.shape)\n",
    "df_store.head()"
   ]
  },
  {
   "cell_type": "markdown",
   "metadata": {},
   "source": [
    "Посмотрим на список артикулов и их количество:"
   ]
  },
  {
   "cell_type": "code",
   "execution_count": null,
   "metadata": {},
   "outputs": [],
   "source": [
    "df_store.stack().unique()"
   ]
  },
  {
   "cell_type": "markdown",
   "metadata": {},
   "source": [
    "На базе исходного dataframe создадим dataframe, в котором признаки приобретения того или иного товара станут булевыми dummy признаками. Для этого мы ему сначала сделаем ```stack()```, получим dummy-признаки, а затем сгруппируем по индексу первого уровня со взятием максимума:"
   ]
  },
  {
   "cell_type": "code",
   "execution_count": null,
   "metadata": {},
   "outputs": [],
   "source": [
    "df_dummies = pd.get_dummies(df_store.stack()).groupby(level=0).max().astype(int)\n",
    "df_dummies"
   ]
  },
  {
   "cell_type": "markdown",
   "metadata": {},
   "source": [
    "Запустим алгоритм Apriori и получим список наиболее часто приобретаемых товаров и их сочетаний:"
   ]
  },
  {
   "cell_type": "code",
   "execution_count": null,
   "metadata": {},
   "outputs": [],
   "source": [
    "!pip install mlxtend"
   ]
  },
  {
   "cell_type": "code",
   "execution_count": null,
   "metadata": {},
   "outputs": [],
   "source": [
    "from mlxtend.frequent_patterns import apriori\n",
    "\n",
    "df_apriori = apriori(df_dummies, min_support=0.01, use_colnames=True)\n",
    "df_apriori"
   ]
  },
  {
   "cell_type": "markdown",
   "metadata": {},
   "source": [
    "Отсортируем список:"
   ]
  },
  {
   "cell_type": "code",
   "execution_count": null,
   "metadata": {},
   "outputs": [],
   "source": [
    "df_apriori.sort_values('support', ascending=False)"
   ]
  },
  {
   "cell_type": "markdown",
   "metadata": {},
   "source": [
    "Теперь получим список самых популярных сочетаний для 2-х и 3-х товаров в корзине:"
   ]
  },
  {
   "cell_type": "code",
   "execution_count": null,
   "metadata": {},
   "outputs": [],
   "source": [
    "df_apriori['item_count'] = df_apriori['itemsets'].apply(len)\n",
    "df_apriori[ df_apriori.item_count >=2 ].sort_values('support', ascending=False)"
   ]
  },
  {
   "cell_type": "markdown",
   "metadata": {},
   "source": [
    "### Пример 4. Отбор и преобразование признаков для задач машинного обучения\n",
    "\n",
    "Решается задача кредитного скоринга. \n",
    "\n",
    "Признаки клиентов банка:\n",
    "- Age - возраст (вещественный)\n",
    "- Income - месячный доход (вещественный)\n",
    "- BalanceToCreditLimit - отношение баланса на кредитной карте к лимиту по кредиту (вещественный)\n",
    "- DIR - Debt-to-income Ratio (вещественный)\n",
    "- NumLoans - число заемов и кредитных линий\n",
    "- NumRealEstateLoans - число ипотек и заемов, связанных с недвижимостью (натуральное число)\n",
    "- NumDependents - число членов семьи, которых содержит клиент, исключая самого клиента (натуральное число)\n",
    "- Num30-59Delinquencies - число просрочек выплат по кредиту от 30 до 59 дней (натуральное число)\n",
    "- Num60-89Delinquencies - число просрочек выплат по кредиту от 60 до 89 дней (натуральное число)\n",
    "- Delinquent90 - были ли просрочки выплат по кредиту более 90 дней (бинарный)\n",
    "\n",
    "Задача: обучить модель, способную предсказывать вероятность просрочки выплаты по кредиту более чем на 90 дней."
   ]
  },
  {
   "cell_type": "code",
   "execution_count": null,
   "metadata": {},
   "outputs": [],
   "source": [
    "df = pd.read_csv('data/credit_scoring.csv', index_col='client_id')\n",
    "df"
   ]
  },
  {
   "cell_type": "code",
   "execution_count": null,
   "metadata": {},
   "outputs": [],
   "source": [
    "df.shape"
   ]
  },
  {
   "cell_type": "code",
   "execution_count": null,
   "metadata": {},
   "outputs": [],
   "source": [
    "df.info()"
   ]
  },
  {
   "cell_type": "markdown",
   "metadata": {},
   "source": [
    "Как обычно, проверим на NaN:"
   ]
  },
  {
   "cell_type": "code",
   "execution_count": null,
   "metadata": {},
   "outputs": [],
   "source": [
    "df.isnull().sum()"
   ]
  },
  {
   "cell_type": "code",
   "execution_count": null,
   "metadata": {},
   "outputs": [],
   "source": [
    "df.describe()"
   ]
  },
  {
   "cell_type": "markdown",
   "metadata": {},
   "source": [
    "Построим матрицу диаграмм рассеяния:"
   ]
  },
  {
   "cell_type": "code",
   "execution_count": null,
   "metadata": {},
   "outputs": [],
   "source": [
    "sns.pairplot(df, diag_kind='kde', plot_kws={'alpha':0.2});"
   ]
  },
  {
   "cell_type": "markdown",
   "metadata": {},
   "source": [
    "Рассмотрим признак ```Income```:"
   ]
  },
  {
   "cell_type": "code",
   "execution_count": null,
   "metadata": {},
   "outputs": [],
   "source": [
    "sns.histplot(df.Income, kde=True);"
   ]
  },
  {
   "cell_type": "code",
   "execution_count": null,
   "metadata": {},
   "outputs": [],
   "source": [
    "df.Income.hist();"
   ]
  },
  {
   "cell_type": "markdown",
   "metadata": {},
   "source": [
    "Что делать с такими данными?\n",
    "\n",
    "**Способ 1**: логарифмировать"
   ]
  },
  {
   "cell_type": "code",
   "execution_count": null,
   "metadata": {},
   "outputs": [],
   "source": [
    "np.log(0)"
   ]
  },
  {
   "cell_type": "code",
   "execution_count": null,
   "metadata": {},
   "outputs": [],
   "source": [
    "(df.Income.round(2) == 0.0).sum()"
   ]
  },
  {
   "cell_type": "code",
   "execution_count": null,
   "metadata": {},
   "outputs": [],
   "source": [
    "mask = (df.Income.round(2) == 0.0)\n",
    "df.loc[mask, 'Income'] += 1\n",
    "sns.histplot(np.log10(df.Income), kde=True);"
   ]
  },
  {
   "cell_type": "markdown",
   "metadata": {},
   "source": [
    "**Способ 2**: распределить по категориям согласно квантилям"
   ]
  },
  {
   "cell_type": "code",
   "execution_count": null,
   "metadata": {},
   "outputs": [],
   "source": [
    "quantiles = 10\n",
    "cats_income, bins = pd.qcut(df.Income, \n",
    "                      q=quantiles, \n",
    "                      labels=range(1,quantiles+1),\n",
    "                      retbins=True\n",
    "                     )\n",
    "print(bins)\n",
    "cats_income"
   ]
  },
  {
   "cell_type": "code",
   "execution_count": null,
   "metadata": {},
   "outputs": [],
   "source": [
    "plt.bar(cats_income.cat.categories, cats_income.value_counts())\n",
    "plt.xticks(cats_income.cat.categories, np.round(bins[1:]).astype(int))\n",
    "plt.show()"
   ]
  },
  {
   "cell_type": "markdown",
   "metadata": {},
   "source": [
    "Заменим NaN:"
   ]
  },
  {
   "cell_type": "code",
   "execution_count": null,
   "metadata": {},
   "outputs": [],
   "source": [
    "df['Income'] = df['Income'].fillna(df['Income'].median())"
   ]
  },
  {
   "cell_type": "markdown",
   "metadata": {},
   "source": [
    "Теперь посмотрим на признак ```NumDependents```:"
   ]
  },
  {
   "cell_type": "code",
   "execution_count": null,
   "metadata": {},
   "outputs": [],
   "source": [
    "df['NumDependents'].value_counts().sort_index()"
   ]
  },
  {
   "cell_type": "code",
   "execution_count": null,
   "metadata": {},
   "outputs": [],
   "source": [
    "df['NumDependents'] = df['NumDependents'].fillna(0)\n",
    "df.isnull().sum()"
   ]
  },
  {
   "cell_type": "markdown",
   "metadata": {},
   "source": [
    "Сделаем копию исходного сета, чтобы затем сравнить как обучалась модель на исходных данных и после преобразования:"
   ]
  },
  {
   "cell_type": "code",
   "execution_count": null,
   "metadata": {},
   "outputs": [],
   "source": [
    "df_src = df.copy()"
   ]
  },
  {
   "cell_type": "markdown",
   "metadata": {},
   "source": [
    "Прологарифмируем признак \"доход\" и удалим исходные данные:"
   ]
  },
  {
   "cell_type": "code",
   "execution_count": null,
   "metadata": {},
   "outputs": [],
   "source": [
    "df['Income_log10'] = np.log10(df.Income)\n",
    "df.drop(['Income'], axis=1, inplace=True)\n",
    "df"
   ]
  },
  {
   "cell_type": "markdown",
   "metadata": {},
   "source": [
    "Посмотрим на признаки по дням просрочки:"
   ]
  },
  {
   "cell_type": "code",
   "execution_count": null,
   "metadata": {},
   "outputs": [],
   "source": [
    "df['Num30-59Delinquencies'].value_counts().sort_index()"
   ]
  },
  {
   "cell_type": "code",
   "execution_count": null,
   "metadata": {},
   "outputs": [],
   "source": [
    "df['Num60-89Delinquencies'].value_counts().sort_index()"
   ]
  },
  {
   "cell_type": "markdown",
   "metadata": {},
   "source": [
    "Преобразуем их в бинарные dummy-признаки по категориям: \"без просрочки\", \"одна-две просрочки\" и \"более трех\"."
   ]
  },
  {
   "cell_type": "code",
   "execution_count": null,
   "metadata": {},
   "outputs": [],
   "source": [
    "bins = [0,1,3,100]\n",
    "labels = ['none', 'onetwo', 'threemore']\n",
    "pd.get_dummies( pd.cut(df['Num30-59Delinquencies'], bins, labels=labels, right=False),\n",
    "               prefix='deliq30')"
   ]
  },
  {
   "cell_type": "code",
   "execution_count": null,
   "metadata": {},
   "outputs": [],
   "source": [
    "df = df.join([pd.get_dummies( pd.cut(df['Num30-59Delinquencies'], bins, labels=labels, right=False),\n",
    "               prefix='deliq30'),\n",
    "              pd.get_dummies( pd.cut(df['Num60-89Delinquencies'], bins, labels=labels, right=False),\n",
    "               prefix='deliq60'),\n",
    "             ])\n",
    "df.drop(['Num30-59Delinquencies', 'Num60-89Delinquencies'], axis=1, inplace=True)"
   ]
  },
  {
   "cell_type": "code",
   "execution_count": null,
   "metadata": {},
   "outputs": [],
   "source": [
    "df"
   ]
  },
  {
   "cell_type": "markdown",
   "metadata": {},
   "source": [
    "Проверим сбалансированность классов в результирующем признаке:"
   ]
  },
  {
   "cell_type": "code",
   "execution_count": null,
   "metadata": {},
   "outputs": [],
   "source": [
    "pd.DataFrame({'counts': df['Delinquent90'].value_counts(), 'pct': 100*df['Delinquent90'].value_counts()/df.shape[0]})"
   ]
  },
  {
   "cell_type": "markdown",
   "metadata": {},
   "source": [
    "Сразу обучим \"сильную\" модель - \"случайный лес\":"
   ]
  },
  {
   "cell_type": "code",
   "execution_count": null,
   "metadata": {},
   "outputs": [],
   "source": [
    "from sklearn.ensemble import RandomForestClassifier\n",
    "from sklearn.metrics import accuracy_score, f1_score, roc_auc_score\n",
    "\n",
    "from sklearn.model_selection import train_test_split"
   ]
  },
  {
   "cell_type": "markdown",
   "metadata": {},
   "source": [
    "Создадим обучающую и тестовую выборку:"
   ]
  },
  {
   "cell_type": "code",
   "execution_count": null,
   "metadata": {},
   "outputs": [],
   "source": [
    "y = df['Delinquent90']\n",
    "X = df.drop(columns=['Delinquent90'])\n",
    "\n",
    "X_train, X_test, y_train, y_test = train_test_split(X, y, \n",
    "                                                    test_size=0.3, \n",
    "                                                    random_state=20211210,\n",
    "                                                   stratify = y)"
   ]
  },
  {
   "cell_type": "code",
   "execution_count": null,
   "metadata": {},
   "outputs": [],
   "source": [
    "forest = RandomForestClassifier(n_estimators=10, max_depth=7, n_jobs=-1, class_weight={0:1, 1:13}) \n",
    "forest.fit(X_train,y_train)"
   ]
  },
  {
   "cell_type": "markdown",
   "metadata": {},
   "source": [
    "Посмотрим на точность работы модели:"
   ]
  },
  {
   "cell_type": "code",
   "execution_count": null,
   "metadata": {},
   "outputs": [],
   "source": [
    "test_pred = forest.predict(X_test)\n",
    "test_pred_proba = forest.predict_proba(X_test)\n",
    "auc = roc_auc_score(y_test, test_pred_proba[:, 1])\n",
    "print(\"Accuracy score: {}, f1: {}, auc: {}\".format(accuracy_score(y_test, test_pred),\\\n",
    "                                                   f1_score(y_test, test_pred), \\\n",
    "                                                  auc))"
   ]
  },
  {
   "cell_type": "markdown",
   "metadata": {},
   "source": [
    "Теперь сделаем то же самое, но с необработанными данными:"
   ]
  },
  {
   "cell_type": "code",
   "execution_count": null,
   "metadata": {},
   "outputs": [],
   "source": [
    "df_src"
   ]
  },
  {
   "cell_type": "code",
   "execution_count": null,
   "metadata": {},
   "outputs": [],
   "source": [
    "y = df_src['Delinquent90']\n",
    "X = df_src.drop(columns=['Delinquent90'])\n",
    "\n",
    "X_train, X_test, y_train, y_test = train_test_split(X, y, \n",
    "                                                    test_size=0.3, \n",
    "                                                    random_state=20211210,\n",
    "                                                   stratify = y)\n",
    "\n",
    "forest = RandomForestClassifier(n_estimators=10, max_depth=7, n_jobs=-1, class_weight={0:1, 1:13}) \n",
    "forest.fit(X_train,y_train)\n",
    "\n",
    "test_pred = forest.predict(X_test)\n",
    "test_pred_proba = forest.predict_proba(X_test)\n",
    "auc = roc_auc_score(y_test, test_pred_proba[:, 1])\n",
    "print(\"Accuracy score: {}, f1: {}, auc: {}\".format(accuracy_score(y_test, test_pred),\\\n",
    "                                                   f1_score(y_test, test_pred), \\\n",
    "                                                  auc))"
   ]
  },
  {
   "cell_type": "markdown",
   "metadata": {},
   "source": [
    "Для выбора лучших параметров модели используют класс ```GridSearchCV```:"
   ]
  },
  {
   "cell_type": "code",
   "execution_count": null,
   "metadata": {},
   "outputs": [],
   "source": [
    "from sklearn.model_selection import GridSearchCV\n",
    "\n",
    "params = {\n",
    "    'n_estimators': [10],\n",
    "    'max_depth': range(7, 10+1)\n",
    "}\n",
    "\n",
    "model = RandomForestClassifier(class_weight={0:1, 1:13})\n",
    "gs = GridSearchCV(model, params, scoring='roc_auc', cv=5)\n",
    "\n",
    "gs.fit(X, y)\n",
    "best_forest = gs.best_estimator_\n",
    "print(best_forest)\n",
    "gs.best_score_\n"
   ]
  },
  {
   "cell_type": "markdown",
   "metadata": {},
   "source": [
    "Обучим модель с лучшими параметрами и снимем метрики:"
   ]
  },
  {
   "cell_type": "code",
   "execution_count": null,
   "metadata": {},
   "outputs": [],
   "source": [
    "forest = RandomForestClassifier(n_estimators=30, max_depth=7, n_jobs=-1, class_weight={0:1, 1:13}) \n",
    "forest.fit(X_train,y_train)\n",
    "\n",
    "test_pred = forest.predict(X_test)\n",
    "test_pred_proba = forest.predict_proba(X_test)\n",
    "auc = roc_auc_score(y_test, test_pred_proba[:, 1])\n",
    "print(\"Accuracy score: {}, f1: {}, auc: {}\".format(accuracy_score(y_test, test_pred),\\\n",
    "                                                   f1_score(y_test, test_pred), \\\n",
    "                                                  auc))"
   ]
  },
  {
   "cell_type": "markdown",
   "metadata": {},
   "source": [
    "Теперь подберем лучшую модель для модифицированного датасета:"
   ]
  },
  {
   "cell_type": "code",
   "execution_count": null,
   "metadata": {},
   "outputs": [],
   "source": [
    "df"
   ]
  },
  {
   "cell_type": "code",
   "execution_count": null,
   "metadata": {},
   "outputs": [],
   "source": [
    "y = df['Delinquent90']\n",
    "X = df.drop(columns=['Delinquent90'])\n",
    "\n",
    "X_train, X_test, y_train, y_test = train_test_split(X, y, \n",
    "                                                    test_size=0.3, \n",
    "                                                    random_state=20211210,\n",
    "                                                   stratify = y)"
   ]
  },
  {
   "cell_type": "code",
   "execution_count": null,
   "metadata": {},
   "outputs": [],
   "source": [
    "params = {\n",
    "    'n_estimators': range(26, 50+1),\n",
    "     'max_depth': [7]\n",
    "}\n",
    "\n",
    "model = RandomForestClassifier(class_weight={0:1, 1:13})\n",
    "gs = GridSearchCV(model, params, scoring='roc_auc', cv=5)\n",
    "\n",
    "gs.fit(X, y)\n",
    "best_forest = gs.best_estimator_\n",
    "print(best_forest)\n",
    "gs.best_score_"
   ]
  },
  {
   "cell_type": "markdown",
   "metadata": {},
   "source": [
    "Так же обучим модель с лучшими параметрами и снимем метрики:"
   ]
  },
  {
   "cell_type": "code",
   "execution_count": null,
   "metadata": {},
   "outputs": [],
   "source": [
    "forest = RandomForestClassifier(class_weight={0: 1, 1: 13}, max_depth=8, n_estimators=48) \n",
    "forest.fit(X_train,y_train)\n",
    "\n",
    "test_pred = forest.predict(X_test)\n",
    "test_pred_proba = forest.predict_proba(X_test)\n",
    "auc = roc_auc_score(y_test, test_pred_proba[:, 1])\n",
    "print(\"Accuracy score: {}, f1: {}, auc: {}\".format(accuracy_score(y_test, test_pred),\\\n",
    "                                                   f1_score(y_test, test_pred), \\\n",
    "                                                  auc))"
   ]
  },
  {
   "cell_type": "code",
   "execution_count": null,
   "metadata": {},
   "outputs": [],
   "source": [
    "indices = np.argsort(forest.feature_importances_)[::-1]\n",
    "\n",
    "for i in range(X_train.shape[1]):\n",
    "    print(f\"{i+1}. {X_train.columns[ indices[i] ]:25} {forest.feature_importances_[indices[i]]:.4f}\")"
   ]
  },
  {
   "cell_type": "markdown",
   "metadata": {},
   "source": [
    "Теперь посмотрим на признак ```BalanceToCreditLimit```:"
   ]
  },
  {
   "cell_type": "code",
   "execution_count": null,
   "metadata": {},
   "outputs": [],
   "source": [
    "df['BalanceToCreditLimit'].describe()"
   ]
  },
  {
   "cell_type": "code",
   "execution_count": null,
   "metadata": {},
   "outputs": [],
   "source": [
    "(df['BalanceToCreditLimit']>5).sum()"
   ]
  },
  {
   "cell_type": "code",
   "execution_count": null,
   "metadata": {},
   "outputs": [],
   "source": [
    "((df['BalanceToCreditLimit']>5) & (df['Delinquent90']==1)).sum()"
   ]
  },
  {
   "cell_type": "code",
   "execution_count": null,
   "metadata": {},
   "outputs": [],
   "source": [
    "quantiles = 10\n",
    "cats_bal, bins = pd.qcut(df.BalanceToCreditLimit, \n",
    "                      q=quantiles, \n",
    "                      labels=range(1,quantiles+1),\n",
    "                      retbins=True\n",
    "                     )\n",
    "print(bins)\n",
    "cats_bal"
   ]
  },
  {
   "cell_type": "code",
   "execution_count": null,
   "metadata": {},
   "outputs": [],
   "source": [
    "df_B2CL = pd.get_dummies( pd.cut(df['BalanceToCreditLimit'], bins, labels=cats_bal.cat.categories, right=False),\n",
    "               prefix='B2CL')\n",
    "df_B2CL"
   ]
  },
  {
   "cell_type": "code",
   "execution_count": null,
   "metadata": {},
   "outputs": [],
   "source": [
    "df = df.join(df_B2CL)\n",
    "df.drop('BalanceToCreditLimit', axis=1, inplace=True)\n",
    "df"
   ]
  },
  {
   "cell_type": "markdown",
   "metadata": {},
   "source": [
    "Снова обучим модель (лучшей предыдущей конфигурации) и снимем метрики:"
   ]
  },
  {
   "cell_type": "code",
   "execution_count": null,
   "metadata": {},
   "outputs": [],
   "source": [
    "y = df['Delinquent90']\n",
    "X = df.drop(columns=['Delinquent90'])\n",
    "\n",
    "X_train, X_test, y_train, y_test = train_test_split(X, y, \n",
    "                                                    test_size=0.3, \n",
    "                                                    random_state=20211210,\n",
    "                                                   stratify = y)\n",
    "\n",
    "forest = RandomForestClassifier(class_weight={0: 1, 1: 13}, max_depth=8, n_estimators=48, random_state=42) \n",
    "forest.fit(X_train,y_train)\n",
    "\n",
    "test_pred = forest.predict(X_test)\n",
    "test_pred_proba = forest.predict_proba(X_test)\n",
    "auc = roc_auc_score(y_test, test_pred_proba[:, 1])\n",
    "print(\"Accuracy score: {}, f1: {}, auc: {}\".format(accuracy_score(y_test, test_pred),\\\n",
    "                                                   f1_score(y_test, test_pred), \\\n",
    "                                                  auc))"
   ]
  },
  {
   "cell_type": "code",
   "execution_count": null,
   "metadata": {},
   "outputs": [],
   "source": [
    "indices = np.argsort(forest.feature_importances_)[::-1]\n",
    "\n",
    "for i in range(X_train.shape[1]):\n",
    "    print(f\"{i+1}. {X_train.columns[ indices[i] ]:25} {forest.feature_importances_[indices[i]]:.4f}\")"
   ]
  },
  {
   "cell_type": "code",
   "execution_count": null,
   "metadata": {},
   "outputs": [],
   "source": [
    "fi = forest.feature_importances_\n",
    "fi"
   ]
  },
  {
   "cell_type": "code",
   "execution_count": null,
   "metadata": {},
   "outputs": [],
   "source": [
    "cols = X_train.columns\n",
    "cols"
   ]
  },
  {
   "cell_type": "code",
   "execution_count": null,
   "metadata": {},
   "outputs": [],
   "source": [
    "cols[ fi < 0.05 ]"
   ]
  },
  {
   "cell_type": "code",
   "execution_count": null,
   "metadata": {},
   "outputs": [],
   "source": [
    "df_dropped5pct = df.drop(cols[ fi < 0.05], axis=1)\n",
    "df_dropped5pct"
   ]
  },
  {
   "cell_type": "markdown",
   "metadata": {},
   "source": [
    "И опять обучим модель (лучшей предыдущей конфигурации) и снимем метрики:"
   ]
  },
  {
   "cell_type": "code",
   "execution_count": null,
   "metadata": {},
   "outputs": [],
   "source": [
    "y = df_dropped5pct['Delinquent90']\n",
    "X = df_dropped5pct.drop(columns=['Delinquent90'])\n",
    "\n",
    "X_train, X_test, y_train, y_test = train_test_split(X, y, \n",
    "                                                    test_size=0.3, \n",
    "                                                    random_state=20211210,\n",
    "                                                   stratify = y)\n",
    "\n",
    "forest = RandomForestClassifier(class_weight={0: 1, 1: 13}, max_depth=8, n_estimators=48) \n",
    "forest.fit(X_train,y_train)\n",
    "\n",
    "test_pred = forest.predict(X_test)\n",
    "test_pred_proba = forest.predict_proba(X_test)\n",
    "auc = roc_auc_score(y_test, test_pred_proba[:, 1])\n",
    "print(\"Accuracy score: {}, f1: {}, auc: {}\".format(accuracy_score(y_test, test_pred),\\\n",
    "                                                   f1_score(y_test, test_pred), \\\n",
    "                                                  auc))"
   ]
  },
  {
   "cell_type": "code",
   "execution_count": null,
   "metadata": {},
   "outputs": [],
   "source": [
    "cols[ fi < 0.01]"
   ]
  },
  {
   "cell_type": "code",
   "execution_count": null,
   "metadata": {},
   "outputs": [],
   "source": [
    "df_dropped1pct = df.drop(cols[ fi < 0.01], axis=1)\n",
    "df_dropped1pct"
   ]
  },
  {
   "cell_type": "code",
   "execution_count": null,
   "metadata": {},
   "outputs": [],
   "source": [
    "y = df_dropped1pct['Delinquent90']\n",
    "X = df_dropped1pct.drop(columns=['Delinquent90'])\n",
    "\n",
    "X_train, X_test, y_train, y_test = train_test_split(X, y, \n",
    "                                                    test_size=0.3, \n",
    "                                                    random_state=20211210,\n",
    "                                                   stratify = y)\n",
    "\n",
    "forest = RandomForestClassifier(class_weight={0: 1, 1: 13}, max_depth=8, n_estimators=48) \n",
    "forest.fit(X_train,y_train)\n",
    "\n",
    "test_pred = forest.predict(X_test)\n",
    "test_pred_proba = forest.predict_proba(X_test)\n",
    "auc = roc_auc_score(y_test, test_pred_proba[:, 1])\n",
    "print(\"Accuracy score: {}, f1: {}, auc: {}\".format(accuracy_score(y_test, test_pred),\\\n",
    "                                                   f1_score(y_test, test_pred), \\\n",
    "                                                  auc))"
   ]
  },
  {
   "cell_type": "markdown",
   "metadata": {},
   "source": [
    "Снова попробуем подобрать лучшую модель:"
   ]
  },
  {
   "cell_type": "code",
   "execution_count": null,
   "metadata": {},
   "outputs": [],
   "source": [
    "params = {\n",
    "    'n_estimators': [57],\n",
    "     'max_depth': range(5,10+1)\n",
    "}\n",
    "\n",
    "model = RandomForestClassifier(class_weight={0:1, 1:13}, random_state=42)\n",
    "gs = GridSearchCV(model, params, scoring='roc_auc', cv=5)\n",
    "\n",
    "gs.fit(X, y)\n",
    "best_forest = gs.best_estimator_\n",
    "print(best_forest)\n",
    "gs.best_score_"
   ]
  },
  {
   "cell_type": "code",
   "execution_count": null,
   "metadata": {},
   "outputs": [],
   "source": [
    "forest = RandomForestClassifier(class_weight={0: 1, 1: 13}, max_depth=8, n_estimators=57, random_state=42) \n",
    "forest.fit(X_train,y_train)\n",
    "\n",
    "test_pred = forest.predict(X_test)\n",
    "test_pred_proba = forest.predict_proba(X_test)\n",
    "auc = roc_auc_score(y_test, test_pred_proba[:, 1])\n",
    "print(\"Accuracy score: {}, f1: {}, auc: {}\".format(accuracy_score(y_test, test_pred),\\\n",
    "                                                   f1_score(y_test, test_pred), \\\n",
    "                                                  auc))"
   ]
  },
  {
   "cell_type": "markdown",
   "metadata": {},
   "source": [
    "И для сравнения, обучим \"дерево решений\":"
   ]
  },
  {
   "cell_type": "code",
   "execution_count": null,
   "metadata": {},
   "outputs": [],
   "source": [
    "from sklearn.tree import DecisionTreeClassifier\n",
    "\n",
    "tree = DecisionTreeClassifier(class_weight={0: 1, 1: 13}, max_depth=8, random_state=42)\n",
    "tree.fit(X_train, y_train)"
   ]
  },
  {
   "cell_type": "markdown",
   "metadata": {},
   "source": [
    "Посмотрим на точность рассчетов:"
   ]
  },
  {
   "cell_type": "code",
   "execution_count": null,
   "metadata": {},
   "outputs": [],
   "source": [
    "test_pred = tree.predict(X_test)\n",
    "test_pred_proba = tree.predict_proba(X_test)\n",
    "auc = roc_auc_score(y_test, test_pred_proba[:, 1])\n",
    "print(\"Accuracy score: {}, f1: {}, auc: {}\".format(accuracy_score(y_test, test_pred),\\\n",
    "                                                   f1_score(y_test, test_pred), \\\n",
    "                                                  auc))"
   ]
  },
  {
   "cell_type": "markdown",
   "metadata": {},
   "source": [
    "### Разные примеры\n",
    "\n",
    "1. Анимация в Jupyter Notebook"
   ]
  },
  {
   "cell_type": "code",
   "execution_count": null,
   "metadata": {},
   "outputs": [],
   "source": [
    "from matplotlib.lines import Line2D\n",
    "import matplotlib.animation as animation\n",
    "\n",
    "# !!! ВАЖНО!\n",
    "%matplotlib notebook \n",
    "\n",
    "\n",
    "def data_gen(t=0):\n",
    "    cnt = 0\n",
    "    while cnt < 1000:\n",
    "        cnt += 1\n",
    "        t += 0.1\n",
    "        yield t, np.sin(2*np.pi*t) * np.exp(-t/10.)\n",
    "\n",
    "\n",
    "def init():\n",
    "    ax.set_ylim(-1.1, 1.1)\n",
    "    ax.set_xlim(0, 10)\n",
    "    del xdata[:]\n",
    "    del ydata[:]\n",
    "    line.set_data(xdata, ydata)\n",
    "    return line,\n",
    "\n",
    "fig, ax = plt.subplots()\n",
    "line, = ax.plot([], [], lw=2)\n",
    "ax.grid()\n",
    "xdata, ydata = [], []\n",
    "\n",
    "\n",
    "def run(data):\n",
    "    # update the data\n",
    "    t, y = data\n",
    "    xdata.append(t)\n",
    "    ydata.append(y)\n",
    "    xmin, xmax = ax.get_xlim()\n",
    "\n",
    "    if t >= xmax:\n",
    "        ax.set_xlim(xmin, 2*xmax)\n",
    "        ax.figure.canvas.draw()\n",
    "    line.set_data(xdata, ydata)\n",
    "\n",
    "    return line,\n",
    "\n",
    "ani = animation.FuncAnimation(fig, run, data_gen, blit=False, interval=10,\n",
    "                              repeat=False, init_func=init)\n",
    "plt.show()"
   ]
  },
  {
   "cell_type": "markdown",
   "metadata": {},
   "source": [
    "2. Нейронные сети\n",
    "\n",
    "В рамках данной демонстрации мы, конечно, не будем углубляться во все тонкости обучения, настройки и использования нейросетей, это тема для отдельного курса. Ниже - просто пример использования сети imagenet в задаче распознавания образов (пример из 2017 года): "
   ]
  },
  {
   "cell_type": "code",
   "execution_count": null,
   "metadata": {},
   "outputs": [],
   "source": [
    "import keras\n",
    "keras.__version__"
   ]
  },
  {
   "cell_type": "code",
   "execution_count": null,
   "metadata": {},
   "outputs": [],
   "source": [
    "from keras.applications.vgg16 import VGG16\n",
    "from keras.preprocessing import image\n",
    "from keras.applications.vgg16 import preprocess_input, decode_predictions\n",
    "\n",
    "model = VGG16(weights='imagenet')"
   ]
  },
  {
   "cell_type": "code",
   "execution_count": null,
   "metadata": {},
   "outputs": [],
   "source": [
    "# Загрузим изображение\n",
    "img_path = 'data/images/creative_commons_elephant.jpg'\n",
    "# img_path = 'data/images/demo_cat.jpg'\n",
    "\n",
    "img_full = image.load_img(img_path)\n",
    "plt.imshow(img_full)"
   ]
  },
  {
   "cell_type": "code",
   "execution_count": null,
   "metadata": {},
   "outputs": [],
   "source": [
    "# выполним необходимый пре-процессинг изображения и вызовем функцию predict()\n",
    "\n",
    "# `img` is a PIL image of size 224x224\n",
    "img = image.load_img(img_path, target_size=(224, 224))\n",
    "\n",
    "# `x` is a float32 Numpy array of shape (224, 224, 3)\n",
    "x = image.img_to_array(img)\n",
    "\n",
    "# We add a dimension to transform our array into a \"batch\"\n",
    "# of size (1, 224, 224, 3)\n",
    "x = np.expand_dims(x, axis=0)\n",
    "\n",
    "# Finally we preprocess the batch\n",
    "# (this does channel-wise color normalization)\n",
    "x = preprocess_input(x)\n",
    "\n",
    "preds = model.predict(x)\n",
    "print('Predicted:', decode_predictions(preds, top=3)[0])"
   ]
  },
  {
   "cell_type": "code",
   "execution_count": null,
   "metadata": {},
   "outputs": [],
   "source": [
    "# узнать об архитектуре и свойствах модели можно с помощью функции summary()\n",
    "\n",
    "model.summary()"
   ]
  },
  {
   "cell_type": "markdown",
   "metadata": {},
   "source": [
    "...а теперь пример из 2020 года, нейросеть YOLOv5"
   ]
  },
  {
   "cell_type": "code",
   "execution_count": null,
   "metadata": {},
   "outputs": [],
   "source": [
    "!pip install -U ultralytics"
   ]
  },
  {
   "cell_type": "code",
   "execution_count": null,
   "metadata": {},
   "outputs": [],
   "source": [
    "import torch\n",
    "import cv2\n",
    "from PIL import Image\n",
    "\n",
    "yolo = torch.hub.load('ultralytics/yolov5', 'yolov5m', pretrained=True)"
   ]
  },
  {
   "cell_type": "code",
   "execution_count": null,
   "metadata": {},
   "outputs": [],
   "source": [
    "# Загрузим изображение\n",
    "img_path = 'data/images/creative_commons_elephant.jpg'\n",
    "# img_path = 'data/images/demo_cat.jpg'\n",
    "\n",
    "img = image.load_img(img_path)\n",
    "display(img)"
   ]
  },
  {
   "cell_type": "code",
   "execution_count": null,
   "metadata": {},
   "outputs": [],
   "source": [
    "results = yolo([img])\n",
    "\n",
    "results.pandas().xyxy[0]"
   ]
  },
  {
   "cell_type": "code",
   "execution_count": null,
   "metadata": {},
   "outputs": [],
   "source": [
    "df = results.pandas().xyxy[0]\n",
    "\n",
    "tl=2\n",
    "tf = max(tl - 1, 1)\n",
    "\n",
    "img_np = np.array(img)\n",
    "\n",
    "for i, row in df.iterrows():\n",
    "    xA, yA, xB, yB = map(int, row[:4])\n",
    "    cv2.rectangle(img_np, (xA, yA), (xB, yB), (0, 255, 0), tl)\n",
    "    cv2.putText(img_np, row['name'], (xA, yA - 2), 0, tl / 3, [0, 255, 0], thickness=tf, lineType=cv2.LINE_AA) \n",
    "    \n",
    "display(Image.fromarray(img_np))"
   ]
  },
  {
   "cell_type": "code",
   "execution_count": null,
   "metadata": {},
   "outputs": [],
   "source": [
    "print(yolo)"
   ]
  },
  {
   "cell_type": "markdown",
   "metadata": {},
   "source": [
    "### Пример GAN - стилизация фотографий под аниме\n",
    "\n",
    "Используется нейросеть AnimeGANv2 (https://github.com/TachibanaYoshino/AnimeGANv2/)."
   ]
  },
  {
   "cell_type": "code",
   "execution_count": null,
   "metadata": {},
   "outputs": [],
   "source": [
    "import onnxruntime as ort\n",
    "import cv2\n",
    "import os\n",
    "\n",
    "from IPython import display"
   ]
  },
  {
   "cell_type": "code",
   "execution_count": null,
   "metadata": {},
   "outputs": [],
   "source": [
    "image_path = 'data/images/lena.jpg'\n",
    "onnx = 'data/images/Hayao.onnx'\n",
    "# onnx = 'data/images/Shinkai_53.onnx'\n",
    "result_dir = 'data/images'\n",
    "\n",
    "result_path = os.path.join(result_dir,'{0}'.format(os.path.basename(onnx).replace('.onnx', '')+'_'+os.path.basename(image_path)))\n",
    "\n",
    "# display.Image(image_path)\n",
    "\n",
    "def process_image(img, x32=True):\n",
    "    h, w = img.shape[:2]\n",
    "    if x32: # resize image to multiple of 32s\n",
    "        def to_32s(x):\n",
    "            return 256 if x < 256 else x - x%32\n",
    "        img = cv2.resize(img, (to_32s(w), to_32s(h)))\n",
    "    img = cv2.cvtColor(img, cv2.COLOR_BGR2RGB).astype(np.float32)/ 127.5 - 1.0\n",
    "    return img\n",
    "\n",
    "def save_images(images, image_path, size):\n",
    "    images = (np.squeeze(images) + 1.) / 2 * 255\n",
    "    images = np.clip(images, 0, 255).astype(np.uint8)\n",
    "    images = cv2.resize(images, size)\n",
    "    cv2.imwrite(image_path, cv2.cvtColor(images, cv2.COLOR_RGB2BGR))\n",
    "\n",
    "img0 = cv2.imread(image_path).astype(np.float32)\n",
    "img = process_image(img0, [256, 256])\n",
    "img = np.expand_dims(img, axis=0)\n",
    "\n",
    "session = ort.InferenceSession(onnx, None)\n",
    "x = session.get_inputs()[0].name\n",
    "y = session.get_outputs()[0].name\n",
    "\n",
    "fake_img = session.run(None, {x : img})\n",
    "save_images(fake_img[0], result_path, (img0.shape[1], img0.shape[0]))\n",
    "print(result_path)\n",
    "display.Image(result_path)"
   ]
  },
  {
   "cell_type": "markdown",
   "metadata": {},
   "source": [
    "### ПОЛЕЗНОЕ\n",
    "\n",
    "1. Зарегистрируйтесь на https://kaggle.com\n",
    "2. Читайте специальный раздел на Medium [TowardsDataScience.com](https://towardsdatascience.com)\n",
    "3. Оттуда - пара статей про векторизацию кода: [1](https://medium.com/@mikeliao/numpy-vectorization-d4adea4fc2a) и [2](https://towardsdatascience.com/python-vectorization-5b882eeef658)\n",
    "5. Рекомендую книгу о векторизации [\"From Python to Numpy\"](https://www.labri.fr/perso/nrougier/from-python-to-numpy/)\n",
    "4. Еще можно бесплатно пройти курсы Стэнфорского Университета: \"Машинное обучение\", [CS229](http://cs229.stanford.edu/), \"Глубокое обучение\", [CS231n](http://cs231n.stanford.edu/).\n"
   ]
  },
  {
   "attachments": {
    "image.png": {
     "image/png": "[encoded data removed]"
    }
   },
   "cell_type": "markdown",
   "metadata": {},
   "source": [
    "![image.png](attachment:image.png)"
   ]
  }
 ],
 "metadata": {
  "kernelspec": {
   "display_name": "Python 3 (ipykernel)",
   "language": "python",
   "name": "python3"
  },
  "language_info": {
   "codemirror_mode": {
    "name": "ipython",
    "version": 3
   },
   "file_extension": ".py",
   "mimetype": "text/x-python",
   "name": "python",
   "nbconvert_exporter": "python",
   "pygments_lexer": "ipython3",
   "version": "3.12.3"
  }
 },
 "nbformat": 4,
 "nbformat_minor": 4
}
