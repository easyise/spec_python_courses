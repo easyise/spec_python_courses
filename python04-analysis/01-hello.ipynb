{
 "cells": [
  {
   "cell_type": "markdown",
   "metadata": {},
   "source": [
    "# Курс \"Программирование на языке Python. Уровень 4. Анализ и визуализация данных на языке Python. Библиотеки numpy, pandas, matplotlib\"\n",
    "\n",
    "Если вы читаете эти строки, значит вы успешно установили и запустили Jupyter Notebook.\n",
    "\n",
    "##  Особенности работы в Jupyter Notebook\n",
    "\n",
    "1. Код пишется в \"клетках\" ```[]:```, результат исполнения - под ними.\n",
    "2. Stack Trace тоже отображается под клетками ```[]:```.\n",
    "2. Цифра в квадрантных скобках - порядковый номер исполнения данного фрагмента кода.\n",
    "2. Запуск кода: ```Shift - Enter``` - с переходом в следующую \"клетку\", ```Ctrl - Enter``` - без оного.\n",
    "3. Все переменные, объявленные в \"клетке\" становятся видимыми внутри всей тетрадки.\n",
    "4. Все переменные, объявленные в тетрадке, видимы только внутри нее и не влияют на другие открытые тетрадки.\n",
    "\n",
    "### Если \"Что-то пошло не так...\"\n",
    "\n",
    "1. Кнопка останова кода (меню Kernel / Interrupt) прервет выполнение кода исключением ```KeyboardInterrupt```\n",
    "1. Если это не помогает - надо перезапустить ядро (меню Kernel / Restart), и потом последовательно выполнить все предыдущие \"клетки\".\n",
    "2. Если и это не помогает - снимите процесс python в диспетчере задач.\n",
    "\n",
    "\n",
    "### Синтаксис Python в Jupyter Notebook\n",
    "\n",
    "1. Есть подсветка синтаксиса.\n",
    "2. Отступы проставляются автоматически, можно использовать tab.\n",
    "3. По нажатию tab - автозаполнение.\n",
    "4. Символ \"?\", указанный до или после переменной, открывает окно с информацией о ней (будь это просто переменная или функция).\n",
    "5. Закомментировать выделенные строки можно сочетанием клавиш ```Ctrl - /```.\n",
    "\n",
    "\n"
   ]
  },
  {
   "cell_type": "code",
   "execution_count": null,
   "metadata": {},
   "outputs": [],
   "source": [
    "b = [1,2,3]"
   ]
  },
  {
   "cell_type": "code",
   "execution_count": null,
   "metadata": {},
   "outputs": [],
   "source": [
    "b"
   ]
  },
  {
   "cell_type": "code",
   "execution_count": null,
   "metadata": {},
   "outputs": [],
   "source": [
    "print(b)"
   ]
  },
  {
   "cell_type": "code",
   "execution_count": null,
   "metadata": {},
   "outputs": [],
   "source": [
    "b?"
   ]
  },
  {
   "cell_type": "code",
   "execution_count": null,
   "metadata": {},
   "outputs": [],
   "source": [
    "def mul_numbers(a, b):\n",
    "    \"\"\"\n",
    "    Функция умножает два числа\n",
    "    \"\"\"\n",
    "    return a * b"
   ]
  },
  {
   "cell_type": "code",
   "execution_count": null,
   "metadata": {},
   "outputs": [],
   "source": [
    "mul_numbers?"
   ]
  },
  {
   "cell_type": "code",
   "execution_count": null,
   "metadata": {},
   "outputs": [],
   "source": [
    "# два знака вопроса откроют окно с исходным кодом\n",
    "mul_numbers??"
   ]
  },
  {
   "cell_type": "markdown",
   "metadata": {},
   "source": [
    "### \"Волшебные команды\" (Jupyter Magic)\n",
    "\n",
    "#### Профайлинг и отладка\n",
    "\n",
    "- ```%time``` - показывает время выполнения строки кода\n",
    "- ```%%time``` - показывает время выполнения ячейки кода"
   ]
  },
  {
   "cell_type": "code",
   "execution_count": null,
   "metadata": {},
   "outputs": [],
   "source": [
    "def sum_exps( number ):\n",
    "    return sum(x**x for x in range( number ))\n",
    "\n",
    "def sum_exps_naive( number ):\n",
    "    summ = 0\n",
    "    for i in range(number):\n",
    "        pw = i\n",
    "        for _ in range(i-1):\n",
    "            pw *= i\n",
    "        summ += pw\n",
    "    return summ\n"
   ]
  },
  {
   "cell_type": "code",
   "execution_count": null,
   "metadata": {},
   "outputs": [],
   "source": [
    "%%time # для всей клетки\n",
    "print(\"Hello World\")\n",
    "a = sum_exps_naive( 1000 )\n",
    "b = sum_exps( 1000 )"
   ]
  },
  {
   "cell_type": "code",
   "execution_count": null,
   "metadata": {},
   "outputs": [],
   "source": [
    "# для каждой строчки\n",
    "%time a = sum_exps_naive( 1000 )\n",
    "%time b = sum_exps( 1000 )"
   ]
  },
  {
   "cell_type": "markdown",
   "metadata": {},
   "source": [
    "- ```%timeit``` - выполнить код несколько раз и показать среднее время выполнения кода. Запуск с ```%%``` приведет к \"прокручиванию\" кода всей клетки.\n",
    "\n",
    "Можно задать количество итерациий, запустив эту команду с параметром -nN, где N - количество циклов."
   ]
  },
  {
   "cell_type": "code",
   "execution_count": null,
   "metadata": {},
   "outputs": [],
   "source": [
    "%timeit sum_exps( 1000 )"
   ]
  },
  {
   "cell_type": "code",
   "execution_count": null,
   "metadata": {},
   "outputs": [],
   "source": [
    "%timeit -n200 -r2 sum_exps_naive( 1000 )"
   ]
  },
  {
   "cell_type": "markdown",
   "metadata": {},
   "source": [
    "### Встроенный debugger\n",
    "\n",
    "- ```%pdb``` - запускает дебаггер сразу после того, как появилось исключение\n",
    "- появляется приглашение ```ipdb>```, в котором можно вводить команды\n",
    "- чтобы посмотреть значение той или иной переменной, надо просто набрать ее имя\n",
    "- чтобы изменить значение - достаточно использовать операцию присваивания\n",
    "- чтобы выйти - нужно набрать команду ```exit```\n",
    "- чтобы посмотреть все команды дебаггера нужно набрать команду ```help```"
   ]
  },
  {
   "cell_type": "code",
   "execution_count": null,
   "metadata": {},
   "outputs": [],
   "source": [
    "def a_divider(dividend, divisors):\n",
    "    l = []\n",
    "    for divisor in divisors:\n",
    "        l.append(dividend // divisor)\n",
    "    return l    "
   ]
  },
  {
   "cell_type": "code",
   "execution_count": null,
   "metadata": {},
   "outputs": [],
   "source": [
    "print(a_divider(500, [1,2,3,4,5]))"
   ]
  },
  {
   "cell_type": "code",
   "execution_count": null,
   "metadata": {},
   "outputs": [],
   "source": [
    "%pdb \n",
    "print(a_divider(500, [1,2,3, 0 ,4,5]))"
   ]
  },
  {
   "cell_type": "markdown",
   "metadata": {},
   "source": [
    "### Другие полезные \"волшебные\" функции\n",
    "\n",
    "Справка по всем \"магическим\" функциям - ```%magic```"
   ]
  },
  {
   "cell_type": "code",
   "execution_count": null,
   "metadata": {},
   "outputs": [],
   "source": [
    "# список объявленных переменных\n",
    "%who"
   ]
  },
  {
   "cell_type": "code",
   "execution_count": null,
   "metadata": {},
   "outputs": [],
   "source": [
    "# показать историю команд\n",
    "%hist"
   ]
  },
  {
   "cell_type": "code",
   "execution_count": null,
   "metadata": {},
   "outputs": [],
   "source": [
    "# удалить переменную и попытаться очистить все ссылки на объект во внутреннем пространстве имен Jupyter Notebook\n",
    "%xdel i"
   ]
  },
  {
   "cell_type": "code",
   "execution_count": null,
   "metadata": {},
   "outputs": [],
   "source": [
    "# удалить все переменные\n",
    "%reset "
   ]
  },
  {
   "cell_type": "markdown",
   "metadata": {},
   "source": [
    "### \"Магия\" командной строки"
   ]
  },
  {
   "cell_type": "code",
   "execution_count": null,
   "metadata": {},
   "outputs": [],
   "source": [
    "# текущий каталог можно узнать через команду %pwd\n",
    "x = %pwd\n",
    "x"
   ]
  },
  {
   "cell_type": "code",
   "execution_count": null,
   "metadata": {},
   "outputs": [],
   "source": [
    "# сменить рабочий каталог можно через команду %cd\n",
    "%cd ..\n",
    "%pwd"
   ]
  },
  {
   "cell_type": "code",
   "execution_count": null,
   "metadata": {},
   "outputs": [],
   "source": [
    "# посмотреть содержимое каталога (может не работать под Windows)\n",
    "%ls -al"
   ]
  },
  {
   "cell_type": "code",
   "execution_count": null,
   "metadata": {},
   "outputs": [],
   "source": [
    "%pip install numpy"
   ]
  },
  {
   "cell_type": "code",
   "execution_count": null,
   "metadata": {},
   "outputs": [],
   "source": [
    "%conda install -y numpy"
   ]
  },
  {
   "cell_type": "markdown",
   "metadata": {},
   "source": [
    "### Командная строка/терминал\n",
    "\n",
    "Для запуска команд терминала прямо в тетради начните клетку с восклицательного знака:"
   ]
  },
  {
   "cell_type": "code",
   "execution_count": null,
   "metadata": {},
   "outputs": [],
   "source": [
    "!pip list "
   ]
  },
  {
   "cell_type": "code",
   "execution_count": null,
   "metadata": {},
   "outputs": [],
   "source": [
    "# можно получить весь output команды в виде списка строк\n",
    "x = !conda list -e\n",
    "x"
   ]
  },
  {
   "cell_type": "markdown",
   "metadata": {},
   "source": [
    "### Подключение внешних модулей\n",
    "\n",
    "1. Если ```import module``` не может найти нужный модуль, используйте команды ```!pip install ...``` или ```!conda install ...``` в любой клетке вашей тетради или то же самое, но без восклицательного знака, но в командной строке.\n",
    "Посмотреть, в какой директории python ищет модули, можно выполнив команду ```import sys;print(sys.path)```"
   ]
  },
  {
   "cell_type": "code",
   "execution_count": null,
   "metadata": {},
   "outputs": [],
   "source": [
    "import sys;print(sys.path)"
   ]
  },
  {
   "cell_type": "markdown",
   "metadata": {},
   "source": [
    "\n",
    "2. Если вы разрабатываете свой модуль во внешнем редакторе, а отлаживаете его в Jupyter, включите автообновление модуля по мере его сохранения:\n",
    "```python\n",
    "%load_ext autoreload\n",
    "%autoreload 2\n",
    "```\n",
    "\n",
    "__ВНИМАНИЕ__! Данную команду следует указывать после имеорта всех внешних модулей, но перед импортом вашего модуля:"
   ]
  },
  {
   "cell_type": "code",
   "execution_count": null,
   "metadata": {},
   "outputs": [],
   "source": [
    "import numpy as np\n",
    "\n",
    "%load_ext autoreload\n",
    "%autoreload 2\n",
    "\n",
    "import mymod\n",
    "\n",
    "mymod.do()"
   ]
  },
  {
   "cell_type": "markdown",
   "metadata": {},
   "source": [
    "### Другие полезные функции в Jupyter Notebook\n",
    "\n",
    "...например, прогресс-бар  на базе ```tqdm```."
   ]
  },
  {
   "cell_type": "code",
   "execution_count": null,
   "metadata": {},
   "outputs": [],
   "source": [
    "import time\n",
    "from tqdm import tqdm\n",
    "\n",
    "mylist = [1,2,3,4,5,6,7,8]\n",
    "\n",
    "for i in tqdm(mylist):\n",
    "    time.sleep(1)"
   ]
  },
  {
   "cell_type": "markdown",
   "metadata": {},
   "source": [
    "## ВАЖНО: Jupyter Notebook как веб-сервер\n",
    "\n",
    "Jupyter Notebook запускает на вашем компьютере веб-сервер. Собственно, он и выполняет код, сохраняет тетрадки, графику и т.д. По умолчанию, этим веб-сервером можете пользоваться только вы, и только с того компьютера, на котором вы запустили Jupyter Notebook.\n",
    "\n",
    "Веб-сервер по умолчанию работает на 8888 порту, и чтобы открыть навигатор Jupyter Notebook, вам нужно ввести в адресную строку браузера следующий адрес:\n",
    "``` http://localhost:8888/ ```\n",
    "\n",
    "### Запуск Jupyter Notebook удаленно / в облаке\n",
    "\n",
    "1. Можно использовать Google Colab\n",
    "2. Можно запускать на удаленном Linux/UNIX сервере с установленным Python3 / Anaconda:\n",
    "```bash\n",
    "$ jupyter notebook --ip=0.0.0.0 \n",
    "```\n",
    "этот параметр сделает ваш Jupyter Notebook доступным с любого хоста в локальной сети, но пользователям нужно будет знать ```token``` - его значение Jupyter Notebook показывает сразу после запуска в командной строке. \\\n",
    "__ВНИМАНИЕ__!\\\n",
    "Не рекомендуется так делать в общественных сетях общего пользования, т.к. трафик Jupyter Notebook не защищен и может быть перехвачен злоумышленниками."
   ]
  },
  {
   "cell_type": "markdown",
   "metadata": {},
   "source": [
    "## Язык Markdown\n",
    "\n",
    "Чтобы редактировать содержимое Markdown-клетки, дважды кликните по ней:\n",
    "⬇️⬇️⬇️⬇️⬇️"
   ]
  },
  {
   "cell_type": "markdown",
   "metadata": {},
   "source": [
    "# Заголовок 1\n",
    "\n",
    "## Заголовок 2\n",
    "\n",
    "### _Заголовок 3_\n",
    "\n",
    "Quick brown fox __jumped__ _over_ lazy dog. Quick brown fox jumped over lazy dog.Quick brown fox jumped over lazy dog.Quick brown fox jumped over lazy dog.Quick brown fox jumped over lazy dog. Quick brown fox jumped over lazy dog. Quick brown fox jumped over lazy dog. Quick brown fox jumped over lazy dog.\n",
    "\n",
    "Quick brown fox jumped over lazy [dog](https://www.dogs.com/). Quick brown fox jumped over lazy dog. Quick brown fox jumped over lazy dog. Quick brown fox jumped over lazy dog.\n",
    "\n",
    "Упорядоченный список:\n",
    "\n",
    "1. Quick brown fox jumped over lazy dog. Quick brown fox jumped over lazy dog. Quick brown fox jumped over lazy dog.\n",
    "2. Quick brown fox jumped over lazy dog. Quick brown fox jumped over lazy dog.\n",
    "1. Quick brown fox jumped over lazy dog. Quick brown fox jumped over lazy dog.\n",
    "\n",
    "Неупорядоченный список:\n",
    "\n",
    "- первый\n",
    "- второй\n",
    "- третий\n",
    "\n",
    "Абзац 1. Абзац 1. Абзац 1. Абзац 1. Абзац 1. Абзац 1. Абзац 1. Абзац 1. Абзац 1. Абзац 1. Абзац 1. Абзац 1. Абзац 1. Абзац 1. Абзац 1. Абзац 1. Абзац 1. Абзац 1. \n",
    "\n",
    "Абзац 2. Абзац 2. Абзац 2. Абзац 2. Абзац 2. Абзац 2. Абзац 2. Абзац 2. Абзац 2. Абзац 2. Абзац 2. Абзац 2. Абзац 2. Абзац 2. Абзац 2. Абзац 2. Абзац 2. Абзац 2. \n",
    "\n",
    "\n",
    "Строки, \\\n",
    "которые идут \\\n",
    "одна \\\n",
    "за другой.\n",
    "\n",
    "Текст, в который включен исходный код: ```print(\"Hello world\")```.\n",
    "\n",
    "Просто исходный код с подсветкой синтаксиса, как в Jupyter Notebook:\n",
    "```python\n",
    "def test(test) -> int:\n",
    "    assert type(test)==str\n",
    "    return len(test)\n",
    "```\n",
    "\n",
    "<hr>\n",
    "\n",
    "Пример на LaTex:\n",
    "\n",
    "$\\begin{cases}\n",
    "2 + t^1*2 = 0 + t_2*(-1) \\\\\n",
    "3 + t_1*1 = 1 + t_2*1\n",
    "\\end{cases}\n",
    "$"
   ]
  },
  {
   "cell_type": "code",
   "execution_count": null,
   "metadata": {},
   "outputs": [],
   "source": []
  }
 ],
 "metadata": {
  "kernelspec": {
   "display_name": "Python 3 (ipykernel)",
   "language": "python",
   "name": "python3"
  },
  "language_info": {
   "codemirror_mode": {
    "name": "ipython",
    "version": 3
   },
   "file_extension": ".py",
   "mimetype": "text/x-python",
   "name": "python",
   "nbconvert_exporter": "python",
   "pygments_lexer": "ipython3",
   "version": "3.12.3"
  }
 },
 "nbformat": 4,
 "nbformat_minor": 4
}
