{
 "cells": [
  {
   "cell_type": "markdown",
   "metadata": {},
   "source": [
    "# Курс \"Программирование на языке Python. Уровень 4. Анализ и визуализация данных на языке Python. Библиотеки numpy, pandas, matplotlib\"\n",
    "\n",
    "## Модуль 2. Библиотека numpy\n",
    "\n",
    "- Массивы (списки) в Python: индексы, срезы, итерация\n",
    "- Векторы, матрицы и тензоры в numpy\n",
    "- Типы данных numpy\n",
    "- Базовые операции в numpy: поэлементные арифметические операции, бродкаст\n",
    "- Как нужно и как не нужно использовать numpy\n",
    "- Линейная алгебра в numpy\n",
    "- Векторизация, практика\n",
    "\n",
    "\n"
   ]
  },
  {
   "cell_type": "markdown",
   "metadata": {},
   "source": [
    "## Массивы (списки) в Python: базовые операции, индексы, срезы, итерация"
   ]
  },
  {
   "cell_type": "code",
   "execution_count": null,
   "metadata": {},
   "outputs": [],
   "source": [
    "# активируем numpy\n",
    "# если на этом этапе получаем сообщение об ошибке, выполняем pip install numpy / conda install numpy\n",
    "\n",
    "import numpy as np\n"
   ]
  },
  {
   "cell_type": "code",
   "execution_count": null,
   "metadata": {},
   "outputs": [],
   "source": [
    "# создать список\n",
    "list1 = ['a', 'b', 1, 0.5, {'James':'Brown', 'Luke':'Skywalker'}]\n",
    "list2 = list(range(5))\n",
    "\n",
    "#показать содержимое списка\n",
    "print(list1)\n",
    "\n",
    "#добавить элемент\n",
    "list1.append('Something New') # ['a', 'b', 1, 0.5, {'Luke': 'Skywalker', 'James': 'Brown'}, 'Something New']\n",
    "#убрать последний элемент (и вернуть его)\n",
    "list2.pop() # [0, 1, 2, 3]\n",
    "#сортировать (в порядке убывания)\n",
    "list2.sort(reverse = True)  # [3, 2, 1, 0]\n"
   ]
  },
  {
   "cell_type": "code",
   "execution_count": null,
   "metadata": {},
   "outputs": [],
   "source": [
    "# обращение к элементам списка\n",
    "nums = list(range(5))     \n",
    "print(nums)               # выведет на экран \"[0, 1, 2, 3, 4]\"\n",
    "print(nums[2])            # выведет на экран 2-й элемент: \"2\"\n",
    "print(nums[-3])           # выведет на экран 3-й элемент с конца: \"2\"\n",
    "print(nums[2:4])          # выведет на экран срез со 2-го до 4-го: \"[2, 3]\"\n",
    "print(nums[2:])           # выведет на экран срез со 2-го и до конца: \"[2, 3, 4]\"\n",
    "print(nums[:2])           # выведет на экран срез с начала и до 2-го элемента \"[0, 1]\"\n",
    "print(nums[:])            # срез всего списка: \"[0, 1, 2, 3, 4]\"\n",
    "print(nums[:-2])          # отрицательный срез, все элементы, кроме двух в конце: \"[0, 1, 2]\"\n",
    "\n",
    "print(nums[::2])          # все четные элементы\n",
    "print(nums[::-1])         # весь список в обратном порядке\n",
    "\n",
    "nums[2:4] = [8, 9]        # заместит элементы со 2-го до 4-го списком [8, 9]\n",
    "print(nums)               # выведет на экран \"[0, 1, 8, 9, 4]\""
   ]
  },
  {
   "cell_type": "markdown",
   "metadata": {},
   "source": [
    "## Векторы и матрицы в numpy\n",
    "\n",
    "### Различные способы создания векторов и матриц"
   ]
  },
  {
   "cell_type": "code",
   "execution_count": null,
   "metadata": {},
   "outputs": [],
   "source": [
    "a = np.array([1, 2, 3])   # Создаем вектор как массив numpy, из списка\n",
    "print(type(a))            # выведет на экран \"<class 'numpy.ndarray'>\"\n",
    "print(a.shape)            # выведет на экран \"(3,)\"\n",
    "print(a[0], a[1], a[2])   # выведет на экран \"1 2 3\"\n",
    "a[0] = 5                  # Запишем что-нибудь в первый элемент\n",
    "print(a)                  # выведет на экран \"[5, 2, 3]\"\n",
    "\n",
    "b = np.array([[1,2,3],[4,5,6]])    # Создаем матрицу размера 2х3 из двух списков\n",
    "print(b.shape)                     # выведет на экран \"(2, 3)\"\n",
    "print(b[0, 0], b[0, 1], b[1, 0])   # выведет на экран \"1 2 4\""
   ]
  },
  {
   "cell_type": "code",
   "execution_count": null,
   "metadata": {},
   "outputs": [],
   "source": [
    "# некоторые встроенные функции для создания специфических матриц\n",
    "nat_nums = np.arange(10) # вектор из натуральных чисел\n",
    "all_zeros_2x2 = np.zeros((2,2))   # Создаем нулевую матрицу размером 2x2\n",
    "all_ones_1x2 = np.ones((1,2))    # Единичная матрица размера 1x2\n",
    "all_sevens_2x2 = np.full((2,2), 7)  # Матрица 2х2, заполненная числом 7\n",
    "identity_matrix = np.eye(2)         # Матрица идентичности 2x2 (все эелементы - 0, главная диагональ - 1)\n",
    "\n",
    "print(nat_nums)\n",
    "print(all_zeros_2x2)\n",
    "print(all_ones_1x2)\n",
    "print(all_sevens_2x2)\n",
    "print(identity_matrix)\n",
    "print(random_matrix)"
   ]
  },
  {
   "cell_type": "markdown",
   "metadata": {},
   "source": [
    "### Случайные числа\n",
    "\n",
    "Генератор случайных чисел поставляется вместе с numpy, это подмодуль ```np.random```, ничего специально устанавливать не нужно."
   ]
  },
  {
   "cell_type": "code",
   "execution_count": null,
   "metadata": {},
   "outputs": [],
   "source": [
    "np.random.seed(20240115)  # сидирование генератора случайных чисел"
   ]
  },
  {
   "cell_type": "code",
   "execution_count": null,
   "metadata": {},
   "outputs": [],
   "source": [
    "random_matrix = np.random.random((2,2))  # Матрица 2x2 со случайно заданными вещ. числами от 0 до 1\n",
    "print(random_matrix)\n"
   ]
  },
  {
   "cell_type": "code",
   "execution_count": null,
   "metadata": {},
   "outputs": [],
   "source": [
    "random_n = np.random.randn( 100,100 )\n",
    "print(random_n.mean(), random_n.std())\n"
   ]
  },
  {
   "cell_type": "code",
   "execution_count": null,
   "metadata": {},
   "outputs": [],
   "source": [
    "randint_matrix_3x3 = np.random.randint(0,10, (3,3)) # Матрица 3х3 со случайнами целыми числами\n",
    "print(randint_matrix_3x3)\n"
   ]
  },
  {
   "cell_type": "code",
   "execution_count": null,
   "metadata": {},
   "outputs": [],
   "source": [
    "# выбор случаных 3 элемента из массива или из последовательности чисел\n",
    "vec = np.arange(42) * 10\n",
    "print(vec)\n",
    "choice = np.random.choice(vec, 3) \n",
    "print(choice)\n",
    "\n",
    "choice = np.random.choice(100500, 3) \n",
    "print(choice)\n",
    "\n",
    "print(np.random.choice(random_matrix, 2)) # работает только с векторами"
   ]
  },
  {
   "cell_type": "markdown",
   "metadata": {},
   "source": [
    "#### Практика\n",
    "\n",
    "Выполните следующие упражнения (циклы использовать запрещено):\n",
    "\n"
   ]
  },
  {
   "cell_type": "code",
   "execution_count": null,
   "metadata": {},
   "outputs": [],
   "source": [
    "# создайте вектор, состоящий из натуральных чисел от 1 до 8\n",
    "v_nat_1_8 = ?\n",
    "\n",
    "\n",
    "# создайте матрицу размером 2x3 из списка списков\n",
    "m_2x3 = ?\n",
    "\n",
    "# создайте вектор, состоящий из квадратов натуральных чисел, начиная с 1 до 10\n",
    "v_sqrs = ?\n",
    "\n"
   ]
  },
  {
   "cell_type": "markdown",
   "metadata": {},
   "source": [
    "### Обращение к элементам матриц, срезы"
   ]
  },
  {
   "cell_type": "code",
   "execution_count": null,
   "metadata": {},
   "outputs": [],
   "source": [
    "a = np.array([[1,2,3,4], [5,6,7,8], [9,10,11,12]])\n",
    "# [[ 1  2  3  4]\n",
    "#  [ 5  6  7  8]\n",
    "#  [ 9 10 11 12]]\n",
    "\n",
    "# Эти выражения эквивалентны\n",
    "print(a[0][2])\n",
    "print(a[0, 2]) # лучше использовать это, т.к. оно выполняется оптимальнее\n",
    "\n",
    "# Срежем: возьмем ряды с 0-го до 2-го и колонки с 1-й до 3-ей\n",
    "b = a[:2, 1:3]\n",
    "# [[2 3]\n",
    "#  [6 7]]\n",
    "\n",
    "## ВНИМАНИЕ: нулевое измерение - всегда \"по вертикали\", первое - по \"горизонтали\"!\n",
    "\n",
    "# Срез массива numpy - это представление оригинального массива\n",
    "# Попытка изменить там данные приведет к изменению оригинального массива\n",
    "print(a[0, 1])   # Выведет \"2\"\n",
    "b[0, 0] = 77     # b[0, 0] - то же самое, что и a[0, 1]\n",
    "print(a[0, 1])   # выведет на экран \"77\"\n",
    "\n",
    "# Срезы матриц можно получать как в виде векторов, так и 2-мерных матриц с размерностью 1xn или nx1\n",
    "print(a[1, :]) ## выведет на экран \"[5 6 7 8]\"\n",
    "print(a[1:2, :]) ## выведет на экран \"[[5 6 7 8]]\" \n",
    "print(a[:, 1]) ## выведет на экран \"[77  6 10]\"\n",
    "print(a[:, 1:2]) ## ВОПРОС: что эта команда выведет на экран?"
   ]
  },
  {
   "cell_type": "markdown",
   "metadata": {},
   "source": [
    "#### Практические задачи\n",
    "\n",
    "Выполните следующие упражнения:"
   ]
  },
  {
   "cell_type": "code",
   "execution_count": null,
   "metadata": {},
   "outputs": [],
   "source": [
    "print(a)\n",
    "\n",
    "# для матрицы a - сделайте срез в виде квадратных матриц 2x2 из левого верхнего левого и правого нижнего углов\n",
    "a_upper_left_2x2 = ?\n",
    "\n",
    "a_lower_right_2x2 = ?\n",
    "\n",
    "# для той же матрицы получите в виде векторов\n",
    "# 2-й с конца столбец\n",
    "a_col_2 = ?\n",
    "\n",
    "# последнюю строку\n",
    "a_last_row = ?\n"
   ]
  },
  {
   "cell_type": "markdown",
   "metadata": {},
   "source": [
    "### Индексирование: булев индекс и индекс массивом целых чисел\n",
    "\n",
    "Для доступа к элементам массивов numpy можно использовать \"маску\" - матрицу булевых элементов, а также список целых чисел."
   ]
  },
  {
   "cell_type": "code",
   "execution_count": null,
   "metadata": {},
   "outputs": [],
   "source": [
    "a = np.array([[1,2], [3, 4], [5, 6]])\n",
    "\n",
    "bool_idx = (a > 2)   # Эта команда возвращает массив numpy из булевых элементов\n",
    "                     # той же размерности, что и a. Его элементы True, если\n",
    "                     # соотв. элементы a > 2 \n",
    "\n",
    "print(bool_idx)      # выведет на экран \"[[False False]\n",
    "                     #                   [ True  True]\n",
    "                     #                   [ True  True]]\"\n",
    "\n",
    "# Используя эту матрицу, мы можем получить вектор из элементов матрицы a, которые соответсвуют условию\n",
    "print(a[bool_idx])  # выведет на экран \"[3 4 5 6]\"\n",
    "\n",
    "# ...и все это - одной строкой:\n",
    "print(a[a > 2])     # выведет на экран \"[3 4 5 6]\""
   ]
  },
  {
   "cell_type": "markdown",
   "metadata": {},
   "source": [
    "Для булевых масок определены следующие логические операции:\n",
    "- ```&``` - логическое \"и\"\n",
    "- ```|``` - логическое \"или\"\n",
    "- ```~``` - логическое отрицание.\n",
    "\n",
    "**Обратите внимание:** каждый операнд в логическом выражении порождает свою булеву маску, далее эти операторы работают как битовые, выполняя логические операции для каждого элемента масок-операндов."
   ]
  },
  {
   "cell_type": "code",
   "execution_count": null,
   "metadata": {},
   "outputs": [],
   "source": [
    "a = np.array([[1,2], [3, 4], [5, 6]])\n",
    "bm_1 = (a>2)\n",
    "bm_2 = (a<5)\n",
    "print( bm_1)\n",
    "print( bm_2 )\n",
    "print( bm_1 & bm_2 ) # \"&\" работает как \"and\" для каждого элемента маски-операнда\n",
    "print(a[ bm_1 & bm_2 ])\n",
    "\n",
    "print( a[ (a<2) & (a>5) ] ) # не забывайте про скобки для каждой анонимной булевой маски!"
   ]
  },
  {
   "cell_type": "markdown",
   "metadata": {},
   "source": [
    "\"Fancy indexing\" - индексирование массивом целых чисел."
   ]
  },
  {
   "cell_type": "code",
   "execution_count": null,
   "metadata": {},
   "outputs": [],
   "source": [
    "a = np.arange(0, 100, 10)\n",
    "print(a) # [ 0 10 20 30 40 50 60 70 80 90]\n",
    "\n",
    "b = a[[2, 3, 2, 4, 2]] \n",
    "print(b) # [20 30 20 40 20]"
   ]
  },
  {
   "cell_type": "markdown",
   "metadata": {},
   "source": [
    "#### Практика\n",
    "\n",
    "Выполните следующие упражнения:\n",
    "\n",
    "1. Из среза в виде квадратной матрицы 3x3, взятой с правого конца, выберите следующие элементы:"
   ]
  },
  {
   "cell_type": "code",
   "execution_count": null,
   "metadata": {},
   "outputs": [],
   "source": [
    "a = np.array([[1,2,3,4], [5,6,7,8], [9,10,11,12]])\n",
    "\n",
    "a_3x3_last = a[-3:,-3:]\n",
    "print(a_3x3_last)\n",
    "\n",
    "# 1. те, которые меньше 10\n",
    "\n",
    "\n",
    "# 2. нечетные элементы\n",
    "\n"
   ]
  },
  {
   "cell_type": "markdown",
   "metadata": {},
   "source": [
    "\n",
    "2. Создайте массив из 10 натуральных чисел и присвойте 3-м случайным элементам из этого массива число 5000."
   ]
  },
  {
   "cell_type": "code",
   "execution_count": null,
   "metadata": {},
   "outputs": [],
   "source": [
    "a = np.arange(0, 1000, 100)\n",
    "print(a)\n",
    "\n",
    "# ваш код здесь"
   ]
  },
  {
   "cell_type": "markdown",
   "metadata": {},
   "source": [
    "### Изменение форм и размерностей массивов numpy\n",
    "\n",
    "Изменить форму массива можно функцией ```reshape( dim )```, где dim - кортеж с новой размерностью массива. Будет возвращена копия объекта, но область данных останется неизменной, а изменения в оригинальном массиве будут отражены в порожденной копии. При этом, если одна из размерностей массива неизвестна, на ее месте можно указать ```-1```.\n",
    "\n",
    "Кортеж с текущей размерностью массива находится в его свойстве ```shape```.\n",
    "\n",
    "\"Плоское\" представление массива вернет метод ```ravel()```, а метод ```flatten()``` вернет его копию."
   ]
  },
  {
   "cell_type": "code",
   "execution_count": null,
   "metadata": {},
   "outputs": [],
   "source": [
    "a = np.arange(9) # [0 1 2 3 4 5 6 7 8]\n",
    "print(a)\n",
    "b = a.reshape((3,3)) \n",
    "# [[  0   1   2]\n",
    "#  [  3   4   5]\n",
    "#  [  6   7   8]]\n",
    "a[5] = 100\n",
    "print(b)\n",
    "# [[  0   1   2]\n",
    "#  [  3   4 100]\n",
    "#  [  6   7   8]]\n",
    "\n",
    "r = b.ravel()\n",
    "f = b.flatten()\n",
    "print(f)\n",
    "f[4] = 200\n",
    "print(a) # [  0   1   2   3   4 100   6   7   8]\n",
    "r[4] = 200\n",
    "print(a) # [  0   1   2   3 200 100   6   7   8]"
   ]
  },
  {
   "cell_type": "markdown",
   "metadata": {},
   "source": [
    "#### Практика\n",
    "\n",
    "Создайте матрицу случайной размерности от 2 до 16, заполненную нулями и на ее базе создайте новую матрицу, обратной размерности, заполненную случайными числами."
   ]
  },
  {
   "cell_type": "code",
   "execution_count": null,
   "metadata": {},
   "outputs": [],
   "source": [
    "dims = ( (14 * np.random.random(2) // 1) + 2).astype(dtype=np.int64)\n",
    "# ваш код здесь"
   ]
  },
  {
   "cell_type": "markdown",
   "metadata": {},
   "source": [
    "\n",
    "### Конкатенация  и разбиение массивов\n",
    "\n",
    "Используются функции ```concatenate()``` и ```split()```.\n"
   ]
  },
  {
   "cell_type": "code",
   "execution_count": null,
   "metadata": {},
   "outputs": [],
   "source": [
    "arr1 = np.array([[1,2,3], [4,5,6]])\n",
    "arr2 = np.array([[7,8,9], [10,11,12]])\n",
    "concats_0 = np.concatenate([arr1, arr2], axis= 0) # вертикальная конкатенация, есть эквивалент vstack()\n",
    "print(concats_0)\n",
    "\n",
    "arr1 = np.array([[1,2,3], [4,5,6]])\n",
    "arr2 = np.array([[7,8,9], [10,11,12]])\n",
    "concats_1 = np.concatenate([arr1, arr2], axis= 1) # горизонтальная конкатенация, есть эксивалент hstack()\n",
    "print(concats_1)\n",
    "\n",
    "first, second, third = np.split(concats_0, [1,2], axis=0) # вертикальное разбиение\n",
    "print(first)\n",
    "print(second)\n",
    "print(third)"
   ]
  },
  {
   "cell_type": "markdown",
   "metadata": {},
   "source": [
    "### Типы данных numpy"
   ]
  },
  {
   "cell_type": "code",
   "execution_count": null,
   "metadata": {},
   "outputs": [],
   "source": [
    "x = np.array([1, 2])   # numpy сам подберет тип данных\n",
    "print(x.dtype)         # выведет на экран \"int64\"\n",
    "\n",
    "x = np.array([1.0, 2.0])   # Здесь numpy выберет float64\n",
    "print(x.dtype)             # выведет на экран \"float64\"\n",
    "\n",
    "x = np.array([1, 2], dtype=np.float64)   # Тут мы заставим numpy сконвертировать данные во float\n",
    "print(x.dtype)                         # выведет на экран \"float64\"\n",
    "\n",
    "# конвертация типов производится методом astype(), он возвращает копию текущего массива\n",
    "y = x.astype(dtype=np.int32) \n",
    "\n",
    "x = np.array([1, 2, 2.5, 'john'])   # Из-за такого тут будет сообщение об ошибке\n",
    "\n",
    "x.nan"
   ]
  },
  {
   "cell_type": "markdown",
   "metadata": {},
   "source": [
    "## Операции с массивами numpy"
   ]
  },
  {
   "cell_type": "markdown",
   "metadata": {},
   "source": [
    "### Поэлементные операции\n",
    "\n",
    "Выполняются для каждого элемента массива или среза. Объекты должны быть одинаковой размерности (за исключением случаев использования бродкастинга)."
   ]
  },
  {
   "cell_type": "code",
   "execution_count": null,
   "metadata": {},
   "outputs": [],
   "source": [
    "x = np.array([[1,2],[3,4]], dtype=np.float64)\n",
    "y = np.array([[5,6],[7,8]], dtype=np.float64)\n",
    "\n",
    "# Поэлементное сложение:\n",
    "print(np.add(x, y)) # можно использовать функцию add()\n",
    "print(x + y) # можно просто использовать оператор \"+\"\n",
    "# То же самое с другими арифметическими операциями: вычитанием, умножением и делением\n",
    "\n",
    "# Взятие квадратного корня\n",
    "print(np.sqrt(x))\n",
    "\n",
    "# Взятие экспоненты\n",
    "print(np.exp(x))\n",
    "\n",
    "# Логарифмирование\n",
    "print(np.log(x))\n",
    "\n",
    "# Другие операции над элементами массивов numpy - см. документацию"
   ]
  },
  {
   "cell_type": "markdown",
   "metadata": {},
   "source": [
    "#### Практика\n",
    "\n",
    "Выполните следующие упражнения:"
   ]
  },
  {
   "cell_type": "code",
   "execution_count": null,
   "metadata": {},
   "outputs": [],
   "source": [
    "a = np.array([[1,2,3,4], [5,6,7,8], [9,10,11,12]])\n",
    "\n",
    "# получите срез в виде квадратной матрицы 3x2, с левого конца\n",
    "a_3x2_left = a[:,:2]\n",
    "\n",
    "# 1. из него получите матрицу, содержащую эти элементы, возведенные в квадрат\n",
    "## ваш код здесь\n",
    "\n",
    "# 2. возьмите срез 3x2 с правого конца и сложите со имеющимся срезом\n",
    "## ваш код здесь"
   ]
  },
  {
   "cell_type": "markdown",
   "metadata": {},
   "source": [
    "### Операции из области линейной алгебры\n",
    "\n",
    "Умножение матриц, скалярное произведение векторов (как частный случай умножения матриц), транспонирование - базовые функции пакета numpy.\n",
    "\n",
    "В модуле numpy.linalg еще есть встроенные функции для расчетов рангов матриц, определителей, вычисления собственных чисел, а также для решения линейных уравнений:\n",
    " - ```np.linalg.solve(A, b)``` - вычисляет единственное решение системы линейных уравнений, где A - квадратная матрица коэффициентов, b - вектор значений\n",
    " - ```np.linalg.matrix_rank(A)``` - вычисляет ранг матрицы\n",
    " - ```np.linalg.inv(A)``` - вычисляет обратную матрицу\n",
    " - ```np.linalg.eig(A)``` - вычисляет собственный вектор или собственное число матрицы"
   ]
  },
  {
   "cell_type": "code",
   "execution_count": null,
   "metadata": {},
   "outputs": [],
   "source": [
    "# создаем две матрицы\n",
    "x = np.array([[1,2],[3,4]])\n",
    "y = np.array([[5,6],[7,8]])\n",
    "\n",
    "# и два вектора\n",
    "v = np.array([9,10])\n",
    "w = np.array([11, 12])\n",
    "\n",
    "# Скалярное произведение векторов; оба выражения дают 219\n",
    "print(v.dot(w))\n",
    "print(np.dot(v, w))\n",
    "\n",
    "# Умножение матрицы на вектор, оба выражения возвращают вектор [29 67]\n",
    "print(x.dot(v))\n",
    "print(np.dot(x, v))\n",
    "\n",
    "# Умножение матриц, в итоге получаем\n",
    "# [[19 22]\n",
    "#  [43 50]]\n",
    "print(x.dot(y))\n",
    "print(np.dot(x, y))"
   ]
  },
  {
   "cell_type": "markdown",
   "metadata": {},
   "source": [
    "## Бродкастинг (broadcasting)\n",
    "\n",
    "В русскоязычной литературе этот термин также встречается как \"укладывание\"."
   ]
  },
  {
   "cell_type": "code",
   "execution_count": null,
   "metadata": {},
   "outputs": [],
   "source": [
    "# Добавим вектор v к каждой строке матрицы x\n",
    "# результат запишем в матрицу y\n",
    "x = np.array([[1,2,3], [4,5,6], [7,8,9], [10, 11, 12]])\n",
    "v = np.array([1, 0, 1])\n",
    "y = x + v  # Add v to each row of x using broadcasting\n",
    "print(y)  # результат \"[[ 2  2  4]\n",
    "          #          [ 5  5  7]\n",
    "          #          [ 8  8 10]\n",
    "          #          [11 11 13]]\"\n",
    "            \n",
    "            \n",
    "### как это было бы без бродкастинга\n",
    "y = np.empty_like(x)   # создаем пустой массив \"как x\"\n",
    "\n",
    "# В ЦИКЛЕ добываем векторы из x, складываем с v и записываем в y\n",
    "for i in range(4):\n",
    "    y[i, :] = x[i, :] + v\n",
    "\n",
    "# ИЛИ\n",
    "vv = np.tile(v, (4, 1))   # размножаем вектор v в матрицу той же размерности, что x\n",
    "y = x + vv  # скалыдваем\n",
    "# уже лучше, но все равно не то\n",
    "\n",
    "# Бродкастинг также работает и со скалярными данными\n",
    "y = (x * 2)\n",
    "print(y)\n",
    "# [[ 2  4  6]\n",
    "#  [ 8 10 12]\n",
    "#  [14 16 18]\n",
    "#  [20 22 24]]"
   ]
  },
  {
   "cell_type": "markdown",
   "metadata": {},
   "source": [
    "### Агрегатные вычисления"
   ]
  },
  {
   "cell_type": "code",
   "execution_count": null,
   "metadata": {},
   "outputs": [],
   "source": [
    "x = np.array([[1,2,3], [4,5,6], [7,8,9], [10, 11, 12]])\n",
    "\n",
    "print(x.sum()) # сумма\n",
    "\n",
    "print(x.mean()) # среднее\n",
    "\n",
    "print(x[2].sum()) # сумма по 2-й строке\n",
    "\n",
    "print(np.sum(x[:, 1])) # сумма по 1-му столбцу\n",
    "\n"
   ]
  },
  {
   "cell_type": "markdown",
   "metadata": {},
   "source": [
    "Функции ```max()``` и ```argmax()```:"
   ]
  },
  {
   "cell_type": "code",
   "execution_count": null,
   "metadata": {},
   "outputs": [],
   "source": [
    "a_vec = (np.random.random( 10 ) * 100).astype(dtype=np.int64)\n",
    "print(a_vec)\n",
    "print(a_vec.max()) # возвращает максимум\n",
    "print(a_vec.argmax()) # возвращает позицию для элемента с максимальным значением"
   ]
  },
  {
   "cell_type": "code",
   "execution_count": null,
   "metadata": {},
   "outputs": [],
   "source": [
    "m = np.random.randint(0,10, (3,3)  )\n",
    "m.argmax() # вернет индекс как будто матрица \"раскатана\" в вектор"
   ]
  },
  {
   "cell_type": "markdown",
   "metadata": {},
   "source": [
    "### Сортировка и поиск\n",
    "\n",
    "Для сортировки есть функция ```sort()```:"
   ]
  },
  {
   "cell_type": "code",
   "execution_count": null,
   "metadata": {},
   "outputs": [],
   "source": [
    "a_vec = (np.random.random( 10 ) * 100).astype(dtype=np.int64)\n",
    "\n",
    "print(a_vec)\n",
    "print(np.sort(a_vec))\n",
    "print(a_vec.sort())\n",
    "print(a_vec.sort(reverse=True)) # увы\n",
    "print(np.sort(a_vec)[::-1])\n"
   ]
  },
  {
   "cell_type": "markdown",
   "metadata": {},
   "source": [
    "...и ```argsort()```:"
   ]
  },
  {
   "cell_type": "code",
   "execution_count": null,
   "metadata": {},
   "outputs": [],
   "source": [
    "a_vec = (np.random.random( 10 ) * 1000).astype(dtype=np.int64)\n",
    "\n",
    "print(a_vec)\n",
    "print(np.argsort(a_vec))\n",
    "print(a_vec[ a_vec.argsort()[:5] ])"
   ]
  },
  {
   "cell_type": "markdown",
   "metadata": {},
   "source": [
    "### ❓❓❓ А как искать нужные значения?\n",
    "\n",
    "__Задание:__ найдите все значения в массиве ```a_vec``` из предыдущей клетки, которые больше 500."
   ]
  },
  {
   "cell_type": "code",
   "execution_count": null,
   "metadata": {},
   "outputs": [],
   "source": [
    "# ваш код здесь\n"
   ]
  },
  {
   "cell_type": "markdown",
   "metadata": {},
   "source": [
    "Найти индекс конкретного значения можно через функцию ```where()```:"
   ]
  },
  {
   "cell_type": "code",
   "execution_count": null,
   "metadata": {},
   "outputs": [],
   "source": [
    "vec = np.arange(42) * 10\n",
    "print(vec)\n",
    "print(np.where(vec == 210))\n",
    "\n",
    "print()\n",
    "\n",
    "# работает и для матриц тоже\n",
    "mtx = vec.reshape((7,6))\n",
    "print(mtx)\n",
    "print(np.where(mtx == 210))"
   ]
  },
  {
   "cell_type": "markdown",
   "metadata": {},
   "source": [
    "## ‼️ Как надо и как не надо пользоваться numpy\n",
    "\n",
    "Использование numpy неэффективно, если объекты numpy обрабатывать вне самого numpy. Подходите к данным как к векторам и матрицам, обрабатывайте их эффективно!"
   ]
  },
  {
   "cell_type": "code",
   "execution_count": null,
   "metadata": {},
   "outputs": [],
   "source": [
    "# На примере задачи \"получить сумму  квадратов натуральных чисел от 0 до 1000\"\n",
    "# чистый python:\n",
    "n = 10000\n",
    "%timeit -n200 x = sum(x*x for x in range(n))\n",
    "\n",
    "# наивный numpy - хуже чистого Python'а\n",
    "na = np.arange(n)\n",
    "%timeit -n200 x = sum(na*na)\n",
    "\n",
    "# векторизованный numpy\n",
    "%timeit -n200 x = np.dot(na, na)"
   ]
  },
  {
   "cell_type": "markdown",
   "metadata": {},
   "source": [
    "## Практические задания\n",
    "\n",
    "Решите следующие простые задания, не прибегая к использованию циклов и исключая использование функций python, таких как ```sum()```, ```max()```, и т.д:"
   ]
  },
  {
   "cell_type": "code",
   "execution_count": null,
   "metadata": {},
   "outputs": [],
   "source": [
    "# создайте массив numpy из 10-ти случайных натуральных чисел\n",
    "\n",
    "# найдите минимум в этом массиве и индекс этого минимального значения, замените этот элемент на -100\n",
    "\n",
    "# сложите этот массив с его \"зеркальным отображением\"\n",
    "\n",
    "# посчитайте сумму элементов получившегося массива\n",
    "\n",
    "# посчитайте сумму квадратов элементов получившегося массива"
   ]
  },
  {
   "cell_type": "markdown",
   "metadata": {},
   "source": [
    "1 . Решите систему уравнений методом solve:\n",
    "\n",
    "$\\begin{cases}\n",
    "x_1 - x_2 + x_3 = 3 \\\\\n",
    "2x_1 + x_2 + x_3 = 11 \\\\\n",
    "x_1 + x_2 + 2x_3 = 8\n",
    "\\end{cases}\n",
    "$"
   ]
  },
  {
   "cell_type": "code",
   "execution_count": null,
   "metadata": {},
   "outputs": [],
   "source": [
    "# ваш код здесь\n",
    "\n"
   ]
  },
  {
   "cell_type": "markdown",
   "metadata": {},
   "source": [
    "2 . Решите систему уравнений методом обратной матрицы: $A * x = b$, $x = A^-1 * b$\n",
    "\n",
    "$\\begin{cases}\n",
    "2x_1 + x_2 - 2x_3 = -3 \\\\\n",
    "x_1 - 2x_2 + x_3 = 11 \\\\\n",
    "3x_1 + x_2 - x_3 = 0\n",
    "\\end{cases}\n",
    "$\n"
   ]
  },
  {
   "cell_type": "code",
   "execution_count": null,
   "metadata": {},
   "outputs": [],
   "source": [
    "# ваш код здесь"
   ]
  },
  {
   "cell_type": "markdown",
   "metadata": {},
   "source": [
    "3 . Найдите расстояние от точки $M(1;0;-2)$  \n",
    "до плоскости, заданной уравнением $2x-y+2z=4$.\n",
    "\n",
    "Формула для рассчета расстояния от точки до плоскости:  \n",
    "$d_{01}=\\frac{\\left|\\left(\\bar r_0\\cdot \\bar n_1\\right)+D_1\\right|}{\\left|\\bar n_1\\right|}$, где $r_0$ - радиус-вектор к точке,  $n_1$ - вектор нормали к плоскости, $D_1$ - константа из уравнения плоскости."
   ]
  },
  {
   "cell_type": "code",
   "execution_count": null,
   "metadata": {},
   "outputs": [],
   "source": [
    "# ваш код здесь"
   ]
  },
  {
   "cell_type": "markdown",
   "metadata": {
    "collapsed": true
   },
   "source": [
    "#### Задачи на векторизацию, булевы маски и бродкастинг\n",
    "\n",
    "Требуется решить их с использованием объектов и функций библиотеки ```numpy```, без использования циклов, с минимальным количеством строк кода. \n",
    "\n",
    "1. Найти сумму ряда чисел от 0 до 100."
   ]
  },
  {
   "cell_type": "code",
   "execution_count": null,
   "metadata": {},
   "outputs": [],
   "source": [
    "# ваш код здесь"
   ]
  },
  {
   "cell_type": "markdown",
   "metadata": {
    "collapsed": true
   },
   "source": [
    "2. Выведите списки чисел, из данного массива:\\\n",
    "    2.1 кратные 3-м \\\n",
    "    2.2 кратные 5-ти \\\n",
    "    2.3 кратные одновременно и 3-м, и 5-ти \\\n",
    "    2.4 кратные как 3-м, так и 5-ти, кроме четных чисел"
   ]
  },
  {
   "cell_type": "code",
   "execution_count": null,
   "metadata": {},
   "outputs": [],
   "source": [
    "# ваш код здесь"
   ]
  },
  {
   "cell_type": "markdown",
   "metadata": {
    "collapsed": true
   },
   "source": [
    "3. У вас есть матрица, столбцы которой содержат данные о диаметре и длине стальных циллиндрических прутков, которые подлежат покраске. Посчитайте расход краски в кг, если известно, что толщина покрытия - 0.001 мм, а плотность краски $5000 кг/м^3$."
   ]
  },
  {
   "cell_type": "code",
   "execution_count": null,
   "metadata": {},
   "outputs": [],
   "source": [
    "# ваш код здесь"
   ]
  },
  {
   "cell_type": "markdown",
   "metadata": {},
   "source": [
    "4. Создайте матрицу размера MxN и заполните ее случайными числами в диапазоне от 0 до 1. \\\n",
    "    4.1 К каждой строке матрицы прибавьте ряд натуральных чисел от 0 до N. \\\n",
    "    4.2 К каждому столбцу матрицы прибавьте ряд десятков натуральных чисел от M*10 до 0 (например, 40, 30, 20, 10 etc)."
   ]
  },
  {
   "cell_type": "code",
   "execution_count": null,
   "metadata": {},
   "outputs": [],
   "source": [
    "# ваш код здесь"
   ]
  },
  {
   "cell_type": "code",
   "execution_count": null,
   "metadata": {},
   "outputs": [],
   "source": []
  },
  {
   "cell_type": "code",
   "execution_count": null,
   "metadata": {},
   "outputs": [],
   "source": []
  }
 ],
 "metadata": {
  "kernelspec": {
   "display_name": "Python 3 (ipykernel)",
   "language": "python",
   "name": "python3"
  },
  "language_info": {
   "codemirror_mode": {
    "name": "ipython",
    "version": 3
   },
   "file_extension": ".py",
   "mimetype": "text/x-python",
   "name": "python",
   "nbconvert_exporter": "python",
   "pygments_lexer": "ipython3",
   "version": "3.11.8"
  }
 },
 "nbformat": 4,
 "nbformat_minor": 2
}
