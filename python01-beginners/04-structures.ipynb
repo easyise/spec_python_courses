{
 "cells": [
  {
   "cell_type": "markdown",
   "id": "advance-latino",
   "metadata": {},
   "source": [
    "# Программирование на языке Python. Уровень 1. Основы языка Python\n",
    "\n",
    "## Модуль 4. Структуры данных в Python\n",
    "\n",
    "Основные структуры данных, которые примяняются в Python:\n",
    " - списки\n",
    " - кортежи\n",
    " - массивы numpy\n",
    " - множества\n",
    " - словари\n",
    " \n"
   ]
  },
  {
   "cell_type": "markdown",
   "id": "inside-webmaster",
   "metadata": {},
   "source": [
    "### Списки\n",
    "\n",
    "Список в Python - это упорядоченный набор элементов любого типа.  \n",
    "\n",
    "Создание списка:"
   ]
  },
  {
   "cell_type": "code",
   "execution_count": 1,
   "id": "brazilian-facing",
   "metadata": {},
   "outputs": [
    {
     "name": "stdout",
     "output_type": "stream",
     "text": [
      "['a', 'b', 1, 0.5, {'James': 'Brown', 'Luke': 'Skywalker'}]\n",
      "[1, 4, 27, 256, 3125, 46656, 823543, 16777216, 387420489]\n"
     ]
    }
   ],
   "source": [
    "# создать список\n",
    "list1 = ['a', 'b', 1, 0.5, {'James':'Brown', 'Luke':'Skywalker'}]\n",
    "#показать содержимое списка\n",
    "print(list1) # ['a', 'b', 1, 0.5, {'James': 'Brown', 'Luke': 'Skywalker'}]\n",
    "\n",
    "# создать список из range()\n",
    "list2 = list(range(10, 15+1))\n",
    "print(list2)\n",
    "\n",
    "# создать список с помощью генератора\n",
    "list3 = [ x**x for x in range(1,10) ] \n",
    "print(list3)"
   ]
  },
  {
   "cell_type": "markdown",
   "id": "7b142be9",
   "metadata": {},
   "source": [
    "Доступ к элементам списка:"
   ]
  },
  {
   "cell_type": "code",
   "execution_count": null,
   "id": "1ae9db09",
   "metadata": {},
   "outputs": [],
   "source": [
    "print( list1[0] )\n",
    "\n",
    "i = 2\n",
    "print( list1[i] )\n",
    "\n",
    "print( list1[ i+1 ] )\n",
    "\n",
    "print( list1[ 2.0 ] )"
   ]
  },
  {
   "cell_type": "markdown",
   "id": "rising-music",
   "metadata": {},
   "source": [
    "Добавление и удаление элементов, конкатенация списков:"
   ]
  },
  {
   "cell_type": "code",
   "execution_count": null,
   "id": "opponent-toner",
   "metadata": {},
   "outputs": [],
   "source": [
    "#добавить элемент\n",
    "list1 = ['a', 'b', 1, 0.5, {'James':'Brown', 'Luke':'Skywalker'}]\n",
    "list1.append('Something New') # ['a', 'b', 1, 0.5, {'Luke': 'Skywalker', 'James': 'Brown'}, 'Something New']\n",
    "list1.extend([10, 20, 30])\n",
    "print(list1)\n",
    "\n",
    "# вставить элемент на указанную позицию\n",
    "list2 = [0, 10, 20, 30, 40]\n",
    "list2.insert(1,100)\n",
    "print(list2)\n",
    "\n",
    "list2 = [0, 10, 20, 30, 40]\n",
    "#убрать последний элемент (и вернуть его)\n",
    "print(list2)\n",
    "print(list2.pop()) # [0, 1, 2, 3]\n",
    "print(list2)\n",
    "\n",
    "# просто удалить элемент\n",
    "del list2[1]\n",
    "print(list2)"
   ]
  },
  {
   "cell_type": "code",
   "execution_count": null,
   "id": "4119c9ab-e039-48f1-854e-fc13f0a8e5e4",
   "metadata": {},
   "outputs": [],
   "source": [
    "# конкатенация\n",
    "print(list1 + list2)\n",
    "\n",
    "# инкремент\n",
    "list2 += ['100', '200', '300']\n",
    "print(list2)"
   ]
  },
  {
   "cell_type": "markdown",
   "id": "english-answer",
   "metadata": {},
   "source": [
    "Сортировка и поиск:"
   ]
  },
  {
   "cell_type": "code",
   "execution_count": null,
   "id": "aging-festival",
   "metadata": {},
   "outputs": [],
   "source": [
    "list2 = [20, 0, 10, 30, 40]\n",
    "\n",
    "print(sorted(list2))\n",
    "print(list2)\n",
    "\n",
    "print()\n",
    "\n",
    "#сортировать \n",
    "list2.sort() \n",
    "print(list2)\n",
    "list2.sort(reverse=True) \n",
    "print(list2)"
   ]
  },
  {
   "cell_type": "code",
   "execution_count": null,
   "id": "8361eb99-1d3c-41a4-9d4d-67efd9df2c28",
   "metadata": {},
   "outputs": [],
   "source": [
    "# поиск индекса по значению\n",
    "search_val = 10\n",
    "if search_val in list2:\n",
    "    print(list2.index(search_val))"
   ]
  },
  {
   "cell_type": "markdown",
   "id": "controversial-bulgarian",
   "metadata": {},
   "source": [
    "Вычисления по списку:"
   ]
  },
  {
   "cell_type": "code",
   "execution_count": null,
   "id": "coastal-stevens",
   "metadata": {},
   "outputs": [],
   "source": [
    "list2 = list(range(5))\n",
    "print(list2)\n",
    "\n",
    "# длина списка\n",
    "print(len(list2))\n",
    "\n",
    "# сумма всех элементов\n",
    "print(sum(list2))\n",
    "\n",
    "# максимум, минимум\n",
    "print(max(list2), min(list2))"
   ]
  },
  {
   "cell_type": "markdown",
   "id": "interested-dancing",
   "metadata": {},
   "source": [
    "Обращение к элементам списка и срезы (slices):"
   ]
  },
  {
   "cell_type": "code",
   "execution_count": null,
   "id": "measured-helen",
   "metadata": {},
   "outputs": [],
   "source": [
    "nums = [0,10,20,30,40]    \n",
    "print(nums)               # выведет на экран \"[0, 10, 20, 30, 40]\"\n",
    "print()\n",
    "\n",
    "print(nums[-3])           # выведет на экран 3-й элемент с конца: \"20\"\n",
    "\n",
    "print()\n",
    "\n",
    "print(nums[2:4])          # выведет на экран срез со 2-го до 4-го: \"[20, 30]\"\n",
    "print(nums[2:])           # выведет на экран срез со 2-го и до конца: \"[20, 30, 40]\"\n",
    "print(nums[:2])           # выведет на экран срез с начала и до 2-го элемента \"[0, 10]\"\n",
    "print(nums[:])            # срез - копия всего списка: \"[0, 10, 20, 30, 40]\"\n",
    "print(nums[::2])          # срез с шагом: каждый второй элемент: \"[0, 20, 40]\"\n",
    "print(nums[::-2])         # срез с отрицательным шагом: каждый второй элемент с конца: \"[40, 20, 0]\"\n",
    "\n",
    "print()\n",
    "\n",
    "nums[2:4] = [80, 90]        # заместит элементы со 2-го до 4-го списком [80, 90]\n",
    "\n",
    "print(nums)               # выведет на экран \"[0, 10, 80, 90, 40]\""
   ]
  },
  {
   "cell_type": "markdown",
   "id": "integral-millennium",
   "metadata": {},
   "source": [
    "Итерация по списку:"
   ]
  },
  {
   "cell_type": "code",
   "execution_count": null,
   "id": "appropriate-albania",
   "metadata": {},
   "outputs": [],
   "source": [
    "# итерация по списку\n",
    "for num in nums: \n",
    "    print( num )\n",
    "\n",
    "# ТАК ДЕЛАТЬ НЕ НАДО!\n",
    "for i in range(len(nums)):\n",
    "    print(nums[i])\n",
    "    \n",
    "# чтобы получить индекс, обращаемся к функции enumerate()\n",
    "for i, num in enumerate(nums):\n",
    "    print( f\"{i}: {num}\" )\n",
    "\n",
    "# с помощью zip() можно склеить два списка\n",
    "questions = ['name', 'quest', 'favorite color']\n",
    "answers = ['lancelot', 'the holy grail', 'blue']\n",
    "for q, a in zip(questions, answers):\n",
    "    print('What is your {}?  It is {}.'.format(q, a))"
   ]
  },
  {
   "cell_type": "markdown",
   "id": "other-camcorder",
   "metadata": {},
   "source": [
    "#### ПРАКТИКА\n",
    "\n",
    "1. Создайте список из квадратов натуральных чисел до 8 и выведите на экран:\n",
    "\n",
    "\n",
    "    a. первый и последний элементы списка \\\n",
    "    b. первые два элемента \\\n",
    "    c. элементы с 3-го по 6-й \\\n",
    "    d. последние три элемента, к которым прибавили 3 \\\n",
    "    e. среднее арифметическое всех нечетных элементов"
   ]
  },
  {
   "cell_type": "code",
   "execution_count": null,
   "id": "julian-creature",
   "metadata": {},
   "outputs": [],
   "source": [
    "# ваш код здесь\n",
    "\n"
   ]
  },
  {
   "cell_type": "markdown",
   "id": "passive-worse",
   "metadata": {},
   "source": [
    "### Кортежи (tuples)\n",
    "\n",
    "Кортеж - это не просто неизменяемый список, это нечто большее. Подробнее о кортежах и их использовании мы поговорим в следующем разделе. Кортеж поддерживает те же операции на чтение, что и список. \n",
    "\n"
   ]
  },
  {
   "cell_type": "code",
   "execution_count": null,
   "id": "innocent-shareware",
   "metadata": {},
   "outputs": [],
   "source": [
    "tuple_1 = ('John Adams', 39, 180, 95) # задание кортежа явно\n",
    "print(tuple_1)\n",
    "tuple_2 = tuple([1,2,3]) # можно сконвертировать из списка функцией tuple()\n",
    "print(tuple_2)"
   ]
  },
  {
   "cell_type": "code",
   "execution_count": null,
   "id": "close-virus",
   "metadata": {},
   "outputs": [],
   "source": [
    "tuple_1.append('Barbara Adams')"
   ]
  },
  {
   "cell_type": "code",
   "execution_count": null,
   "id": "competitive-might",
   "metadata": {},
   "outputs": [],
   "source": [
    "tuple_1[0] = 'John Patrick Adams'"
   ]
  },
  {
   "cell_type": "code",
   "execution_count": null,
   "id": "accompanied-belly",
   "metadata": {},
   "outputs": [],
   "source": [
    "# С помощью кортежей удобно инициализировать переменные:\n",
    "(name, age, height, weight) = tuple_1\n",
    "print(f\"Name: {name}, age: {age}, height: {height}, weight: {weight}\")"
   ]
  },
  {
   "cell_type": "code",
   "execution_count": null,
   "id": "949aa6d6-6de0-4acf-a6df-e74de9dfc2fd",
   "metadata": {},
   "outputs": [],
   "source": [
    "# удобно делать множественные присваивания\n",
    "a, b = 1, 5\n",
    "print(f\"a: {a}, b: {b}\")"
   ]
  },
  {
   "cell_type": "code",
   "execution_count": null,
   "id": "96bfdf67-f9b5-4796-88c8-c985cbef78e8",
   "metadata": {},
   "outputs": [],
   "source": [
    "# удобно менять значения переменных:\n",
    "(a, b) = (b, a)\n",
    "print(f\"a: {a}, b: {b}\")"
   ]
  },
  {
   "cell_type": "markdown",
   "id": "spare-nickel",
   "metadata": {},
   "source": [
    "### Массивы numpy\n",
    "\n",
    "С ними можно выполнять те же операции, что и со списками, но они предоставляют следующие преимущества:\n",
    "1. можно использовать \"векторизацию\" - умножать массивы на числа (и на другие массивы), складывать массивы поэлементно, и все это без использования циклов;\n",
    "2. можно использовать индексацию по списку и с помощью булевых масок;\n",
    "3. они дают серьезный выигрыш в производительности при больших объмах данных.\n",
    "\n",
    "Основное отличие от списков Python: __в массивах numpy хранятся данные только одного типа (как правило, числа)__.\n",
    "\n",
    "Основное правило при работе со списками numpy: __используйте нативные функции этой библиотеки__: ```np.sum()```, ```np.mean()```, ```np.shape``` и т.д. __Не используйте sum(), len() и функции модуля math!__"
   ]
  },
  {
   "cell_type": "code",
   "execution_count": null,
   "id": "complimentary-blast",
   "metadata": {},
   "outputs": [],
   "source": [
    "!pip3 install numpy"
   ]
  },
  {
   "cell_type": "code",
   "execution_count": null,
   "id": "challenging-hypothesis",
   "metadata": {},
   "outputs": [],
   "source": [
    "import numpy as np\n",
    "\n",
    "a = np.arange(10)\n",
    "print( a )\n",
    "b = a * 10\n",
    "print( b )\n",
    "print( b[ [1,3,5] ] )\n",
    "print( b > 20 )\n",
    "print( b < 75 )\n",
    "print( b[ (b > 20) & (b < 75) ])\n",
    "\n",
    "# размер массива находится в свойстве .shape, и это кортеж:\n",
    "print(b.shape)\n",
    "\n",
    "# создание матрицы (например, единичной), ее размер задается кортежом:\n",
    "a_3x3 = np.ones( (3,3) )\n",
    "a_3x3"
   ]
  },
  {
   "cell_type": "code",
   "execution_count": null,
   "id": "patent-ghana",
   "metadata": {},
   "outputs": [],
   "source": [
    "a_3x3_random = np.random.randint(0, 10, (3,3))\n",
    "print(a_3x3_random)\n",
    "\n",
    "# сумма, среднее\n",
    "print(a_3x3_random.sum(), a_3x3_random.mean())"
   ]
  },
  {
   "cell_type": "markdown",
   "id": "incoming-spring",
   "metadata": {},
   "source": [
    "### Множества\n",
    "\n",
    "Множество в Python – это структура данных, в которой значения каждого члена – уникально. При этом порядок следования этих элементов не определен. Для чего они используются:\n",
    "- для получения уникальных значений из списков/словарей/массивов\n",
    "- для выполнения теоретико-множественных операций (пересечение, объединение, разность).\n"
   ]
  },
  {
   "cell_type": "code",
   "execution_count": null,
   "id": "matched-profile",
   "metadata": {},
   "outputs": [],
   "source": [
    "empty_set = set()\n",
    "print(empty_set)\n",
    "\n",
    "beatles_list = ['Lennon', 'McCartney', 'Harrison', 'Starr', 'Lennon']\n",
    "beatles = set(beatles_list)\n",
    "print(beatles)\n",
    "\n",
    "travelling_wilburys = {'Harrison', 'Dylan', 'Lynn', 'Orbison', 'Petty', 'Starr'}\n",
    "\n",
    "common_members = beatles & travelling_wilburys\n",
    "print(common_members)\n",
    "\n",
    "all_musicians = beatles | travelling_wilburys\n",
    "print(all_musicians)\n",
    "\n",
    "print(beatles - travelling_wilburys)"
   ]
  },
  {
   "cell_type": "markdown",
   "id": "canadian-virgin",
   "metadata": {},
   "source": [
    "### Словари\n",
    "\n",
    "Словарем называется совокупность пар «ключ–значение», причем каждое значение определяется своим ключом. В роли ключа теоретически может выступать любое неизменяемое значение, но как правило в роли ключа выступает либо целое число, либо строка."
   ]
  },
  {
   "cell_type": "code",
   "execution_count": null,
   "id": "fixed-manchester",
   "metadata": {},
   "outputs": [],
   "source": [
    "# создание словаря\n",
    "dict_1 = {'James Brown': 'musician', \n",
    "          'Luke Skywalker': 'character', \n",
    "          'John Lennon': 'musician'} # явно\n",
    "dict_2 = dict([('sape', 4139), ('guido', 4127), ('jack', 4098)]) # из списка кортежей\n",
    "dict_3 = { x: x**2 for x in (4, 2, 6) } # с помощью цикла dictionary comprehention\n",
    "\n",
    "print(dict_1)\n",
    "print(dict_2)\n",
    "print(dict_3)\n",
    "\n",
    "print(dict_2['guido'])"
   ]
  },
  {
   "cell_type": "code",
   "execution_count": null,
   "id": "fef8adee-fe36-4792-8fa2-56520e7bba5b",
   "metadata": {},
   "outputs": [],
   "source": [
    "# добавление в словарь\n",
    "dict_1['Colin Firth'] = 'actor'\n",
    "print(dict_1)\n",
    "\n",
    "# удаление из словаря\n",
    "print(dict_3)\n",
    "del dict_3[4]\n",
    "print(dict_3)\n",
    "\n",
    "\n",
    "del dict_1['Colin Firth']\n",
    "print(dict_1)"
   ]
  },
  {
   "cell_type": "code",
   "execution_count": null,
   "id": "6b2f0f84-7b84-4f9f-ba13-5a14dcc3326d",
   "metadata": {},
   "outputs": [],
   "source": [
    "# объединение словарей:\n",
    "print( {**dict_1,**dict_3} )\n",
    "# или\n",
    "print( dict_1 | dict_3 )"
   ]
  },
  {
   "cell_type": "code",
   "execution_count": null,
   "id": "52f644e7-20a5-4a11-acd4-616441e1744d",
   "metadata": {},
   "outputs": [],
   "source": [
    "# поиск информации\n",
    "print( 'Luke Skywalker' in dict_1.keys() )\n",
    "print( 'Luke Skywalker' in dict_1 )\n",
    "print( 'Terry Jones' in dict_1 )\n",
    "print()\n",
    "print( 'musician' in dict_1.values() )\n",
    "print( 'comedian' in dict_1.values() )"
   ]
  },
  {
   "cell_type": "code",
   "execution_count": null,
   "id": "cf04f432-d08a-4075-9762-dbb7032b1f2a",
   "metadata": {},
   "outputs": [],
   "source": [
    "# итерация по словарю лучше выполняется через метод items()\n",
    "for key, value in dict_1.items():\n",
    "    print(f\"{key} {value}\")"
   ]
  },
  {
   "cell_type": "code",
   "execution_count": null,
   "id": "128eeeb9-6c44-430f-b63f-38156153b2e3",
   "metadata": {},
   "outputs": [],
   "source": [
    "for x in dict_1:\n",
    "    print(x, dict_1[x])"
   ]
  },
  {
   "cell_type": "code",
   "execution_count": null,
   "id": "4605c79d-74fe-49ef-a5bc-10a62c669e0b",
   "metadata": {},
   "outputs": [],
   "source": [
    "# упорядочивание данных в словаре (сортировка)\n",
    "sorted(dict_1.values())"
   ]
  },
  {
   "cell_type": "code",
   "execution_count": null,
   "id": "bb8642bc-8840-461d-af75-4ed2643bc912",
   "metadata": {},
   "outputs": [],
   "source": [
    "# упорядочивание данных в словаре вместе с ключами\n",
    "dict_3 = dict([('four',4), ('two', 2), ('six', 6), ('three', 3)])\n",
    "print(dict_3)\n",
    "\n",
    "print()\n",
    "print(list(dict_3.items()))\n",
    "\n",
    "print(sorted(dict_3.items()))\n",
    "print([(val, key) for key, val in dict_3.items()])\n",
    "print(sorted( [(val, key) for key, val in dict_3.items()] ))"
   ]
  },
  {
   "cell_type": "markdown",
   "id": "authorized-newark",
   "metadata": {},
   "source": [
    "#### ПРАКТИКА\n",
    "\n",
    "1. Создайте словарь ```r_names```, в котором ключами будут значения из ```names```, а значениями - ключи этого словаря.\n",
    "2. Добавьте в словарь ```names``` музыканта (musician) Elvis Presley, актера (actor) Keanu Reeves, музыканта (musician) John Lennon и персонажа (character) Harry Potter. \n",
    "3. Создайте словарь ```profiles```, который бы содержал списки музыкантов, персонажей и актеров из ```names```. Решите задачу в общем виде, используя значения из ```names``` в качестве ключей для ```profiles```. Пример:\n",
    "```\n",
    "{'musician': ['Elvis Presley', 'James Brown'], 'character':['Harry Potter', ...], ...}\n",
    "```\n",
    "4. Отсортируйте списки имен в ```profiles``` в алфавитном порядке.\n",
    "5. Выведите имена из ```names``` вместе с профилями в алфавитном порядке."
   ]
  },
  {
   "cell_type": "code",
   "execution_count": null,
   "id": "uniform-plenty",
   "metadata": {},
   "outputs": [],
   "source": [
    "names = { 'James Brown': 'musician', \n",
    "         'Luke Skywalker': 'character', \n",
    "         'Colin Firth': 'actor'}\n",
    "\n",
    "# ваш код здесь\n"
   ]
  }
 ],
 "metadata": {
  "kernelspec": {
   "display_name": "Python 3 (ipykernel)",
   "language": "python",
   "name": "python3"
  },
  "language_info": {
   "codemirror_mode": {
    "name": "ipython",
    "version": 3
   },
   "file_extension": ".py",
   "mimetype": "text/x-python",
   "name": "python",
   "nbconvert_exporter": "python",
   "pygments_lexer": "ipython3",
   "version": "3.12.3"
  }
 },
 "nbformat": 4,
 "nbformat_minor": 5
}
