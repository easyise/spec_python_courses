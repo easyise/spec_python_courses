{
 "cells": [
  {
   "cell_type": "markdown",
   "id": "empirical-kruger",
   "metadata": {},
   "source": [
    "\n",
    "# Программирование на языке Python. Уровень 1. Основы языка Python\n",
    "\n",
    "## Проверочная работа, Вариант 2\n",
    "\n",
    "Как проводится работа:\n",
    " - если за 50 минут вы решили любые две из трех задач - курс прошел не зря;\n",
    " - если за это время вы решите третью задачу - отлично, вы усвоили курс и набрали достаточно опыта;\n",
    " - решите оба варианта - можете идти на собеседование на позицию Junior Python Developer (но лучше после \"продвинутого\" курса).\n",
    "\n",
    "Код должен запускаться без ошибок, задачи нужно решать в общем виде, без \"хардкода\". \\\n",
    "Если написано \"напишите функцию\" - значит в коде должна быть функция и ее вызов.\n",
    "\n",
    "Удачи!\n"
   ]
  },
  {
   "cell_type": "markdown",
   "id": "uniform-subject",
   "metadata": {
    "paper_id": 2,
    "tags": [
     "Билет 2"
    ]
   },
   "source": [
    "## Билет 2"
   ]
  },
  {
   "cell_type": "markdown",
   "id": "express-identifier",
   "metadata": {
    "paper_id": 2,
    "tags": [
     "task_201",
     "Билет 2"
    ],
    "task_id": 201
   },
   "source": [
    "1. Напишите функцию ```sum_till_n(num: int) -> int```, которая для заданного числа n вычисляет сумму чисел от 1 до этого числа включительно. Например, для n=3: ```1+2+3=6``` и вызовите ее."
   ]
  },
  {
   "cell_type": "code",
   "execution_count": 3,
   "id": "polyphonic-bubble",
   "metadata": {
    "paper_id": 2,
    "tags": [
     "task_201",
     "Билет 2"
    ],
    "task_id": 201
   },
   "outputs": [],
   "source": [
    "# ваш код здесь\n"
   ]
  },
  {
   "cell_type": "markdown",
   "id": "devoted-touch",
   "metadata": {
    "paper_id": 2,
    "tags": [
     "task_202",
     "Билет 2"
    ],
    "task_id": 202
   },
   "source": [
    "2. Даны три списка одинаковой длины. Необходимо создать из них словарь таким образом, чтобы элементы первого списка были ключами, а элементы второго и третьего составляли кортеж в значениях нашего словаря."
   ]
  },
  {
   "cell_type": "code",
   "execution_count": 1,
   "id": "buried-quantity",
   "metadata": {
    "paper_id": 2,
    "tags": [
     "task_202",
     "Билет 2"
    ],
    "task_id": 202
   },
   "outputs": [],
   "source": [
    "list_1 = ['Один','Два','Три','Четыре','Пять'] \n",
    "list_2 = [1,2,3,4,5]\n",
    "list_3 = ['foo', 'bar', 'baz', 'hello', 'goodbye']\n",
    "# ваш код здесь\n"
   ]
  },
  {
   "cell_type": "markdown",
   "id": "identified-presentation",
   "metadata": {
    "paper_id": 2,
    "tags": [
     "task_203",
     "Билет 2"
    ],
    "task_id": 203
   },
   "source": [
    "3. Напишите функцию ```vow(str_: str) -> int```, считающей количество гласных букв в введеной строке (для русского и английского алфавитов) и вызовите ее."
   ]
  },
  {
   "cell_type": "code",
   "execution_count": 2,
   "id": "requested-entry",
   "metadata": {
    "paper_id": 2,
    "tags": [
     "task_203",
     "Билет 2"
    ],
    "task_id": 203
   },
   "outputs": [],
   "source": [
    "vows = 'aeiouyауоиэыяюеё'\n",
    "\n",
    "# ваш код здесь\n",
    "\n"
   ]
  }
 ],
 "metadata": {
  "kernelspec": {
   "display_name": "Python 3 (ipykernel)",
   "language": "python",
   "name": "python3"
  },
  "language_info": {
   "codemirror_mode": {
    "name": "ipython",
    "version": 3
   },
   "file_extension": ".py",
   "mimetype": "text/x-python",
   "name": "python",
   "nbconvert_exporter": "python",
   "pygments_lexer": "ipython3",
   "version": "3.12.3"
  }
 },
 "nbformat": 4,
 "nbformat_minor": 5
}
