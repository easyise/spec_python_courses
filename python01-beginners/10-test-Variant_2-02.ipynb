{
 "cells": [
  {
   "cell_type": "markdown",
   "id": "empirical-kruger",
   "metadata": {},
   "source": [
    "\n",
    "# Программирование на языке Python. Уровень 1. Основы языка Python\n",
    "\n",
    "## Проверочная работа, Вариант 2\n",
    "\n",
    "Как проводится работа:\n",
    " - если за 50 минут вы решили любые две из трех задач - курс прошел не зря;\n",
    " - если за это время вы решите третью задачу - отлично, вы усвоили курс и набрали достаточно опыта;\n",
    " - решите оба варианта - можете идти на собеседование на позицию Junior Python Developer (но лучше после \"продвинутого\" курса).\n",
    "\n",
    "Код должен запускаться без ошибок, задачи нужно решать в общем виде, без \"хардкода\". \\\n",
    "Если написано \"напишите функцию\" - значит в коде должна быть функция и ее вызов.\n",
    "\n",
    "Удачи!\n"
   ]
  },
  {
   "cell_type": "markdown",
   "id": "uniform-subject",
   "metadata": {
    "paper_id": 2,
    "tags": [
     "Билет 2"
    ]
   },
   "source": [
    "## Билет 2"
   ]
  },
  {
   "cell_type": "markdown",
   "id": "express-identifier",
   "metadata": {
    "paper_id": 2,
    "tags": [
     "task_201",
     "Билет 2"
    ],
    "task_id": 201
   },
   "source": [
    "1. Напишите функцию ```split_odd_even(list_: list) -> tuple```, которая получает на вход список и возвращает кортеж из двух списков: первый состоит из элементов с нечетными индексами, второй - из элементов с четными.\n",
    "\n",
    "Пример: \n",
    "```\n",
    "split_odd_even([10,20,30,40,50,60])\n",
    ">>> ([20,40,60], [10,30,50], )\n",
    "```"
   ]
  },
  {
   "cell_type": "code",
   "execution_count": 1,
   "id": "polyphonic-bubble",
   "metadata": {
    "paper_id": 2,
    "tags": [
     "task_201",
     "Билет 2"
    ],
    "task_id": 201
   },
   "outputs": [],
   "source": [
    "# ваш код здесь\n"
   ]
  },
  {
   "cell_type": "markdown",
   "id": "devoted-touch",
   "metadata": {
    "paper_id": 2,
    "tags": [
     "task_202",
     "Билет 2"
    ],
    "task_id": 202
   },
   "source": [
    "2. Напишите код, который для заданного пользователем целого числа n вычисляет сумму чисел от 1 до этого числа включительно. Например, для n=3: ```1+2+3=6```"
   ]
  },
  {
   "cell_type": "code",
   "execution_count": 2,
   "id": "buried-quantity",
   "metadata": {
    "paper_id": 2,
    "tags": [
     "task_202",
     "Билет 2"
    ],
    "task_id": 202
   },
   "outputs": [],
   "source": [
    "# ваш код здесь\n",
    "\n"
   ]
  },
  {
   "cell_type": "markdown",
   "id": "identified-presentation",
   "metadata": {
    "paper_id": 2,
    "tags": [
     "task_203",
     "Билет 2"
    ],
    "task_id": 203
   },
   "source": [
    "3. Напишите функцию ```calc_wovs(str_: str) -> int```, считающую количество гласных букв (без учета регистра) в введеной строке (для русского и английского алфавитов).\n",
    "\n",
    "Примеры:\n",
    "```\n",
    "calc_vows('abcdefghi')\n",
    ">>> 3\n",
    "```\n",
    "\n",
    "```\n",
    "calc_vows('мама мыла ramen')\n",
    ">>> 6\n",
    "```"
   ]
  },
  {
   "cell_type": "code",
   "execution_count": 3,
   "id": "requested-entry",
   "metadata": {
    "paper_id": 2,
    "tags": [
     "task_203",
     "Билет 2"
    ],
    "task_id": 203
   },
   "outputs": [],
   "source": [
    "vows = \"АЕЁИОУЫЭЮЯAEIOUY\"\n",
    "\n",
    "# ваш код здесь\n"
   ]
  },
  {
   "cell_type": "code",
   "execution_count": null,
   "id": "76e5ef2e-69c9-4850-ac01-4f0f172da525",
   "metadata": {},
   "outputs": [],
   "source": []
  }
 ],
 "metadata": {
  "kernelspec": {
   "display_name": "Python 3 (ipykernel)",
   "language": "python",
   "name": "python3"
  },
  "language_info": {
   "codemirror_mode": {
    "name": "ipython",
    "version": 3
   },
   "file_extension": ".py",
   "mimetype": "text/x-python",
   "name": "python",
   "nbconvert_exporter": "python",
   "pygments_lexer": "ipython3",
   "version": "3.12.3"
  }
 },
 "nbformat": 4,
 "nbformat_minor": 5
}
