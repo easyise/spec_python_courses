{
 "cells": [
  {
   "cell_type": "markdown",
   "id": "empirical-kruger",
   "metadata": {},
   "source": [
    "\n",
    "# Программирование на языке Python. Уровень 1. Основы языка Python\n",
    "\n",
    "## Проверочная работа, Вариант 2\n",
    "\n",
    "Как проводится работа:\n",
    " - если за 50 минут вы решили любые две из трех задач - курс прошел не зря;\n",
    " - если за это время вы решите третью задачу - отлично, вы усвоили курс и набрали достаточно опыта;\n",
    " - решите оба варианта - можете идти на собеседование на позицию Junior Python Developer (но лучше после \"продвинутого\" курса).\n",
    "\n",
    "Код должен запускаться без ошибок, задачи нужно решать в общем виде, без \"хардкода\". \\\n",
    "Если написано \"напишите функцию\" - значит в коде должна быть функция и ее вызов.\n",
    "\n",
    "Удачи!\n"
   ]
  },
  {
   "cell_type": "markdown",
   "id": "uniform-subject",
   "metadata": {
    "paper_id": 2,
    "tags": [
     "Билет 2"
    ]
   },
   "source": [
    "## Билет 2"
   ]
  },
  {
   "cell_type": "markdown",
   "id": "express-identifier",
   "metadata": {
    "paper_id": 2,
    "tags": [
     "task_201",
     "Билет 2"
    ],
    "task_id": 201
   },
   "source": [
    "1. Даны три списка одинаковой длины. Необходимо создать из них словарь таким образом, чтобы элементы первого списка были ключами, а соответствующие им элементы второго и третьего списков — составляли значения в виде кортежей."
   ]
  },
  {
   "cell_type": "code",
   "execution_count": 1,
   "id": "polyphonic-bubble",
   "metadata": {
    "paper_id": 2,
    "tags": [
     "task_201",
     "Билет 2"
    ],
    "task_id": 201
   },
   "outputs": [],
   "source": [
    "list_1 = ['apples', 'oranges', 'bananas', 'kiwi', 'pineapples']\n",
    "list_2 = [2,12,85,0,6]\n",
    "list_3 = ['John', 'Edgar', 'Julius', 'Carsten', 'Rachel']\n",
    "\n",
    "# ваш код здесь\n"
   ]
  },
  {
   "cell_type": "markdown",
   "id": "devoted-touch",
   "metadata": {
    "paper_id": 2,
    "tags": [
     "task_202",
     "Билет 2"
    ],
    "task_id": 202
   },
   "source": [
    "2. Напишите функцию ```is_palindrom( str_ )```, которая осуществляет проверку на то, является ли строка палиндромом. Палиндром — это слово или фраза, которые одинаково читаются слева направо и справа налево."
   ]
  },
  {
   "cell_type": "code",
   "execution_count": 2,
   "id": "buried-quantity",
   "metadata": {
    "paper_id": 2,
    "tags": [
     "task_202",
     "Билет 2"
    ],
    "task_id": 202
   },
   "outputs": [],
   "source": [
    "# ваш код здесь\n",
    "\n"
   ]
  },
  {
   "cell_type": "markdown",
   "id": "identified-presentation",
   "metadata": {
    "paper_id": 2,
    "tags": [
     "task_203",
     "Билет 2"
    ],
    "task_id": 203
   },
   "source": [
    "3. Напишите программу, которая принимает на вход строку, состояющую из слов, разделенных пробелами и возвращает ее такую же строку, в которой все слова следуют в том же порядке, но буквы в них упорядочены по алфавиту (пример: \"мама мыла раму\" > \"аамм алмы амру\").."
   ]
  },
  {
   "cell_type": "code",
   "execution_count": 3,
   "id": "requested-entry",
   "metadata": {
    "paper_id": 2,
    "tags": [
     "task_203",
     "Билет 2"
    ],
    "task_id": 203
   },
   "outputs": [],
   "source": [
    "# ваш код здесь\n",
    "\n"
   ]
  }
 ],
 "metadata": {
  "kernelspec": {
   "display_name": "Python 3 (ipykernel)",
   "language": "python",
   "name": "python3"
  },
  "language_info": {
   "codemirror_mode": {
    "name": "ipython",
    "version": 3
   },
   "file_extension": ".py",
   "mimetype": "text/x-python",
   "name": "python",
   "nbconvert_exporter": "python",
   "pygments_lexer": "ipython3",
   "version": "3.12.3"
  }
 },
 "nbformat": 4,
 "nbformat_minor": 5
}
