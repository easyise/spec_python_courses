{
 "cells": [
  {
   "cell_type": "markdown",
   "metadata": {},
   "source": [
    "# Программирование на языке Python. Уровень 1. Основы языка Python\n",
    "\n"
   ]
  },
  {
   "cell_type": "markdown",
   "metadata": {},
   "source": [
    "## Модуль 7. Модули, классы, исключения, дата/время"
   ]
  },
  {
   "cell_type": "markdown",
   "metadata": {},
   "source": [
    "## Работа с модулями и пакетами в Python\n",
    "\n",
    "Модули подключаются командой import.\n",
    "\n",
    "```python \n",
    "# собственно импорт модуля \n",
    "import  <name_module>\n",
    "\n",
    "# вызов функции из этого модуля\n",
    "<name_module>.func_from_module()\n",
    "```\n",
    "\n",
    "Использование команды ```from``` позволяет импортировать только одну функцию, константу или класс:\n",
    "```python\n",
    "from <name_module> import func_from_module\n",
    "x = func_from_module()\n",
    "```\n",
    "\n",
    "Можно импортировать несколько переменных:\n",
    "```python\n",
    "from <name_module> import func1_from_module, func2_from_module\n",
    "func1_from_module()\n",
    "...\n",
    "func2_from_module()\n",
    "```\n",
    "\n",
    "Можно импортировать переменную с алиасом:\n",
    "```python\n",
    "from <name_module> import func1_from_module as fn1\n",
    "fn1()\n",
    "```\n",
    "\n",
    "Если очень нужно, можно выполнить импорт всех переменных:\n",
    "```python\n",
    "from <name_module> import * # !!! избегайте этого\n",
    "func_from_module()\n",
    "```\n",
    "\n",
    "\n",
    "Можно импортировать весь модуль с алиасом (для сокращения кода):\n",
    "```python\n",
    "import numpy as np\n",
    "x = np.array()\n",
    "```\n",
    "\n",
    "__Правила PEP8/Jupyter Notebook__: \n",
    "- импорт всех пакетов, которые используются в данной тетрадке должен быть в самой верхней клетке;\n",
    "- импорт всех пакетов, которые используются в вашем модуле должен быть вверху файла с кодом;\n",
    "- одна строка - один ```import```.\n"
   ]
  },
  {
   "cell_type": "code",
   "execution_count": null,
   "metadata": {},
   "outputs": [],
   "source": [
    "# вот почему так делать не надо:\n",
    "from math import *\n",
    "\n",
    "sin = sin(pi/2)\n",
    "\n",
    "print(sin(pi))"
   ]
  },
  {
   "cell_type": "code",
   "execution_count": null,
   "metadata": {},
   "outputs": [],
   "source": [
    "# а вот так делать можно и нужно\n",
    "import math\n",
    "\n",
    "sin = math.sin(math.pi/2)\n",
    "print(sin)"
   ]
  },
  {
   "cell_type": "code",
   "execution_count": null,
   "metadata": {},
   "outputs": [],
   "source": [
    "# генератор случайных чисел\n",
    "import random\n",
    "\n",
    "random.seed(20230704)\n",
    "\n",
    "print(random.random())\n",
    "print(random.randint(0, 100))"
   ]
  },
  {
   "cell_type": "markdown",
   "metadata": {},
   "source": [
    "Загрузка модулей из репозитория PyPI выполняется с помощью команд ```pip install ...```, ```pip3 install ...``` или ```conda install ...```. Эти команды можно запускать прямо из тетради:"
   ]
  },
  {
   "cell_type": "code",
   "execution_count": null,
   "metadata": {},
   "outputs": [],
   "source": [
    "!pip install numpy"
   ]
  },
  {
   "cell_type": "markdown",
   "metadata": {},
   "source": [
    "Посмотреть список всех модулей, установленных через ```pip```, можно при помощи следующей команды:"
   ]
  },
  {
   "cell_type": "code",
   "execution_count": null,
   "metadata": {},
   "outputs": [],
   "source": [
    "!pip list installed"
   ]
  },
  {
   "cell_type": "markdown",
   "metadata": {},
   "source": [
    "Посмотреть список всех установленных модулей можно с помощью функции ```help('modules')```"
   ]
  },
  {
   "cell_type": "code",
   "execution_count": null,
   "metadata": {},
   "outputs": [],
   "source": [
    "help(\"modules\")"
   ]
  },
  {
   "cell_type": "code",
   "execution_count": null,
   "metadata": {},
   "outputs": [],
   "source": [
    "# покажет директории, где Python ищет модули\n",
    "import sys\n",
    "print(sys.path)"
   ]
  },
  {
   "cell_type": "markdown",
   "metadata": {},
   "source": [
    "### Создание собственного модуля\n",
    "\n",
    "Чтобы создать модуль, нужно создать обычный файл с кодом на языке Python, поместив в этот файл нужные функции. \n",
    "\n",
    "#### ПРАКТИКА\n",
    "\n",
    "Создайте в текущем каталоге файл ```mod1.py``` со следующим содержимым:\n",
    "```python\n",
    "def func1( x ):\n",
    "    return \"Функция вызвана с параметром '{x}'\"\n",
    "```\n",
    "\n",
    "Выполните код:"
   ]
  },
  {
   "cell_type": "code",
   "execution_count": null,
   "metadata": {},
   "outputs": [],
   "source": [
    "import mod1\n",
    "\n",
    "print( mod1.func1(\"test\") )\n"
   ]
  },
  {
   "cell_type": "markdown",
   "metadata": {},
   "source": [
    "Для корректной подгрузки модуля по мере редактирования выполните в отдельной клетке следующие команды:\n",
    "```python\n",
    "%load_ext autoreload\n",
    "%autoreload 2\n",
    "```"
   ]
  },
  {
   "cell_type": "code",
   "execution_count": null,
   "metadata": {},
   "outputs": [],
   "source": [
    "# сначала все импорты библиотек, что не меняются\n",
    "# например\n",
    "import numpy as np\n",
    "import pandas as pd\n",
    "\n",
    "# потом \"магия\"\n",
    "%load_ext autoreload\n",
    "%autoreload 2\n",
    "\n",
    "# потом свой модуль\n",
    "import mod1"
   ]
  },
  {
   "cell_type": "code",
   "execution_count": null,
   "metadata": {},
   "outputs": [],
   "source": [
    "print( mod1.func1(\"test\") )\n"
   ]
  },
  {
   "cell_type": "markdown",
   "metadata": {},
   "source": [
    "<hr>\n",
    "\n",
    "## Объекты и классы, основы ООП\n",
    "\n",
    "В Python любая переменная - объект: списки, словари, строки и даже функции и числа. \n",
    "\n",
    "У объектов есть свойства и методы: свойства хранят информацию об объектах, методы - функции, встроенные в объект.\n"
   ]
  },
  {
   "cell_type": "code",
   "execution_count": null,
   "metadata": {},
   "outputs": [],
   "source": [
    "a = 4\n",
    "print(a.real) # свойство\n",
    "print(a.bit_length()) # метод, встроенная функция\n"
   ]
  },
  {
   "cell_type": "code",
   "execution_count": null,
   "metadata": {},
   "outputs": [],
   "source": [
    "import numpy as np\n",
    "\n",
    "arr = np.arange(10)\n",
    "print(arr)\n",
    "arr.shape # свойство\n",
    "arr.sum() # метод"
   ]
  },
  {
   "cell_type": "markdown",
   "metadata": {},
   "source": [
    "Объекты создаются на базе классов. Класс - это специальный тип данных, на базе которого строятся объекты."
   ]
  },
  {
   "cell_type": "code",
   "execution_count": null,
   "metadata": {},
   "outputs": [],
   "source": [
    "class Human:\n",
    "    eyes = 2\n",
    "    hands = 2\n",
    "    legs = 2\n",
    "    name = None\n",
    "    \n",
    "    def __init__(self, name):\n",
    "        self.name = name\n",
    "    \n",
    "    def get_name(self):\n",
    "        return self.name\n",
    "    \n",
    "man = Human(\"Ilya\")\n",
    "man.get_name()"
   ]
  },
  {
   "cell_type": "code",
   "execution_count": null,
   "metadata": {},
   "outputs": [],
   "source": [
    "class Student(Human):\n",
    "    active_courses = []\n",
    "    \n",
    "    def assign_course(self, course):\n",
    "        self.active_courses.append(course)\n",
    "        \n",
    "student = Student('Oleg')\n",
    "student.get_name()\n",
    "student.assign_course('Python Programming')\n",
    "\n",
    "print(student.eyes)\n",
    "print(student.legs)\n",
    "print(student.active_courses)"
   ]
  },
  {
   "cell_type": "markdown",
   "metadata": {},
   "source": [
    "### Какие преимущетва объектно-ориентированного подхода?\n",
    "\n",
    "1. Объектная модель вполне естественна, поскольку в первую очередь ориентирована на человеческое восприятие мира, а не на компьютерную реализацию\n",
    "2. Общие компоненты могут использоваться многократно без изменений\n",
    "3. В объекты и классы можно инкапсулировать данные и функционал"
   ]
  },
  {
   "cell_type": "markdown",
   "metadata": {},
   "source": [
    "<hr>\n",
    "\n",
    "## Обработка исключений\n",
    "\n",
    "Исключение - некое особое событие, которое возникает при выполнении программы, и если оно не \"поймано\" - программа прекращает свою работу.\n",
    "\n",
    "Любая ошибка, возникшая во время выполнения программы является исключением, появление котрого можно обработать программно.\n",
    "\n",
    "Исключения можно не только \"ловить\" но и \"выбрасывать\" самому командой ```raise```.\n",
    "\n",
    "Исключения - удобный способ обработки ошибок и нестандартных ситуаций.\n",
    "\n",
    "Как выглядит обработка исключений:\n",
    " - попытаться (try) выполнить некоторое количество команд в блоке ``` try```\n",
    " - если в какой-либо из них произойдет сбой, то есть будет \"выброшено\" исключение, выполнение кода пректатится\n",
    " - произойдет переход в блок ```except```, в зависимости от класса исключения\n",
    " - выполнение самой программы продолжится после выполнения блока ```finally```\n",
    "\n",
    "```python\n",
    "try:\n",
    "    блок, в котором\n",
    "    мы ожидаем\n",
    "    выброса исключения\n",
    "except IndexError :\n",
    "    этот блок выполняется,\n",
    "    если было выброшено\n",
    "    исключение типа IndexError\n",
    "except ZeroDivisionError :\n",
    "    этот блок выполняется,\n",
    "    если было выброшено\n",
    "    исключение типа ZeroDivisionError\n",
    "except Exception as e: # здесь можно получить данные об ошибке из объекта e\n",
    "    этот блок выполняется,\n",
    "    если было выброшено\n",
    "    исключение ЛЮБОГО ТИПА, не \"пойманное\" ранее\n",
    "else:\n",
    "    этот блок выполняется,\n",
    "    если никакого исключения\n",
    "    выброшено не было\n",
    "finally:\n",
    "    этот блок выполняется\n",
    "    независимо от того,\n",
    "    выброшено исключение\n",
    "    или нет\n",
    "\n",
    "```\n",
    "\n",
    "Распространенные типы исключений:\n",
    "\n",
    " - Exception - тип, общий для всех исключений\n",
    " - ZeroDivisionError - попытка деления на ноль\n",
    " - ValueError - попытка выполнить операцию, которую нельзя выполнить с этим значением, например, извлечь квадратный корень из отрицательного числа\n",
    " - IndexError - обращение к несуществующему элементу списка\n",
    " - KeyError - обращение к несуществующему элементу словаря\n",
    " - ImportError - ошибка импорта модуля\n",
    " - AttributeError - обращение к несуществующему атрибуту объекта\n",
    " - KeyboardInterrupt - пользователь нажал Ctrl-C на клавиатуре\n",
    " - UnicodeError - ошибка перекодирования текста\n",
    " - TypeError - недопустимый тип значения\n",
    " - IOError - ошибка ввода-вывода\n",
    " \n",
    " "
   ]
  },
  {
   "cell_type": "code",
   "execution_count": null,
   "metadata": {},
   "outputs": [],
   "source": [
    "def NOD( A, B ):\n",
    "    \"\"\"\n",
    "    Вычисление наибольшего общего делителя чисел A и B\n",
    "    \"\"\"\n",
    "    if A < B :\n",
    "        ( A, B ) = ( B, A )\n",
    "    ( A, B ) = ( B, A % B )\n",
    "    while B > 0 :\n",
    "        ( A, B ) = ( B, A % B )\n",
    "    return A\n",
    "\n",
    "A = int(input(\"Введите число A: \"))\n",
    "B = int(input(\"Введите число В: \"))\n",
    "print( NOD(A,B) )"
   ]
  },
  {
   "cell_type": "code",
   "execution_count": null,
   "metadata": {},
   "outputs": [],
   "source": [
    "# теперь с исключениями\n",
    "try :\n",
    "    A = int(input(\"Введите число A: \"))\n",
    "    B = int(input(\"Введите число В: \"))\n",
    "    print( NOD(A,B) )\n",
    "    \n",
    "except ValueError :\n",
    "    print(f\"Число введено некорректно\")\n",
    "except ZeroDivisionError :\n",
    "    print(\"Попытка деления на нуль\")\n",
    "else:\n",
    "    print(\"Программа выполнена успешно\")\n",
    "finally :\n",
    "    print(\"Расчет окончен\")"
   ]
  },
  {
   "cell_type": "markdown",
   "metadata": {},
   "source": [
    "### Утверждение (assertion)\n",
    "\n",
    "Инструкция ```assert``` утверждает некоторое выражение, которое в результате возвращает ```True``` или ```False```. Если выражение возвращает ```False```, Python выбрасывает исключение ```AssertionError```. Выражение ```assert``` удобно использовать для контроля качества входных данных в вашей программе, не прибегая к сложным ветвлениям."
   ]
  },
  {
   "cell_type": "code",
   "execution_count": null,
   "metadata": {},
   "outputs": [],
   "source": [
    "num = input(\"Введите число: \")\n",
    "\n",
    "def num_2(num_):\n",
    "    assert type(num_) == int, 'должно быть целое число'\n",
    "    return num_*2\n",
    "\n",
    "print(num_2(num))"
   ]
  },
  {
   "cell_type": "markdown",
   "metadata": {},
   "source": [
    "Исключение - это объект, созданный на базе класса ```Exception```. В блоке обработки исключений его можно передать в переменную (ее, как правило, именуют ```e```). Тогда информацию об ошибке можно найти в кортеже ```e.args```."
   ]
  },
  {
   "cell_type": "code",
   "execution_count": null,
   "metadata": {},
   "outputs": [],
   "source": [
    "num = input(\"Введите число: \")\n",
    "\n",
    "def num_2(num_):\n",
    "    assert type(num_) == int, 'должно быть целое число'\n",
    "    return num_*2\n",
    "\n",
    "try:\n",
    "    print(num_2(num))\n",
    "except AssertionError as e:\n",
    "    print(e.args)"
   ]
  },
  {
   "cell_type": "markdown",
   "metadata": {},
   "source": [
    "### Создание исключений\n",
    "\n",
    "Если условие, которое требует обработки исключительных ситуаций, выходит за рамки синтаксиса оператора ```assert```, мы можем сгенерировать исключение сами. Это делается при помощи оператора ```raise```, ему в качестве параметра передается объект класса ```Exception``` или производного от него."
   ]
  },
  {
   "cell_type": "code",
   "execution_count": null,
   "metadata": {},
   "outputs": [],
   "source": [
    "# пробуем сами выбросить исключение\n",
    "\n",
    "def check_is_5( num ) :\n",
    "    num_int = int(num)\n",
    "    if num_int != 5:\n",
    "        raise Exception(\"Это не 5. Дайте другое число.\")\n",
    "\n",
    "num = input(\"Введите число: \")\n",
    "\n",
    "try:\n",
    "    check_is_5( num )\n",
    "    print(\"5 - это хорошо.\")\n",
    "except ValueError :\n",
    "    print(f\"Число введено некорректно: \\\"{num}\\\"\")\n",
    "except Exception as e:\n",
    "    print(e.args[0])\n",
    "\n"
   ]
  },
  {
   "cell_type": "markdown",
   "metadata": {},
   "source": [
    "#### Практика\n",
    "\n",
    "1. Напишите функцию, которая вычисляет среднее геометрическое двух чисел (квадратный корень из их произведения). В случае невозможности вычисления такого среднего (когда произведение чисел отрицательно) выбросите исключение. Обработайте исключение и выведите ответ в дружелюбной форме."
   ]
  },
  {
   "cell_type": "code",
   "execution_count": null,
   "metadata": {},
   "outputs": [],
   "source": [
    "# ваш код здесь\n"
   ]
  },
  {
   "cell_type": "markdown",
   "metadata": {},
   "source": [
    "<hr>\n",
    "\n",
    "## Дата и время\n",
    "\n",
    "Модуль для работы с датами - ```datetime```.\n",
    "\n",
    "В нем следующие классы:\n",
    "- datetime.date\n",
    "- datetime.datetime\n",
    "- datetime.timedelta\n",
    "\n",
    "Для передачи данных в другие программы следует ориентироваться на ISO-стандарт хранения даты и времени в виде текстовой строки: ```YYYY-MM-DD HH:MM:SS.mmm```.\n",
    "\n",
    "Этот старндарт используется в SQL, JavaScript и других языках программирования, принимается множеством API.\n",
    "\n",
    "Для создания даты из такой строки используйте метод ```datetime.fromisoformat()```.\n",
    "Сохранить дату в ISO-формате: ```datetime.isoformat()```.\n",
    "\n",
    "Также используется формат хранения ```timestamp```, при котором данные хранятся как количество секунд, прошедших с начала UNIX-эпохи (01.01.1970 00:00 по Гринвичу).\n",
    "\n",
    "Текущее местное время: ```datetime.today()```. Время по UTC: ```datetime.utcnow()```"
   ]
  },
  {
   "cell_type": "code",
   "execution_count": null,
   "metadata": {},
   "outputs": [],
   "source": [
    "from datetime import datetime\n",
    "from datetime import date\n",
    "from datetime import timedelta\n",
    "\n",
    "now = datetime.now()\n",
    "print(now.timestamp())\n",
    "print(now.isoformat())\n",
    "\n",
    "unixEpoch = datetime.fromisoformat(\"1970-01-02 03:00\")\n",
    "print(unixEpoch.timestamp())\n",
    "\n",
    "# то же самое - с датами\n",
    "today = date.today()\n",
    "print(today.isoformat())\n",
    "\n",
    "# Можно создать дату, зная месяц, год и число:\n",
    "gagarin_date = date(1961, 4, 12)\n",
    "print(gagarin_date)"
   ]
  },
  {
   "cell_type": "markdown",
   "metadata": {},
   "source": [
    "Преобразование дат в строку: ```datetime.strftime()```\n",
    "\n",
    "Пример преобразования в строку в соответствии с ISO-форматом:\n",
    "```somedate.strftime('%Y-%m-%d %H:%M:%S')```\n"
   ]
  },
  {
   "cell_type": "code",
   "execution_count": null,
   "metadata": {},
   "outputs": [],
   "source": [
    "today = date.today()\n",
    "print(today.strftime(\"%d.%m.%Y\"))"
   ]
  },
  {
   "cell_type": "markdown",
   "metadata": {},
   "source": [
    "Обратная функция - ```datetime.strptime()```, она преобразует дату/время, представленную в соответствии с локальными настройками в объект ```datetime```"
   ]
  },
  {
   "cell_type": "code",
   "execution_count": null,
   "metadata": {},
   "outputs": [],
   "source": [
    "str_date = \"10.08.2024\"\n",
    "date_ = datetime.strptime(str_date, \"%d.%m.%Y\").date()\n",
    "print(date_)"
   ]
  },
  {
   "cell_type": "markdown",
   "metadata": {},
   "source": [
    "#### Разница во времени, временные интервалы\n",
    "\n",
    "Для задания временных интервало используется класс ```timedelta```. \"Дельты\" можно складывать с датами и датой/временем, друг с другом, делить, умножать и так далее."
   ]
  },
  {
   "cell_type": "code",
   "execution_count": null,
   "metadata": {},
   "outputs": [],
   "source": [
    "delta = timedelta(\n",
    "    days=50,\\\n",
    "    seconds=27,\\\n",
    "    microseconds=10,\\\n",
    "    milliseconds=29000,\\\n",
    "    minutes=5,\\\n",
    "    hours=8,\\\n",
    "    weeks=2\\\n",
    ")\n",
    "\n",
    "now_plus_delta = now + delta\n",
    "print(now_plus_delta.isoformat())"
   ]
  },
  {
   "cell_type": "code",
   "execution_count": null,
   "metadata": {},
   "outputs": [],
   "source": [
    "datetime.now() - datetime.fromtimestamp(0)"
   ]
  },
  {
   "cell_type": "markdown",
   "metadata": {},
   "source": [
    "#### ПРАКТИКА\n",
    "\n",
    "1. Выведите на экран 10 дат, которые соответствуют текущей + 10 дней, потом еще +10 дней и т.д. - 10 раз.\n",
    "\n",
    "2. Выведите на экран все значения времени, которые отстают от текущего на час, потом еще на 30 минут, далее еще на 15 минут и т.д. - до 1 минуты."
   ]
  },
  {
   "cell_type": "code",
   "execution_count": null,
   "metadata": {},
   "outputs": [],
   "source": [
    "# ваш код здесь\n",
    "\n",
    "\n"
   ]
  },
  {
   "cell_type": "markdown",
   "metadata": {},
   "source": [
    "3. Напишите программу, которая принимает пользовательский ввод значений числа, месяца и года, на базе этих значений формирует дату и выводит ее на экран. Для проверки корректности ввода используйте механизм обработки исключений."
   ]
  },
  {
   "cell_type": "code",
   "execution_count": null,
   "metadata": {},
   "outputs": [],
   "source": [
    "day = input(\"Число: \")\n",
    "month = input(\"Месяц: \")\n",
    "year = input(\"Год: \")\n",
    "\n",
    "# ваш код здесь\n",
    "\n"
   ]
  }
 ],
 "metadata": {
  "kernelspec": {
   "display_name": "Python 3 (ipykernel)",
   "language": "python",
   "name": "python3"
  },
  "language_info": {
   "codemirror_mode": {
    "name": "ipython",
    "version": 3
   },
   "file_extension": ".py",
   "mimetype": "text/x-python",
   "name": "python",
   "nbconvert_exporter": "python",
   "pygments_lexer": "ipython3",
   "version": "3.12.3"
  }
 },
 "nbformat": 4,
 "nbformat_minor": 4
}
