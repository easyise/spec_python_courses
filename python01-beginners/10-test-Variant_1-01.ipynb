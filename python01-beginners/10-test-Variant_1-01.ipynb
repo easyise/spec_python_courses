{
 "cells": [
  {
   "cell_type": "markdown",
   "id": "palestinian-advertising",
   "metadata": {},
   "source": [
    "\n",
    "# Программирование на языке Python. Уровень 1. Основы языка Python\n",
    "\n",
    "## Проверочная работа, Вариант 1\n",
    "\n",
    "Как проводится работа:\n",
    " - если за 50 минут вы решили любые две из трех задач - курс прошел не зря;\n",
    " - если за это время вы решите третью задачу - отлично, вы усвоили курс и набрали достаточно опыта;\n",
    " - решите оба варианта - можете идти на собесесдование на позицию Junior Python Developer (но лучше после \"продвинутого\" курса).\n",
    "\n",
    "Код должен запускаться без ошибок, задачи нужно решать в общем виде, без \"хардкода\".\n",
    "Если написано напишите функцию - значит в коде должна быть функция и ее вызов.\n",
    "\n",
    "Удачи!\n"
   ]
  },
  {
   "cell_type": "markdown",
   "id": "close-norman",
   "metadata": {
    "paper_id": 1,
    "tags": [
     "Билет 1"
    ]
   },
   "source": [
    "## Билет 1"
   ]
  },
  {
   "cell_type": "markdown",
   "id": "declared-guitar",
   "metadata": {
    "paper_id": 1,
    "tags": [
     "task_101",
     "Билет 1"
    ],
    "task_id": 101
   },
   "source": [
    "1. Пользователь вводит строку, в которой через запятую (или запятую-пробел) перечислены слова. Создать словарь, в котором ключами будут числа от ```1...```, а значениями - слова из строки без знаков препинаний."
   ]
  },
  {
   "cell_type": "code",
   "execution_count": 2,
   "id": "eight-feature",
   "metadata": {
    "paper_id": 1,
    "tags": [
     "task_101",
     "Билет 1"
    ],
    "task_id": 101
   },
   "outputs": [],
   "source": [
    "# ваш код здесь\n",
    "\n"
   ]
  },
  {
   "cell_type": "markdown",
   "id": "included-barrel",
   "metadata": {
    "paper_id": 1,
    "tags": [
     "task_102",
     "Билет 1"
    ],
    "task_id": 102
   },
   "source": [
    "2. Для введенной строки выведите сначала первые два символа, затем четвертый (в житейском понимании), затем символ через два от четвертого, потом через 3, 4 и т.д. пока не закончится строка, каждый раз увеличивая шаг на единицу."
   ]
  },
  {
   "cell_type": "code",
   "execution_count": 1,
   "id": "bottom-shuttle",
   "metadata": {
    "paper_id": 1,
    "tags": [
     "task_102",
     "Билет 1"
    ],
    "task_id": 102
   },
   "outputs": [],
   "source": [
    "# ваш код здесь\n",
    "\n"
   ]
  },
  {
   "cell_type": "markdown",
   "id": "exciting-belize",
   "metadata": {
    "paper_id": 1,
    "tags": [
     "task_103",
     "Билет 1"
    ],
    "task_id": 103
   },
   "source": [
    "3. Вы принимаете от пользователя строку с последовательностью чисел, разделённых запятыми. Напишите функцию, которая возвращает кортеж с первыми четырьмя числами из этой последовательности (приведенными к типу float)."
   ]
  },
  {
   "cell_type": "code",
   "execution_count": 3,
   "id": "exposed-vision",
   "metadata": {
    "paper_id": 1,
    "tags": [
     "task_103",
     "Билет 1"
    ],
    "task_id": 103
   },
   "outputs": [],
   "source": [
    "# ваш код здесь\n",
    "\n"
   ]
  }
 ],
 "metadata": {
  "kernelspec": {
   "display_name": "Python 3 (ipykernel)",
   "language": "python",
   "name": "python3"
  },
  "language_info": {
   "codemirror_mode": {
    "name": "ipython",
    "version": 3
   },
   "file_extension": ".py",
   "mimetype": "text/x-python",
   "name": "python",
   "nbconvert_exporter": "python",
   "pygments_lexer": "ipython3",
   "version": "3.12.3"
  }
 },
 "nbformat": 4,
 "nbformat_minor": 5
}
