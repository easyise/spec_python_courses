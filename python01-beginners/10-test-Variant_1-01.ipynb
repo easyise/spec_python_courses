{
 "cells": [
  {
   "cell_type": "markdown",
   "id": "palestinian-advertising",
   "metadata": {},
   "source": [
    "\n",
    "# Программирование на языке Python. Уровень 1. Основы языка Python\n",
    "\n",
    "## Проверочная работа, Вариант 1\n",
    "\n",
    "Как проводится работа:\n",
    " - если за 50 минут вы решили любые две из трех задач - курс прошел не зря;\n",
    " - если за это время вы решите третью задачу - отлично, вы усвоили курс и набрали достаточно опыта;\n",
    " - решите оба варианта - можете идти на собесесдование на позицию Junior Python Developer (но лучше после \"продвинутого\" курса).\n",
    "\n",
    "Код должен запускаться без ошибок, задачи нужно решать в общем виде, без \"хардкода\".\n",
    "Если написано напишите функцию - значит в коде должна быть функция и ее вызов.\n",
    "\n",
    "Удачи!\n"
   ]
  },
  {
   "cell_type": "markdown",
   "id": "close-norman",
   "metadata": {
    "paper_id": 1,
    "tags": [
     "Билет 1"
    ]
   },
   "source": [
    "## Билет 1"
   ]
  },
  {
   "cell_type": "markdown",
   "id": "declared-guitar",
   "metadata": {
    "paper_id": 1,
    "tags": [
     "task_101",
     "Билет 1"
    ],
    "task_id": 101
   },
   "source": [
    "1. Напишите функцию \"пила\": ```sawteeth(list_: list) -> list```, которая формирует список, склеенный из копий данного списка, упорядоченных сначала по возрастанию, потом по убыванию, потом опять по возрастанию и т.д. и так M раз."
   ]
  },
  {
   "cell_type": "code",
   "execution_count": 1,
   "id": "eight-feature",
   "metadata": {
    "paper_id": 1,
    "tags": [
     "task_101",
     "Билет 1"
    ],
    "task_id": 101
   },
   "outputs": [],
   "source": [
    "M = 3\n",
    "list_ = [9, 8, 7, 10, 7]\n",
    "# ваш код здесь\n"
   ]
  },
  {
   "cell_type": "markdown",
   "id": "included-barrel",
   "metadata": {
    "paper_id": 1,
    "tags": [
     "task_102",
     "Билет 1"
    ],
    "task_id": 102
   },
   "source": [
    "2. Для введенной строки сформируйте словарь, который содержит все цифры в качестве значений, а ключи - их индексы (можно использовать функцию ```isdigit()``` или регулярные выражения)."
   ]
  },
  {
   "cell_type": "code",
   "execution_count": 2,
   "id": "bottom-shuttle",
   "metadata": {
    "paper_id": 1,
    "tags": [
     "task_102",
     "Билет 1"
    ],
    "task_id": 102
   },
   "outputs": [],
   "source": [
    "# ваш код здесь\n"
   ]
  },
  {
   "cell_type": "markdown",
   "id": "exciting-belize",
   "metadata": {
    "paper_id": 1,
    "tags": [
     "task_103",
     "Билет 1"
    ],
    "task_id": 103
   },
   "source": [
    "3. Напишите функцию ```reverse_words()```, которая принимает на вход строку, состояющую из слов, разделенных пробелами и возвращает ее такую же строку, в которой все слова написаны наоборот."
   ]
  },
  {
   "cell_type": "code",
   "execution_count": 3,
   "id": "exposed-vision",
   "metadata": {
    "paper_id": 1,
    "tags": [
     "task_103",
     "Билет 1"
    ],
    "task_id": 103
   },
   "outputs": [],
   "source": [
    "# ваш код здесь\n",
    "\n",
    "\n"
   ]
  },
  {
   "cell_type": "code",
   "execution_count": null,
   "id": "ebef781e-c8b9-4410-ba91-d9f375b6c446",
   "metadata": {},
   "outputs": [],
   "source": []
  }
 ],
 "metadata": {
  "kernelspec": {
   "display_name": "Python 3 (ipykernel)",
   "language": "python",
   "name": "python3"
  },
  "language_info": {
   "codemirror_mode": {
    "name": "ipython",
    "version": 3
   },
   "file_extension": ".py",
   "mimetype": "text/x-python",
   "name": "python",
   "nbconvert_exporter": "python",
   "pygments_lexer": "ipython3",
   "version": "3.12.3"
  }
 },
 "nbformat": 4,
 "nbformat_minor": 5
}
