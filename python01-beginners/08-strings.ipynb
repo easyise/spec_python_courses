{
 "cells": [
  {
   "cell_type": "markdown",
   "metadata": {},
   "source": [
    "# Программирование на языке Python. Уровень 1.\u000b",
    "Основы языка Python\n",
    "\n",
    "# Модуль 8. Работа со текстовыми данными"
   ]
  },
  {
   "cell_type": "markdown",
   "metadata": {},
   "source": [
    "## Строки и обработка текстовых данных\n",
    "\n",
    "### Элементарные операции над строками\n",
    "\n",
    "Строка в Python - это неизменяемый (unmutable) объект. При этом, во время работы со строками можно использовать операции, которые определены для списков:\n",
    "- ```len()``` - эта функция Python вернет длину строки в символах\n",
    "- можно делать срезы  (напимер, ```str_x[2:-1]``` вернет подстроку, начиная со 2-го символа, но без последнего символа)\n",
    "- перебирать символы в строке в цикле ```for```\n",
    "- конкатенация строк (соединение) - оператором \"``` + ```\"\n",
    "\n",
    "  \n",
    "__НО__:\n",
    "- присваивать символы определенным позициям в строках нельзя\n",
    "- также для строк не определены ```append()```, ```remove()```, ```sort()``` и прочее."
   ]
  },
  {
   "cell_type": "code",
   "execution_count": null,
   "metadata": {},
   "outputs": [],
   "source": [
    "hello = \"Привет\"\n",
    "print(len(hello)) # 6\n",
    "print(hello[1:-1]) # риве\n",
    "for char in hello:\n",
    "    print(char)\n",
    "# П\n",
    "# р\n",
    "# и\n",
    "# в\n",
    "# е\n",
    "# т"
   ]
  },
  {
   "cell_type": "code",
   "execution_count": null,
   "metadata": {},
   "outputs": [],
   "source": [
    "hello.append(\"тттт\") # ошибка AttributeError: 'str' object has no attribute 'append'\n",
    "hello[2] = \"ю\" # ошибка TypeError: 'str' object does not support item assignment"
   ]
  },
  {
   "cell_type": "markdown",
   "metadata": {},
   "source": [
    "Но со строками в Python можно делать ряд других операций:\n",
    "- разбиение строк методом ```split( str )``` (здесь str - это разделитель)\n",
    "- соединение строк из списка методом ```join()```\n",
    "- можно обрезать строки слева и/или справа функцией ```strip( str )```\n",
    "- строки можно форматировать."
   ]
  },
  {
   "cell_type": "markdown",
   "metadata": {},
   "source": [
    "Конкатенация строк"
   ]
  },
  {
   "cell_type": "code",
   "execution_count": null,
   "metadata": {},
   "outputs": [],
   "source": [
    "hello = \"Hello\"\n",
    "world = \"World\"\n",
    "hello_world = hello + ', ' + world+'!'\n",
    "print(hello_world) # Hello, World!\n",
    "\n",
    "hello += \"ooo\" # операция инкремента добавляет в строку заданную строку с правой стороны\n",
    "print(hello)\n"
   ]
  },
  {
   "cell_type": "markdown",
   "metadata": {},
   "source": [
    "Разделение строки по символу-разделителю и сборка строк из списка"
   ]
  },
  {
   "cell_type": "code",
   "execution_count": null,
   "metadata": {},
   "outputs": [],
   "source": [
    "list_hw = hello_world.split(', ')\n",
    "print(list_hw) # ['Hello', 'World!']\n",
    "\n",
    "print( \", \".join(list_hw) ) # Hello, World!"
   ]
  },
  {
   "cell_type": "code",
   "execution_count": null,
   "metadata": {},
   "outputs": [],
   "source": [
    "# убрать пробелы и ненужные символы\n",
    "print(\"Hello world    !\".strip(' !'))\n",
    "\n",
    "# изменить регистр\n",
    "print(hello_world.upper()) # HELLO, WORLD!\n",
    "print(hello_world.lower()) # hello, world!\n",
    "print(hello_world.capitalize()) # Hello, world!\n"
   ]
  },
  {
   "cell_type": "markdown",
   "metadata": {},
   "source": [
    "### Форматирование строк\n",
    "\n",
    "Существует несколько методов форматирования:\n",
    "- с помощью f-строк (например, ```f\"{var1} {var2}\"```)\n",
    "- с использованием метода ```format()```\n",
    "- как в Python 2.X, с использованием оператора \"%\""
   ]
  },
  {
   "cell_type": "code",
   "execution_count": null,
   "metadata": {},
   "outputs": [],
   "source": [
    "# f-строки:\n",
    "hello = \"Hello\"\n",
    "world = \"World\"\n",
    "print(f\"{hello}, {world}!\") # Hello, World!\n",
    "\n",
    "import math\n",
    "\n",
    "# можно \"на лету\" форматировать вывод чисел, например число знаков после запятой\n",
    "print(f'The value of pi is approximately {math.pi:.4f}.') # 4 знака после запятой\n"
   ]
  },
  {
   "cell_type": "code",
   "execution_count": null,
   "metadata": {},
   "outputs": [],
   "source": [
    "# можно устанавливать ширину строки, что удобно при табличном выводе:\n",
    "table = {'Sjoerd': 4127, 'Jack': 4098, 'Dcab': 7678}\n",
    "for name, phone in table.items():\n",
    "    print(f'{name:10} ==> {phone:10d}')"
   ]
  },
  {
   "cell_type": "code",
   "execution_count": null,
   "metadata": {},
   "outputs": [],
   "source": [
    "# функция format работает аналогично f-строке\n",
    "hello = \"Hello\"\n",
    "world = \"World\"\n",
    "print(\"{}, {}!\".format(hello, world)) # Hello, World!\n",
    "print(\"{1}, {0}!\".format(hello, world)) # World, Hello!\n",
    "\n",
    "# можно удобно выводить содержимое словаря\n",
    "table = {'Sjoerd': 4127, 'Jack': 4098, 'Dcab': 7678}\n",
    "print('Jack: {Jack:d}; Sjoerd: {Sjoerd:d}; Dcab: {Dcab:d}'.format(**table)) # Jack: 4098; Sjoerd: 4127; Dcab: 7678\n",
    "\n",
    "# форматирование в стиле Python 2.X:\n",
    "print('Jack: %(Jack)d; Sjoerd: %(Sjoerd)d; Dcab: %(Dcab)d' % table)"
   ]
  },
  {
   "cell_type": "code",
   "execution_count": null,
   "metadata": {},
   "outputs": [],
   "source": [
    "# также в Python есть функции выравнивания по левому краю, правому краю и центру\n",
    "print(hello.rjust(10))\n",
    "print(hello.ljust(10))\n",
    "print(hello.center(10))"
   ]
  },
  {
   "cell_type": "markdown",
   "metadata": {},
   "source": [
    "#### __ПРАКТИКА__\n",
    "\n",
    "1. Дан текст, содержащий несколько строк, где через символ-разделитель ```|``` перечислены различные показатели. Требуется вывести их в табличной форме, упорядоченными по убыванию, в формате ```<Название показателя>: <число>```."
   ]
  },
  {
   "cell_type": "code",
   "execution_count": null,
   "metadata": {},
   "outputs": [],
   "source": [
    "data = \"\"\"\n",
    "приборы|8%\n",
    "тангаж|11.5%\n",
    "развитие|0.05%\n",
    "температура|11.1%\n",
    "макроэкономика|9\n",
    "инфлюэнца|100%\n",
    "декупаж|9.99%\n",
    "\"\"\"\n",
    "\n",
    "# ваш код здесь"
   ]
  },
  {
   "cell_type": "markdown",
   "metadata": {},
   "source": [
    "## Обработка текстовой информации: поиск и замена\n",
    "\n",
    "### Простой поиск и замена\n",
    "\n",
    "У объектов класса str есть встроенные средства поиска подстроки:\n",
    "- простая проверка наличия подстроки в строке: ```if x in y:```\n",
    "- метод ```find( str )```, который возвращает позицию найденной подстроки или либо -1\n",
    "- методы ```startswith( str )``` и ```endswith( str )``` проверяют, начинается или заканчивается данная строка строкой ```str```\n",
    "- метод ```count( str )```, который возвращает количество вхождений подстроки в строку\n",
    "- для замены одной подстроки на другую используйте метод ```replace( from, to )```\n",
    "\n",
    "__ВНИМАНИЕ!__ Все эти методы чувствительны к регистру."
   ]
  },
  {
   "cell_type": "code",
   "execution_count": null,
   "metadata": {},
   "outputs": [],
   "source": [
    "hello_world  = \"Hello, World!\"\n",
    "\n",
    "print( 'World' in hello_world ) # True\n",
    "print( 'world' in hello_world ) # False - т.к. чувствительность к регистру\n",
    "\n",
    "print(hello_world.find(', ')) # 5\n",
    "\n",
    "print(hello_world.startswith('Hell')) # True\n",
    "print(hello_world.endswith('World')) # False, т.к. восклицательный знак\n",
    "\n",
    "# замена\n",
    "numbers = \"2 12 85 06 42 4 718 29 3 70 420\"\n",
    "print(numbers.replace('42', '!!!')) # 2 12 85 06 !!! 4 718 29 3 70 !!!0\n",
    "\n",
    "print(numbers.count(\"42\")) # 2 - так как поиск идет по подстроке\n",
    "\n",
    "\n",
    "# задание: сделайте так, чтобы код возвращал количество вхождений именно числа 42 в данную строку\n",
    "\n"
   ]
  },
  {
   "cell_type": "markdown",
   "metadata": {},
   "source": [
    "### Регулярные выражения\n",
    "\n",
    "Язык регулярных выражений позволяет находить подстроки по \"паттернам\", а также разбивать строки, заменять текст, и так далее.\n",
    "\n",
    "Пример: e-mail адреса ```ieliseev@yandex.ru``` ```john.doe@gmail.com``` ```eddie@somehost.com```.\n",
    "Между ними определенно есть что-то общее.\n",
    "\n",
    "Нужен был некоторый простой язык, который позволял бы задавать паттерны (шаблоны), по которым будет вестись поиск подстрок, которые им соответствуют. Самый простой пример (не имеющий отношения к регулярным выражениям) - поиск по имени файлов в операционной системе:\n",
    "```\n",
    "> dir *.txt\n",
    "file1.txt\n",
    "file2.txt\n",
    "filen.txt\n",
    "```\n",
    "    \n",
    "В результате был придуман язык регулярных выражений, который примерно одинаков на всех платформах (C/C++, JavaScript, SQL, и конечно, Python). В Python есть некоторые особенности реализации регуляных выражений, мы их рассмотрим.\n",
    "\n",
    "Продолжим с примером про e-mail адреса, вот простое регулярное выражение для их поиска:\n",
    "```\n",
    "str_reg_email = r\"[a-z0-9\\._\\-]+@[a-z0-9\\.\\-]+\\.[a-z]{2,6}\"\n",
    "```\n",
    "\n",
    "Спецсимволы, которые используются в регулярных выражениях:\n",
    " - ```[``` и ```]``` - внутри таких скобок заключается множество значений, которые может принимать __один символ__. Можно перечислять единичные значения ```[abcde]```, можно множества ```[a-e]```, а можно классы символов:\n",
    "     - наиболее часто использются:\n",
    "        - ```\\s``` - соответствуют всем пробелам, символам переноса строки и знакам табуляции,\n",
    "        - ```\\S``` - всем символам, которые таковыми не являются,\n",
    "        - ```\\d``` - цифрам от 0 до 9,\n",
    "        - ```\\D``` - всем не-цифрам,\n",
    "        - ```\\w``` - всем печатным символам, за исключением знаков препинания, символов подчеркивания, дефиса и пр.\n",
    "        - ```\\W``` - соответственно, наоборот.\n",
    "        \n",
    " спецсимвол ```^```, включенный в такие скобки, будет отрицать принадлежность паттерна к множеству символов, следующих за ним.\n",
    " \n",
    " \n",
    "     \n",
    " - ```.``` - соответствует любому символу\n",
    " - ```(``` и ```)``` - в круглых скобках можно размещать __группу последовательно идущих символов__. В них же можно размещать несколько групп, разделенных спецсимволом ```|```. Пример: ```(com|org|ru)``` - будет соответствовать и \"org\", и \"com\", и \"ru\". Также найденное соответствие паттерну, заключенному в скобках, можно извлекать из текста.\n",
    " - ```+```, ```*``` и конструкции в ```{n,m}``` - квантификаторы, задающие количество повторов заданного символа или группы символов. Перечисленные квантификаторы задают:  \n",
    "     - ```*``` - любое количество повторов, \n",
    "     - ```+``` - как минимум один повтор, \n",
    "     - ```{n,m}``` - количество повторов от n до m включительно\\\n",
    "     Пример: ```[0-9]{2,4}``` будет соответствовать подстрокам, содержащим от 2-х до 4-х цифр\\\n",
    " - если после квантификатора поставить знак вопроса ```?``` - это будет так называемый \"ограничитель жадности\", который потребует искать как можно меньшее количество соответствий для данного квантификатора\n",
    " - ```^``` и ```\\$``` - начало и конец строки. Пример регулярного выражения, проверяющего, что строка содержит только латинские буквы - ```^[a-z]+$```\n",
    " - ```\\``` - обратный слэш служит для обозначения спецсимволов (например, ```\\t```, ```\\n```), символов, записанных в шестнадцатиричных кодах, а самое главное - для экранирования управляющих символов регулярных выражений.\n",
    " \n",
    "В Python для работы с регулярными выражениями используется модуль ```re```. Алгоритм работы сводится к следующим действиям:\\\n",
    "    - задать регулярное выражение\\\n",
    "    - скомпилировать его\\\n",
    "    - использовать его для работы с текстом.\n"
   ]
  },
  {
   "cell_type": "code",
   "execution_count": null,
   "metadata": {},
   "outputs": [],
   "source": [
    "import re\n",
    "\n",
    "# создаем строку с регулярным выражением\n",
    "str_reg_email = r\"[a-z0-9\\._\\-]+@[a-z0-9\\.\\-]+\\.[a-z]{2,6}\"\n",
    "\n",
    "# компилируем регулярное выражение\n",
    "reg_email = re.compile(str_reg_email)\n",
    "\n",
    "# проверим список на соответствие\n",
    "mails = ['ieliseev@yandex.ru', 'john.doe@gmail.com', 'notmail$haha.org', 'eddie@somehost.com']\n",
    "for mail in mails:\n",
    "    if reg_email.search(mail):\n",
    "        print(f\"{mail} is e-mail address\")\n",
    "    else:\n",
    "        print(f\"{mail} is NOT e-mail address\")\n",
    "\n"
   ]
  },
  {
   "cell_type": "code",
   "execution_count": null,
   "metadata": {},
   "outputs": [],
   "source": [
    "# примеры простых регулярных выражений\n",
    "print( re.search(\"o\", \"dog\") ) # <re.Match object; span=(1, 2), match='o'>\n",
    "\n",
    "print( re.search(r\"^[A-Z0-9]*$\", \"Python\") ) # None, search чувствителен к регистру\n",
    "\n",
    "print( re.search(r\"^[A-Z0-9]*$\", \"Python\", re.IGNORECASE) ) # <re.Match object; span=(0, 6), match='Python'>\n",
    "\n",
    "print( re.search(r\"^[\\w\\s]*$\", \"Python123\") ) # \\w - соответствует всем печатным символам\n",
    "\n",
    "print( re.search(r\"^[\\w]*$\", \"Python-123\") ) # не сработает, так как содержит дефис\n",
    "\n",
    "print( re.search(r\"^[\\S]*$\", \"Python-123\") ) # \\S - все \"не пробелы\"\n"
   ]
  },
  {
   "cell_type": "code",
   "execution_count": null,
   "metadata": {},
   "outputs": [],
   "source": [
    "# десятичное число\n",
    "pattern = re.compile(r\"^[0-9]+$\") # регулярное выражение для чисел\n",
    "print(pattern.search(\"10\")) # <re.Match object; span=(0, 2), match='10'>\n",
    "print(pattern.search(\"-10\")) # None, мы не учли знак\n",
    "\n",
    "pattern = re.compile(r\"^[\\+\\-]{0,1}[0-9]+$\")\n",
    "print(pattern.search(\"-10\")) # <re.Match object; span=(0, 3), match='-10'>\n",
    "\n",
    "# натуральное десятичное число, добавим дробную часть(\\.[0-9]+)?\n",
    "pattern = re.compile(r\"^[\\+\\-]{0,1}[0-9]+(\\.[0-9]+)?$\")\n",
    "print(pattern.search(\"10.05\")) # <re.Match object; span=(0, 5), match='10.05'>\n",
    "\n"
   ]
  },
  {
   "cell_type": "markdown",
   "metadata": {},
   "source": [
    "#### __ПРАКТИКА__\n",
    "\n",
    "Пользователь вводит дату в формате ДД.ММ.ГГГГ. Проверьте ее на корректность с помощью регулярного выражения."
   ]
  },
  {
   "cell_type": "code",
   "execution_count": null,
   "metadata": {},
   "outputs": [],
   "source": [
    "str_date = input(\"Введите дату в формате ДД.ММ.ГГГГ: \")\n",
    "\n",
    "# ваш код здесь\n",
    "\n"
   ]
  },
  {
   "cell_type": "markdown",
   "metadata": {},
   "source": [
    "### Извлечение данных из текста с помощью регулярных выражений\n",
    "\n",
    "Извлекаем данные из полученного объекта ```match()```. Наиболее часто используют методы ```match.group()```, ```match.groups()``` и ```match.groupdict()```."
   ]
  },
  {
   "cell_type": "code",
   "execution_count": null,
   "metadata": {},
   "outputs": [],
   "source": [
    "# снова натуральное десятичное число, посмотрим что у нас в group()\n",
    "pattern = re.compile(r\"^[\\+\\-]{0,1}[0-9]+(\\.[0-9]+)?$\")\n",
    "match = pattern.search(\"100.500\")\n",
    "print(match.group(0)) # здесь всегда полное соответствие паттерну\n",
    "print(match.group(1)) # здесь соответствие первым \"скобкам\"\n",
    "#print(match.group(2)) # здесь соответствие вторым \"скобкам\", но у нас их нет - так что None\n",
    "\n",
    "# Можно извлечь избранные группы в виде кортежа\n",
    "(num, fraction) = match.group(0,1)\n",
    "print(f\"Number: {num}, fraction: {fraction}\")\n",
    "\n",
    "# Методом groups() можно извлечь группы, начиная с 1-й, в виде кортежа\n",
    "fraction_, = match.groups()\n",
    "print(f\"Fraction is : {fraction_}\")\n",
    "\n",
    "# \"Скобкам\" можно дать имя\n",
    "pattern = re.compile(r\"^(?P<sign>[\\+\\-]{0,1})(?P<int>[0-9]+)(?P<fraction>\\.[0-9]+)?$\")\n",
    "match = pattern.search(\"+100.500\")\n",
    "print(match.group(0)) # полное соответствие паттерну\n",
    "print(match.group('sign')) # здесь соответствие \"скобкам\" sign, +\n",
    "print(match.group('int')) # здесь соответствие \"скобкам\" int, 100\n",
    "print(match.group('fraction')) # здесь соответствие \"скобкам\" int, .500\n",
    "\n",
    "# с помощью метода groupdict() можно извлечь группы в виде словаря\n",
    "dict_match = match.groupdict()\n",
    "print(dict_match)\n"
   ]
  },
  {
   "cell_type": "markdown",
   "metadata": {},
   "source": [
    "#### __ПРАКТИКА__\n",
    "\n",
    "Для предыдущей задачи реализуйте создание объекта datetime.date, который содержал бы введенную пользователем дату.\n",
    "При попытке ввода некорректной даты нужно выводить дружественное сообщение об ошибке."
   ]
  },
  {
   "cell_type": "code",
   "execution_count": null,
   "metadata": {},
   "outputs": [],
   "source": [
    "str_date = input(\"Введите дату в формате ДД.ММ.ГГГГ: \")\n",
    "\n",
    "# ваш код здесь\n",
    "\n"
   ]
  },
  {
   "cell_type": "markdown",
   "metadata": {},
   "source": [
    "### Поиск текста по паттернам\n",
    "\n",
    "Для поиска всех соответствий паттерну в тексте используют функцию ```findall()```. Она возвращает список кортежей найденных соответствий.\n",
    "\n",
    "Чтобы работать с соответствиями как со словарями, используйте ```finditer()```, эта функция возвращает итерируемый объект, который на каждую итерацию возвращает объект ```match```."
   ]
  },
  {
   "cell_type": "code",
   "execution_count": null,
   "metadata": {},
   "outputs": [],
   "source": [
    "# найдем все интернет-адреса с помощью регулярного выражения:\n",
    "re_url = re.compile(r'(?P<url>https?\\:\\/\\/(www\\.)?(?P<domain>[\\w\\-]+\\.(com|ru)))')\n",
    "\n",
    "text = \"\"\"\n",
    "Первой поисковой системой в Рунете была http://www.ru, затем появились Рамблер https://rambler.ru и \n",
    "Яндекс https://yandex.ru.\n",
    "\"\"\"\n",
    "\n",
    "# findall()\n",
    "urls = re_url.findall(text)\n",
    "print(urls)\n",
    "\n",
    "# finditer()\n",
    "for match_url in re_url.finditer(text):\n",
    "    dict_groups = match_url.groupdict()\n",
    "    print(dict_groups)"
   ]
  },
  {
   "cell_type": "markdown",
   "metadata": {},
   "source": [
    "#### __ПРАКТИКА__\n",
    "\n",
    "Верните список всех хештегов, упомянутых в тексте."
   ]
  },
  {
   "cell_type": "code",
   "execution_count": null,
   "metadata": {},
   "outputs": [],
   "source": [
    "text = \"\"\"\n",
    "Этот #пост создан для того, чтобы его #лайк'али. \n",
    "Посмотрите, какая красивая фотография #котик'а. \n",
    "Какой он #Мягкий_и_Пушистый!\n",
    "Пройдите #опрос, он у нас посвящен #кот'ам.\n",
    "Всем #чао! ###\n",
    "\"\"\"\n",
    "\n",
    "re_tag = re.compile(r\"\\#[\\w]+\")\n",
    "# ваш код здесь\n",
    "\n"
   ]
  },
  {
   "cell_type": "markdown",
   "metadata": {},
   "source": [
    "### Замена с помощью регулярных выражений\n",
    "\n",
    "Для замены используется функция ```re.sub( pattern, repl, string )```. В строке ```string``` все соответсвия ```pattern``` заменяются на ```repl```. Если ```repl``` - функция, ей передается match-объект, из которого можно извлечь группы, и тогда совпадения по паттерну будут заменены тем, что возвращает функция.\n"
   ]
  },
  {
   "cell_type": "code",
   "execution_count": null,
   "metadata": {},
   "outputs": [],
   "source": [
    "rex_ooo = re.compile(r\"(o{3}|w{3})\", re.IGNORECASE)\n",
    "string = \"mooo mooooo mOOOO awww Awwww awww\"\n",
    "str__ = re.sub(rex_ooo, 'xxx', string)\n",
    "print(str__)   # mxxx mxxxoo mxxxO\n",
    "\n",
    "str__1 = re.sub(rex_ooo, lambda match: match.group(1)[0], string)\n",
    "print(str__1)"
   ]
  },
  {
   "cell_type": "markdown",
   "metadata": {},
   "source": [
    "#### __ПРАКТИКА__\n",
    "\n",
    "Замените все e-mail адрес в строке строкой \"<e-mail адрес скрыт>\". А потом замените строкой, которая состоит из части адреса до \"собаки\", и вышеозначенной фразы. "
   ]
  },
  {
   "cell_type": "code",
   "execution_count": null,
   "metadata": {},
   "outputs": [],
   "source": [
    "str_ = \"Пишет пользователь ieliseev@specialist.ru в ответ на письмо пользователя john.doe@camel.com\"\n",
    "\n",
    "# ваш код здесь"
   ]
  },
  {
   "cell_type": "code",
   "execution_count": null,
   "metadata": {},
   "outputs": [],
   "source": []
  }
 ],
 "metadata": {
  "kernelspec": {
   "display_name": "Python 3 (ipykernel)",
   "language": "python",
   "name": "python3"
  },
  "language_info": {
   "codemirror_mode": {
    "name": "ipython",
    "version": 3
   },
   "file_extension": ".py",
   "mimetype": "text/x-python",
   "name": "python",
   "nbconvert_exporter": "python",
   "pygments_lexer": "ipython3",
   "version": "3.12.3"
  }
 },
 "nbformat": 4,
 "nbformat_minor": 4
}
