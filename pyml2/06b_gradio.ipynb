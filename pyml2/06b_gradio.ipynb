{
 "cells": [
  {
   "cell_type": "code",
   "execution_count": null,
   "metadata": {
    "colab": {
     "base_uri": "https://localhost:8080/"
    },
    "id": "QWzPJS7PCUoG",
    "outputId": "f9a8ede9-78aa-445f-8f6d-fae8fe1052e1"
   },
   "outputs": [],
   "source": [
    "!pip install gradio"
   ]
  },
  {
   "cell_type": "code",
   "execution_count": null,
   "metadata": {
    "colab": {
     "base_uri": "https://localhost:8080/",
     "height": 638
    },
    "id": "wTCL7yoaCP8R",
    "outputId": "304f53b4-56f2-422f-e376-96d72004a64b"
   },
   "outputs": [],
   "source": [
    "import gradio as gr\n",
    "\n",
    "def greet(name):\n",
    "    return \"Hello \" + name + \"!\"\n",
    "\n",
    "demo = gr.Interface(fn=greet, inputs=\"text\", outputs=\"text\")\n",
    "demo.launch()"
   ]
  },
  {
   "cell_type": "code",
   "execution_count": null,
   "metadata": {
    "colab": {
     "base_uri": "https://localhost:8080/",
     "height": 638
    },
    "id": "AmjlNTc2Dcu5",
    "outputId": "c972656a-7a3b-4c35-a71e-e1f597edb289"
   },
   "outputs": [],
   "source": [
    "import numpy as np\n",
    "import gradio as gr\n",
    "\n",
    "def sepia(input_img):\n",
    "    sepia_filter = np.array([\n",
    "        [0.393, 0.769, 0.189],\n",
    "        [0.349, 0.686, 0.168],\n",
    "        [0.272, 0.534, 0.131]\n",
    "    ])\n",
    "    sepia_img = input_img.dot(sepia_filter.T)\n",
    "    sepia_img /= sepia_img.max()\n",
    "    return sepia_img\n",
    "\n",
    "demo = gr.Interface(sepia, gr.Image(), \"image\")\n",
    "demo.launch()"
   ]
  },
  {
   "cell_type": "code",
   "execution_count": null,
   "metadata": {
    "colab": {
     "base_uri": "https://localhost:8080/",
     "height": 638
    },
    "id": "w407UVqaEBS7",
    "outputId": "bfcc7f27-99cb-4e56-e51b-761e3f235320"
   },
   "outputs": [],
   "source": [
    "import numpy as np\n",
    "import gradio as gr\n",
    "\n",
    "import torch\n",
    "from torchvision import datasets,transforms\n",
    "from torch.nn.functional import normalize\n",
    "\n",
    "import torch.nn.functional as F\n",
    "\n",
    "from PIL import Image\n",
    "\n",
    "import torchvision.models as models\n",
    "\n",
    "import requests\n",
    "imagenet_classes = requests.get('https://files.fast.ai/models/imagenet_class_index.json').json()\n",
    "\n",
    "device = \"cuda\" if torch.cuda.is_available() else \\\n",
    "    \"mps\" if torch.backends.mps.is_built() else \"cpu\"\n",
    "\n",
    "IMAGE_SIZE = (224,224)\n",
    "\n",
    "data_transforms = transforms.Compose([\n",
    "    transforms.Resize(size=IMAGE_SIZE), # делаем все картинки квадратными\n",
    "    transforms.ToTensor(), # преобразуем в тензор\n",
    "])\n",
    "\n",
    "model_full = models.resnet50(weights='DEFAULT').to(device)\n",
    "\n",
    "def classify(input_img):\n",
    "\n",
    "\n",
    "    img = data_transforms(Image.fromarray(input_img)).unsqueeze(0).to(device)\n",
    "\n",
    "    model_full.eval()\n",
    "    results = model_full(img)\n",
    "\n",
    "    top = torch.sort(F.softmax(results, dim=1)[0] * 100, descending=True)\n",
    "    predictions = [f\"{imagenet_classes[str(ix.cpu().item())][1]} - {pct:.2f}%\" \\\n",
    "               for pct, ix in zip(*top) ][:5]\n",
    "    classes = ', '.join(predictions)\n",
    "\n",
    "    return classes\n",
    "\n",
    "file_name = '1696609397_gas-kvas-com-p-kartinki-kota-malenkaya-7.jpg'\n",
    "img = Image.open(file_name)\n",
    "\n",
    "# classify(img)\n",
    "\n",
    "demo = gr.Interface(classify, gr.Image(), outputs=\"text\")\n",
    "demo.launch(debug=True)"
   ]
  },
  {
   "cell_type": "code",
   "execution_count": null,
   "metadata": {
    "id": "Eh5uhRkWHtsW"
   },
   "outputs": [],
   "source": []
  }
 ],
 "metadata": {
  "accelerator": "GPU",
  "colab": {
   "gpuType": "T4",
   "provenance": []
  },
  "kernelspec": {
   "display_name": "Python 3 (ipykernel)",
   "language": "python",
   "name": "python3"
  },
  "language_info": {
   "codemirror_mode": {
    "name": "ipython",
    "version": 3
   },
   "file_extension": ".py",
   "mimetype": "text/x-python",
   "name": "python",
   "nbconvert_exporter": "python",
   "pygments_lexer": "ipython3",
   "version": "3.11.8"
  }
 },
 "nbformat": 4,
 "nbformat_minor": 1
}
