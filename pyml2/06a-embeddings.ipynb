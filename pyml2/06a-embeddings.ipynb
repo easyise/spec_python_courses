{
 "cells": [
  {
   "cell_type": "markdown",
   "id": "4ad6daa8",
   "metadata": {},
   "source": [
    "# Python и машинное обучение: нейронные сети и компьютерное зрение\n",
    "\n",
    "## Модуль 6. Поиск похожих изображений, эмбеддинги"
   ]
  },
  {
   "cell_type": "markdown",
   "id": "8eac72c8",
   "metadata": {},
   "source": [
    "Загрузим датасет CalTech101."
   ]
  },
  {
   "cell_type": "code",
   "execution_count": null,
   "id": "48a26943",
   "metadata": {},
   "outputs": [],
   "source": [
    "!pip install gdown"
   ]
  },
  {
   "cell_type": "code",
   "execution_count": null,
   "id": "7e15f9bf",
   "metadata": {},
   "outputs": [],
   "source": [
    "!mkdir ./datasets\n",
    "!gdown https://drive.google.com/uc?id=137RyRjvTBkBiIfeYBNZBtViDHQ6_Ewsp --output ./datasets/caltech101.tar.gz\n",
    "!tar -xzf ./datasets/caltech101.tar.gz --directory ./datasets\n",
    "!mv ./datasets/101_ObjectCategories ./datasets/caltech101\n",
    "!rm -rf ./datasets/caltech101/BACKGROUND_Google\n",
    "!echo 'All done!'"
   ]
  },
  {
   "cell_type": "code",
   "execution_count": null,
   "id": "241fde7a",
   "metadata": {},
   "outputs": [],
   "source": [
    "import os, shutil\n",
    "\n",
    "import torch\n",
    "import torch.nn as nn\n",
    "from torch.utils.data import DataLoader, Dataset\n",
    "from torchvision import datasets,transforms\n",
    "from torch.nn.functional import normalize\n",
    "\n",
    "from torchinfo import summary\n",
    "from torchmetrics import Accuracy, AUROC\n",
    "\n",
    "from torch.utils.data.sampler import SubsetRandomSampler\n",
    "import torch.nn.functional as F\n",
    "\n",
    "from PIL import Image\n",
    "\n",
    "import torchvision.models as models\n",
    "\n",
    "import requests\n",
    "imagenet_classes = requests.get('https://files.fast.ai/models/imagenet_class_index.json').json()\n",
    "\n",
    "from numpy.linalg import norm\n",
    "\n",
    "import numpy as np\n",
    "import pandas as pd\n",
    "import matplotlib.pyplot as plt\n",
    "%matplotlib inline\n",
    "\n",
    "device = \"cuda\" if torch.cuda.is_available() else \\\n",
    "    \"mps\" if torch.backends.mps.is_built() else \"cpu\"\n",
    "device"
   ]
  },
  {
   "cell_type": "code",
   "execution_count": null,
   "id": "629b0086",
   "metadata": {},
   "outputs": [],
   "source": [
    "!pip install torchinfo torchmetrics"
   ]
  },
  {
   "cell_type": "code",
   "execution_count": null,
   "id": "cf7df861",
   "metadata": {},
   "outputs": [],
   "source": [
    "model_full = models.resnet50(weights='DEFAULT').to(device)\n",
    "print(model_full)"
   ]
  },
  {
   "cell_type": "code",
   "execution_count": null,
   "id": "43499c1a",
   "metadata": {},
   "outputs": [],
   "source": [
    "modules=list(model_full.children())[:-1]\n",
    "model_no_fc=nn.Sequential(*modules)\n",
    "for p in model_no_fc.parameters():\n",
    "    p.requires_grad = False\n",
    "    \n",
    "print(model_no_fc)"
   ]
  },
  {
   "cell_type": "code",
   "execution_count": null,
   "id": "d1b0d7d2",
   "metadata": {},
   "outputs": [],
   "source": [
    "summary(model_no_fc,\n",
    "        input_size=(1, 3, 224, 224),\n",
    "        col_names=[\"input_size\", \"output_size\", \"num_params\"],\n",
    "        device=device\n",
    "       )"
   ]
  },
  {
   "cell_type": "code",
   "execution_count": null,
   "id": "aa0ff53e",
   "metadata": {},
   "outputs": [],
   "source": [
    "IMAGE_SIZE = (224,224)\n",
    "BASE_DIR = './datasets/caltech101'\n",
    "\n",
    "data_transforms = transforms.Compose([\n",
    "    transforms.Resize(size=IMAGE_SIZE), # делаем все картинки квадратными\n",
    "    transforms.ToTensor(), # преобразуем в тензор\n",
    "#     transforms.Normalize((0.485, 0.456, 0.406), (0.229, 0.224, 0.225)),\n",
    "])\n",
    "\n",
    "class ImageFolderWithPaths(datasets.ImageFolder):\n",
    "    def __getitem__(self, index):\n",
    "        img, label = super().__getitem__(index)\n",
    "        path = self.imgs[index][0]\n",
    "        return (img, label ,path)\n",
    "\n",
    "img_data = ImageFolderWithPaths(root=BASE_DIR,\n",
    "                                  transform=data_transforms, \n",
    "                                  target_transform=None)\n",
    "\n",
    "print(f\"Total number of images: {len(img_data)}\")\n",
    "\n",
    "np.random.seed(20231221)\n",
    "ix_random_image = np.random.choice(len(img_data))\n",
    "\n",
    "img, label, path = img_data[ix_random_image]\n",
    "print(f\"Image filename: {img_data.imgs[ix_random_image]}\")\n",
    "display(transforms.ToPILImage()(img))"
   ]
  },
  {
   "cell_type": "code",
   "execution_count": null,
   "id": "e7649233",
   "metadata": {},
   "outputs": [],
   "source": [
    "model_full.eval()\n",
    "results = model_full(img.unsqueeze(0).to(device))\n",
    "\n",
    "top = torch.sort(F.softmax(results, dim=1)[0] * 100, descending=True)\n",
    "predictions = [f\"{imagenet_classes[str(ix.cpu().item())][1]} - {pct:.2f}%\" \\\n",
    "               for pct, ix in zip(*top) ][:5]\n",
    "predictions"
   ]
  },
  {
   "cell_type": "markdown",
   "id": "19e185e2",
   "metadata": {},
   "source": [
    "А теперь получим эмбеддинг:"
   ]
  },
  {
   "cell_type": "code",
   "execution_count": null,
   "id": "7ab5018f",
   "metadata": {},
   "outputs": [],
   "source": [
    "fc_input = model_no_fc(img.unsqueeze(0).to(device))\n",
    "print(fc_input.shape, f\"Max: {fc_input.max()}, min: {fc_input.min()}\")\n",
    "\n",
    "fc_input = torch.flatten( fc_input, start_dim=1 )[0]\n",
    "\n",
    "embedding = fc_input / torch.sqrt(fc_input.dot(fc_input)) # нормализуем\n",
    "print(embedding)\n"
   ]
  },
  {
   "cell_type": "markdown",
   "id": "29faee79",
   "metadata": {},
   "source": [
    "#### ЗАДАНИЕ \n",
    "\n",
    "Напишите функцию, которая будет принимать на вход минибатч из изображений и возвращать pandas dataframe, содержащий имя файла в качестве индекса и 2048 признаков из ембеддинга. Названия фичей должны начинаться с префикса ```f...```, например, ```f0, f1, ..., f2048```."
   ]
  },
  {
   "cell_type": "code",
   "execution_count": null,
   "id": "a70d0828",
   "metadata": {},
   "outputs": [],
   "source": [
    "def get_embeddings(imgs: torch.tensor, paths) -> pd.DataFrame:\n",
    "    # ваш код здесь\n",
    "    \n",
    "    "
   ]
  },
  {
   "cell_type": "code",
   "execution_count": null,
   "id": "6934c26f",
   "metadata": {},
   "outputs": [],
   "source": [
    "BATCH_SIZE = 20\n",
    "loader = DataLoader(dataset=img_data, batch_size=BATCH_SIZE, shuffle=True)\n",
    "\n",
    "imgs, _, paths = next(iter(loader))\n",
    "\n",
    "get_embeddings(imgs.to(device), paths)"
   ]
  },
  {
   "cell_type": "code",
   "execution_count": null,
   "id": "b4584950",
   "metadata": {},
   "outputs": [],
   "source": [
    "%%time\n",
    "get_embeddings(imgs, paths)"
   ]
  },
  {
   "cell_type": "code",
   "execution_count": null,
   "id": "3e57d1b4",
   "metadata": {},
   "outputs": [],
   "source": [
    "df = None\n",
    "for imgs, _, paths in loader:\n",
    "    df_embds = get_embeddings(imgs, paths)\n",
    "    if df is None:\n",
    "        df = df_embds\n",
    "    else:\n",
    "        df = pd.concat([df, df_embds])\n",
    "        \n",
    "df"
   ]
  },
  {
   "cell_type": "code",
   "execution_count": null,
   "id": "dc45c741",
   "metadata": {},
   "outputs": [],
   "source": [
    "!pip install scikit-learn"
   ]
  },
  {
   "cell_type": "code",
   "execution_count": null,
   "id": "262e148f",
   "metadata": {},
   "outputs": [],
   "source": [
    "from sklearn.neighbors import NearestNeighbors\n",
    "\n",
    "neighbors = NearestNeighbors(n_neighbors=10,\n",
    "                             algorithm='brute',\n",
    "                             metric='euclidean').fit(df)"
   ]
  },
  {
   "cell_type": "code",
   "execution_count": null,
   "id": "4ad98244",
   "metadata": {},
   "outputs": [],
   "source": [
    "np.random.seed(2023122102)\n",
    "ix_random_image = np.random.choice(len(img_data))\n",
    "\n",
    "img = Image.open(df.iloc[ ix_random_image ].name)\n",
    "display(img)"
   ]
  },
  {
   "cell_type": "code",
   "execution_count": null,
   "id": "26d8b3b3",
   "metadata": {},
   "outputs": [],
   "source": [
    "distances, indices = neighbors.kneighbors(df.iloc[ [ix_random_image] ])\n",
    "print(distances)\n",
    "print(indices)\n",
    "df.iloc[ indices[0] ]"
   ]
  },
  {
   "cell_type": "code",
   "execution_count": null,
   "id": "f88366c4",
   "metadata": {},
   "outputs": [],
   "source": [
    "fig = plt.figure(figsize=(20, 2))\n",
    "for idx, (filename, row) in enumerate(df.iloc[ indices[0] ].iterrows()):\n",
    "    ax = fig.add_subplot(1, 10, idx+1, xticks=[], yticks=[])\n",
    "    ax.imshow(Image.open(row.name))\n",
    "    class_ = os.path.split(os.path.split(filename)[0])[1]\n",
    "    ax.set_title(class_)\n",
    "    \n",
    "plt.show()"
   ]
  },
  {
   "cell_type": "markdown",
   "id": "7dafbe7e",
   "metadata": {},
   "source": [
    "### ЗАДАНИЕ\n",
    "\n",
    "Загрузите в директорию с тетрадью любое изображение из интернета или с жесткого диска. Найдите похожие изображения в датасете CalTech101 и выведите их на экран."
   ]
  },
  {
   "cell_type": "code",
   "execution_count": null,
   "id": "3845076b",
   "metadata": {},
   "outputs": [],
   "source": [
    "# ваш код здесь\n",
    "\n"
   ]
  }
 ],
 "metadata": {
  "kernelspec": {
   "display_name": "Python 3 (ipykernel)",
   "language": "python",
   "name": "python3"
  },
  "language_info": {
   "codemirror_mode": {
    "name": "ipython",
    "version": 3
   },
   "file_extension": ".py",
   "mimetype": "text/x-python",
   "name": "python",
   "nbconvert_exporter": "python",
   "pygments_lexer": "ipython3",
   "version": "3.11.8"
  }
 },
 "nbformat": 4,
 "nbformat_minor": 5
}
